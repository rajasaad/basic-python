{
  "nbformat": 4,
  "nbformat_minor": 0,
  "metadata": {
    "colab": {
      "name": "Operators [Part-4].ipynb",
      "provenance": [],
      "collapsed_sections": []
    },
    "kernelspec": {
      "name": "python3",
      "display_name": "Python 3"
    }
  },
  "cells": [
    {
      "cell_type": "markdown",
      "metadata": {
        "id": "fq5Ae1ODZgq0",
        "colab_type": "text"
      },
      "source": [
        "# Operators [Part-4]"
      ]
    },
    {
      "cell_type": "markdown",
      "metadata": {
        "id": "-_vR_0fNZ4Bn",
        "colab_type": "text"
      },
      "source": [
        "Arithmetic Operators\n",
        "\n",
        "|Operator|Example|Meaning|Result|\n",
        "|--- |--- |--- |--- |\n",
        "|+|a + b|**Addition**|Sum operands a and b|\n",
        "|-|a - b|**Subtraction**|Subtracts operand b from a|\n",
        "|*|a * b|**Multiplication**|Take Product of operand a and b|\n",
        "|/|a / b|**Division**|Divides operand b by operand a and return float value|\n",
        "|%|a % b|**Modulo**|Returns remainder of a divided by b|\n",
        "|//|a // b|**Integer Division**|Divides operand b by operand a and return integer value|\n",
        "|**|a ** b|**Power**|Take power of operand a raised by power of b|\n"
      ]
    },
    {
      "cell_type": "code",
      "metadata": {
        "id": "a1HJjFWVZfVb",
        "colab_type": "code",
        "colab": {
          "base_uri": "https://localhost:8080/",
          "height": 139
        },
        "outputId": "30fedea8-fd97-46a3-a0aa-bc9aebdde057"
      },
      "source": [
        "# decalre and assign two variable for the operations\n",
        "a = 5\n",
        "b = 3\n",
        "\n",
        "# addition\n",
        "print(\"Addition:\", a + b)\n",
        "\n",
        "# subtraction\n",
        "print(\"Subtraction:\", a - b)\n",
        "\n",
        "# multiplication\n",
        "print(\"Multiplication:\", a * b)\n",
        "\n",
        "# division\n",
        "print(\"Division:\", a / b)\n",
        "\n",
        "# modulo\n",
        "print(\"Modulo:\", a % b)\n",
        "\n",
        "# integer division\n",
        "print(\"Integer Division:\", a // b)\n",
        "\n",
        "# power\n",
        "print(\"Power:\", a ** b)"
      ],
      "execution_count": 1,
      "outputs": [
        {
          "output_type": "stream",
          "text": [
            "Addition: 8\n",
            "Subtraction: 2\n",
            "Multiplication: 15\n",
            "Division: 1.6666666666666667\n",
            "Modulo: 2\n",
            "Integer Division: 1\n",
            "Power: 125\n"
          ],
          "name": "stdout"
        }
      ]
    },
    {
      "cell_type": "markdown",
      "metadata": {
        "id": "JEmDzyoYb1-J",
        "colab_type": "text"
      },
      "source": [
        "Assignment Operator\n",
        "\n",
        "|Operator|Example|Meaning|Result|\n",
        "|--- |--- |--- |--- |\n",
        "|=|a = 3|**Assignment**|Assigns the value of the left expression to the right operand|\n",
        "|=|a = b + c|**Compound Assignment**|Assigns the value of the left expression b + c by firts summing the two operands and assigning the value to the right operand|"
      ]
    },
    {
      "cell_type": "code",
      "metadata": {
        "id": "C8JlmVovbelZ",
        "colab_type": "code",
        "colab": {
          "base_uri": "https://localhost:8080/",
          "height": 69
        },
        "outputId": "3c7cbf84-440f-4ca7-b6cf-6b3a5378c444"
      },
      "source": [
        "# assignment operator\n",
        "a = 3\n",
        "print(\"a = \", a)\n",
        "\n",
        "# compound assignment\n",
        "b = a + 3 \n",
        "print(\"b = \", b)\n",
        "\n",
        "c = 2*a - 4*b\n",
        "print(\"c = \", c)"
      ],
      "execution_count": 2,
      "outputs": [
        {
          "output_type": "stream",
          "text": [
            "a =  3\n",
            "b =  6\n",
            "c =  -18\n"
          ],
          "name": "stdout"
        }
      ]
    },
    {
      "cell_type": "markdown",
      "metadata": {
        "id": "OakpyGR2cdRs",
        "colab_type": "text"
      },
      "source": [
        "Augmented Assignment Operators\n",
        "\n",
        "|Operator|Example|Meaning|Result|\n",
        "|--- |--- |--- |--- |\n",
        "|+=|a += 3|**Addition Assignment**|Adds value 3 to the variable `a` and then assign it to `a`|\n",
        "|-=|a -= 3|**Subtraction Assignment**|Subtracts value 3 from the variable `a` and then assign it to `a`|\n",
        "|*=|a *= 3|**Multiplication Assignment**|Take Product of `a` with 3 then assign it to `a`|\n",
        "|/=|a /= 3|**Division Assignment**|Divides `a` with 3 and then assigns it to `a` the flaot value|\n",
        "|%=|a %= 3|**Modulo Assignment**|Assigns the remainder of `a` divided by 3 to `a`|\n",
        "|//=|a // 3|**Integer Division Assignment**|Divides `a` with 3 and then assigns it to `a` the integer value|\n",
        "|**=|a **= 3|**Power Assignment**|Assigns the power of operand `a` raised by power of 3 to `a`|\n"
      ]
    },
    {
      "cell_type": "code",
      "metadata": {
        "id": "mWzdQrF_cQ14",
        "colab_type": "code",
        "colab": {
          "base_uri": "https://localhost:8080/",
          "height": 139
        },
        "outputId": "249b47a3-81a8-499f-d68e-425da041a44d"
      },
      "source": [
        "# decalre and assign two variable for the operations\n",
        "a = 5\n",
        "b = 3\n",
        "\n",
        "# addition\n",
        "a += b\n",
        "print(\"Addition Assignment:\", a)\n",
        "\n",
        "# subtraction\n",
        "a -= b\n",
        "print(\"Subtraction Assignment:\", a)\n",
        "\n",
        "# multiplication\n",
        "a *= b\n",
        "print(\"Multiplication Assignment:\", a)\n",
        "\n",
        "# division\n",
        "a /= b\n",
        "print(\"Division Assignment:\", a)\n",
        "\n",
        "# modulo\n",
        "a %= b\n",
        "print(\"Modulo Assignment:\", a)\n",
        "\n",
        "# power\n",
        "a **= b\n",
        "print(\"Power Assignment:\", a)\n",
        "\n",
        "# integer division\n",
        "a //= b\n",
        "print(\"Integer Division Assignment:\", a)"
      ],
      "execution_count": 7,
      "outputs": [
        {
          "output_type": "stream",
          "text": [
            "Addition Assignment: 8\n",
            "Subtraction Assignment: 5\n",
            "Multiplication Assignment: 15\n",
            "Division Assignment: 5.0\n",
            "Modulo Assignment: 2.0\n",
            "Power Assignment: 8.0\n",
            "Integer Division Assignment: 2.0\n"
          ],
          "name": "stdout"
        }
      ]
    },
    {
      "cell_type": "markdown",
      "metadata": {
        "id": "4OA_IqhMlEj3",
        "colab_type": "text"
      },
      "source": [
        "Comparision Operator\n",
        "\n",
        "|Operator|Example|Meaning|Result|\n",
        "|--- |--- |--- |--- |\n",
        "|==|a == b|**Equal to**|True if the value of left operand `a` is equal to the value of right operand `b`  otherwise False|\n",
        "|!=|a != b|**Not equal to**|True if value of left operand `a` is not equal to value of right operand `b` otherwise False|\n",
        "|<|a < b|**Less than**|True if value of left operand `a` is less than value of right operand `b` otherwise False|\n",
        "|<=|a <= b|**Less than or equal to**|True if value of left operand `a` is less than or equal to value of right operand `b` False otherwise|\n",
        "|>|a > b|**Greater than**|True if value of left operand `a` is greater than value of right operand `b` otherwise False|\n",
        "|>=|a >= b|**Greater than or equal to**|True if value of left operand `a` is greater than or equal to value of right operand `b` otherwise False|\n"
      ]
    },
    {
      "cell_type": "code",
      "metadata": {
        "id": "bmiGpoVoe9Dh",
        "colab_type": "code",
        "colab": {
          "base_uri": "https://localhost:8080/",
          "height": 121
        },
        "outputId": "f0dad5c1-a3be-40e5-ca86-3c2a5d7aac3b"
      },
      "source": [
        "# decalre and assign two variable for the operations\n",
        "a = 5\n",
        "b = 3\n",
        "\n",
        "# equal to\n",
        "print(\"Equal to:\", a == b)\n",
        "\n",
        "# not equat to\n",
        "print(\"Not Equal to:\", a != b)\n",
        "\n",
        "# less than\n",
        "print(\"Less Than:\", a < b)\n",
        "\n",
        "# less than or equal to\n",
        "print(\"Less Than or Equal to:\", a <= b)\n",
        "\n",
        "# greater than \n",
        "print(\"Greater Than:\", a > b)\n",
        "\n",
        "# greater than or equal to\n",
        "print(\"Greater Than or Equal to:\", a >= b)"
      ],
      "execution_count": 9,
      "outputs": [
        {
          "output_type": "stream",
          "text": [
            "Equal to: False\n",
            "Not Equal to: True\n",
            "Less Than: False\n",
            "Less Than or Equal to: False\n",
            "Greater Than: True\n",
            "Greater Than or Equal to: True\n"
          ],
          "name": "stdout"
        }
      ]
    },
    {
      "cell_type": "markdown",
      "metadata": {
        "id": "aiDtwR4DmzDZ",
        "colab_type": "text"
      },
      "source": [
        "Logical Operators\n",
        "\n",
        "|Operator|Example|Meaning|Result|\n",
        "|--- |--- |--- | --- |\n",
        "|not|not a|True if operand `a` is False and False if operand `a` is True. Basically, **compliments/negates** the variable |True or False|\n",
        "|or|a or b|True if either `a` **or** `b` operand is True otherwise False|True or False|\n",
        "|and|a and b|True if both `a` **and** `b` operand are True otherwise False|True or False|\n"
      ]
    },
    {
      "cell_type": "code",
      "metadata": {
        "id": "fLfF8irumWyu",
        "colab_type": "code",
        "colab": {
          "base_uri": "https://localhost:8080/",
          "height": 69
        },
        "outputId": "c670dc36-2ae1-4ea1-e24a-07365a6ef0a1"
      },
      "source": [
        "# boolean variables declaration and assignment\n",
        "a = True\n",
        "b = False\n",
        "\n",
        "# not operator\n",
        "print(\"NOT Operation on a:\", not a)\n",
        "\n",
        "# or operators\n",
        "print(\"OR Operation on a and b\", a or b)\n",
        "\n",
        "# and operation\n",
        "print(\"AND Operation on a and b\", a and b)"
      ],
      "execution_count": 12,
      "outputs": [
        {
          "output_type": "stream",
          "text": [
            "NOT Operation on a: False\n",
            "OR Operation on a and b True\n",
            "AND Operation on a and b False\n"
          ],
          "name": "stdout"
        }
      ]
    },
    {
      "cell_type": "markdown",
      "metadata": {
        "id": "ITeYwWz7oghu",
        "colab_type": "text"
      },
      "source": [
        "Identitiy Operations\n",
        "\n",
        "|Operator|Example|Meaning|Result|\n",
        "|--- |--- |--- | --- |\n",
        "|is|a is b|True if both operands `a` and `b` are **identical** otherwise False|True or False|\n",
        "|is not|a is not b|True both operand `a` and `b` are **not identical** otherwise False|True or False|\n"
      ]
    },
    {
      "cell_type": "code",
      "metadata": {
        "id": "7ySKAuRWnlAx",
        "colab_type": "code",
        "colab": {
          "base_uri": "https://localhost:8080/",
          "height": 87
        },
        "outputId": "93780047-8217-4882-93d5-6411a643cb09"
      },
      "source": [
        "# decalre and assign two variable for the operations\n",
        "a = 5\n",
        "b = 3\n",
        "c = a\n",
        "\n",
        "# is operator\n",
        "print(\"Check if a is b:\", a is b)\n",
        "print(\"Check if a is c:\", a is c)\n",
        "\n",
        "# is not operator\n",
        "print(\"Check if a is not b:\", a is not b)\n",
        "print(\"Check if a is not c:\", a is not c)"
      ],
      "execution_count": 16,
      "outputs": [
        {
          "output_type": "stream",
          "text": [
            "Check if a is b: False\n",
            "Check if a is c: True\n",
            "Check if a is not b: True\n",
            "Check if a is not c: False\n"
          ],
          "name": "stdout"
        }
      ]
    },
    {
      "cell_type": "markdown",
      "metadata": {
        "id": "xDX_u7FUppcf",
        "colab_type": "text"
      },
      "source": [
        "Membership operators\n",
        "\n",
        "|Operator|Example|Meaning|Result|\n",
        "|--- |--- |--- | --- |\n",
        "|in|a in b|True if sequence `a` **contains** operand `b` otherwise False e.g. `a = [1,2,3,4]` and `b =  3`|True or False|\n",
        "|not in|a not in b|True if sequence `a` does **not contains** operand `b` otherwise False e.g. `a = [1,2,3,4]` and `b =  10`|True or False|\n"
      ]
    },
    {
      "cell_type": "code",
      "metadata": {
        "id": "mqOHwChQo7t2",
        "colab_type": "code",
        "colab": {
          "base_uri": "https://localhost:8080/",
          "height": 52
        },
        "outputId": "c35b786d-77ba-48ed-f366-66a189db9104"
      },
      "source": [
        "# decalre a list [it will be covered later on]\n",
        "a = [1,2,3,4,5]\n",
        "b = 2\n",
        "\n",
        "# in operator\n",
        "print(\"Check if a in b:\", b in a)\n",
        "\n",
        "# not in operator\n",
        "print(\"Check if a not in b:\", b not in a)"
      ],
      "execution_count": 18,
      "outputs": [
        {
          "output_type": "stream",
          "text": [
            "Check if a in b: True\n",
            "Check if a not in b: False\n"
          ],
          "name": "stdout"
        }
      ]
    },
    {
      "cell_type": "markdown",
      "metadata": {
        "id": "34_tQQHNqbnY",
        "colab_type": "text"
      },
      "source": [
        "Bitwise Operators\n",
        "\n",
        "|Operator|Example|Meaning|Result|\n",
        "|--- |--- |--- |--- |\n",
        "|&|a & b|**bitwise AND**|Performs logical AND on each bit position of operand `a` and `b` and return 1 if both are 1, otherwise 0.|\n",
        "|`|`|a `|` b|**bitwise OR**|Performs logical OR on each bit position of operand `a` and `b` and return 0 if both of them are 0, otherwise 1.|\n",
        "|~|~a|**bitwise negation**|erforms logical Not on each bit position of operand `a` and return 1 if `a` is 0 or 0 if `a` is 1.|\n",
        "|^|a ^ b|**bitwise XOR**|erforms logical XOR on each bit position of operand `a` and `b` and return 1 if both bit are not same, otherwise 0.|\n",
        "|>>|a >> n|**Shift right n places**|Each bit is shifted right n places e.g. `2 >> 1` will result 1 i.e. 10 -> 01. Can be used to divide by 2|\n",
        "|<<|a << n|**Shift left n places**|Each bit is shifted left n places e.g. `2 << 1` will result in 4 i.e. 10 - > 100. Can be used to multiple by 2|\n"
      ]
    },
    {
      "cell_type": "code",
      "metadata": {
        "id": "t_8Cu1IHqJ_e",
        "colab_type": "code",
        "colab": {
          "base_uri": "https://localhost:8080/",
          "height": 121
        },
        "outputId": "f1eac2c9-29d6-4619-f5fc-925fd0df417c"
      },
      "source": [
        "# boolean variables declaration and assignment\n",
        "a = 2 # 0010\n",
        "b = 4 # 0100\n",
        "\n",
        "# & operator\n",
        "# a & b = 0 0 1 0\n",
        "#             &\n",
        "#         0 1 0 0\n",
        "#       = 0 0 0 0 -> 0 (Decimal)\n",
        "print(\"& bitwise operator:\", a & b)\n",
        "\n",
        "# ~ operator\n",
        "# ~a = ~ 0 0 1 0\n",
        "#   = -(0 0 1 0 + 1)\n",
        "#   = - 0 0 1 1\n",
        "#   = -3 (Decimal)\n",
        "print(\"~ bitwise operator:\", ~a)\n",
        "\n",
        "# | operator\n",
        "# a | b = 0 0 1 0\n",
        "#             |\n",
        "#         0 1 0 0\n",
        "#       = 0 1 1 0 -> 6 (Decimal)\n",
        "print(\"| bitwise operator:\", a | b)\n",
        "\n",
        "# ^ operator\n",
        "# a ^ b = 0 0 1 0\n",
        "#             ^\n",
        "#         0 1 0 0\n",
        "#       = 0 1 1 0 -> 6 (Decimal)\n",
        "print(\"^ bitwise operator:\", a ^ b)\n",
        "\n",
        "# >> operator\n",
        "# b >> 1 = 0 1 0 0\n",
        "#            >> 1\n",
        "#         0 0 1 0\n",
        "#       = 0 0 1 0 -> 2 (Decimal)\n",
        "print(\">> bitwise operator:\", b >> 1)\n",
        "\n",
        "# << operator\n",
        "# b << 1 = 0 1 0 0\n",
        "#            << 1\n",
        "#         1 0 0 0\n",
        "#       = 1 0 0 0 -> 8 (Decimal)\n",
        "print(\">> bitwise operator:\", b << 1)\n"
      ],
      "execution_count": 31,
      "outputs": [
        {
          "output_type": "stream",
          "text": [
            "& bitwise operator: 0\n",
            "~ bitwise operator: -3\n",
            "| bitwise operator: 6\n",
            "^ bitwise operator: 6\n",
            ">> bitwise operator: 2\n",
            ">> bitwise operator: 8\n"
          ],
          "name": "stdout"
        }
      ]
    }
  ]
}