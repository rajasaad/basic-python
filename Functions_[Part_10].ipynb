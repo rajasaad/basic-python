{
  "nbformat": 4,
  "nbformat_minor": 0,
  "metadata": {
    "colab": {
      "name": "Functions [Part-10].ipynb",
      "provenance": [],
      "collapsed_sections": []
    },
    "kernelspec": {
      "name": "python3",
      "display_name": "Python 3"
    }
  },
  "cells": [
    {
      "cell_type": "markdown",
      "metadata": {
        "id": "jAq0LIvWeKxd",
        "colab_type": "text"
      },
      "source": [
        "# Function\n",
        "\n",
        "Previously we have seen python's data structures in action for advanced handling and storing of real data, in this tutorial we will explore about python **functions** i.e. how to write your own custom functions. In **real world** problems, the solution code consists of thousands of lines of embedded logic for multiple tasks. Putting this all in one file and **repeating** a set of actions, again and again, is cumbersome as well make code harder to **debug** in later stages. Therefore, to make it more **readable** and convenient to use afterwards, it is divided into smaller but similar chunks which are **reusable** and **maintainable** also known as **functions**. In Python, a function is a cluster of similar lines of code that will perform a specific task e.g. initializing database, sending emails, fetching records etc. Functions help you in breaking down your complex program into smaller and modular chunks and allows your program to grow in an organized manner.tructures which we will explore in advance posts.\n",
        "\n",
        "### Syntax\n",
        "\n",
        "In Pyhon a function is defined using `def` keyword followed by `function_name` and parenthesis`()`."
      ]
    },
    {
      "cell_type": "code",
      "metadata": {
        "id": "5Rigm0x2dwIZ",
        "colab_type": "code",
        "colab": {}
      },
      "source": [
        "# def function_name(param):\n",
        "#   doc string | <code>\n",
        "#   <code>\n",
        "#   <cdoe>\n",
        "#   ....\n",
        "#   <code>\n",
        "#   return <expression>"
      ],
      "execution_count": 6,
      "outputs": []
    },
    {
      "cell_type": "markdown",
      "metadata": {
        "id": "jBJ329bgg6j6",
        "colab_type": "text"
      },
      "source": [
        ""
      ]
    },
    {
      "cell_type": "code",
      "metadata": {
        "id": "A6cqNKF4gueH",
        "colab_type": "code",
        "colab": {
          "base_uri": "https://localhost:8080/",
          "height": 69
        },
        "outputId": "bb54cab1-ae0a-47db-c72a-1fd4b21bbfa6"
      },
      "source": [
        "def greet_user(name):\n",
        "  '''\n",
        "  greets user with their name\n",
        "  param: name\n",
        "  return none\n",
        "  '''\n",
        "  print(f'Welcome {name} to World!')\n",
        "\n",
        "# calling same function again and again saves time and code\n",
        "greet_user('User1')\n",
        "greet_user('User2')\n",
        "greet_user('User3')"
      ],
      "execution_count": 7,
      "outputs": [
        {
          "output_type": "stream",
          "text": [
            "Welcome User1 to World!\n",
            "Welcome User2 to World!\n",
            "Welcome User3 to World!\n"
          ],
          "name": "stdout"
        }
      ]
    },
    {
      "cell_type": "markdown",
      "metadata": {
        "id": "Mw5CKcjVnYSL",
        "colab_type": "text"
      },
      "source": [
        "### Arguments\n",
        "To pass information into your functions `params` are used within parentheses`()` as arguments. You can add as many arguments as you want separated by comma and are required by default in python."
      ]
    },
    {
      "cell_type": "code",
      "metadata": {
        "id": "nFfLI2Uli-bB",
        "colab_type": "code",
        "colab": {
          "base_uri": "https://localhost:8080/",
          "height": 173
        },
        "outputId": "71713a92-54e5-4a8e-ef85-e76b089c1abf"
      },
      "source": [
        "def student_info(name, age, grade):\n",
        "  '''\n",
        "  shows student information\n",
        "  param: name\n",
        "  param: age\n",
        "  param: grade\n",
        "  return none\n",
        "  '''\n",
        "  print(f'Student Name: {name}\\nStudent Age: {age}\\nStudent Grade: {grade}')\n",
        "\n",
        "\n",
        "student_info(\"User1\", 22, 'A' )\n",
        "student_info(\"User2\", 23, 'B' )\n",
        "student_info(\"User3\", 21, 'A' )"
      ],
      "execution_count": 8,
      "outputs": [
        {
          "output_type": "stream",
          "text": [
            "Student Name: User1\n",
            "Student Age: 22\n",
            "Student Grade: A\n",
            "Student Name: User2\n",
            "Student Age: 23\n",
            "Student Grade: B\n",
            "Student Name: User3\n",
            "Student Age: 21\n",
            "Student Grade: A\n"
          ],
          "name": "stdout"
        }
      ]
    },
    {
      "cell_type": "markdown",
      "metadata": {
        "id": "bYuPM2WsuIU3",
        "colab_type": "text"
      },
      "source": [
        "###Types of Functions\n",
        "There are two types of function i) Task Performing ii) Return Value. In former type of function, a set of actions are performed and then it returns nothing and finishes e.g., printing some information. In the latter type of function, a set of actions are performed to return a value at the end e.g., returning total size of array len(), square of a value etc."
      ]
    },
    {
      "cell_type": "code",
      "metadata": {
        "id": "NvOtP1f8paQC",
        "colab_type": "code",
        "colab": {
          "base_uri": "https://localhost:8080/",
          "height": 35
        },
        "outputId": "61297faf-6dd8-4e11-c2f5-207c29985760"
      },
      "source": [
        "def square(num):\n",
        "  '''\n",
        "  returns square of input \n",
        "  num: number\n",
        "  return int\n",
        "  '''\n",
        "  return num ** 2\n",
        "\n",
        "print(f'Square of {2} is {square(2)}')"
      ],
      "execution_count": 9,
      "outputs": [
        {
          "output_type": "stream",
          "text": [
            "Square of 2 is 4\n"
          ],
          "name": "stdout"
        }
      ]
    },
    {
      "cell_type": "markdown",
      "metadata": {
        "id": "hlJyYilhv2re",
        "colab_type": "text"
      },
      "source": [
        "### Arguments vs Keyword Arguments\n",
        "Keyword arguments are passed with key and value as key = value while simple arguments are passed without any key. "
      ]
    },
    {
      "cell_type": "code",
      "metadata": {
        "id": "K2rkbbbIuh8R",
        "colab_type": "code",
        "colab": {
          "base_uri": "https://localhost:8080/",
          "height": 121
        },
        "outputId": "52b79533-aacf-423d-99f6-d17a753d0d40"
      },
      "source": [
        "# simple arguments\n",
        "student_info(\"User1\", 22, 'A' )\n",
        "\n",
        "# keyword arguments\n",
        "student_info(age = 22, grade = 'A', name = \"User1\" )\n"
      ],
      "execution_count": 10,
      "outputs": [
        {
          "output_type": "stream",
          "text": [
            "Student Name: User1\n",
            "Student Age: 22\n",
            "Student Grade: A\n",
            "Student Name: User1\n",
            "Student Age: 22\n",
            "Student Grade: A\n"
          ],
          "name": "stdout"
        }
      ]
    },
    {
      "cell_type": "markdown",
      "metadata": {
        "id": "lEK37qsRxySY",
        "colab_type": "text"
      },
      "source": [
        "### Arbitrary Arguments\n",
        "If number of argument is not known prior to input while writing the function, * can be used with a parameter in the function definition.  "
      ]
    },
    {
      "cell_type": "code",
      "metadata": {
        "id": "tDG8GKBgwEtT",
        "colab_type": "code",
        "colab": {
          "base_uri": "https://localhost:8080/",
          "height": 35
        },
        "outputId": "34b26a0f-80b7-4b50-e847-a703a27137d2"
      },
      "source": [
        "def multiply(*nums):\n",
        "  '''\n",
        "  calculates the product of numbers provided by multiplying them all\n",
        "  nums: tuple of numbers\n",
        "  return product\n",
        "  '''\n",
        "  product = 1\n",
        "\n",
        "  # iterate through all numbers\n",
        "  for num in nums:\n",
        "    product *= num\n",
        "\n",
        "  return product\n",
        "\n",
        "print(f'Prooduct of the 1,2,3,4,5 is {multiply(1,2,3,4,5)}')"
      ],
      "execution_count": 12,
      "outputs": [
        {
          "output_type": "stream",
          "text": [
            "Prooduct of the 1,2,3,4,5 is 120\n"
          ],
          "name": "stdout"
        }
      ]
    },
    {
      "cell_type": "markdown",
      "metadata": {
        "id": "_yWJ4TdR11b5",
        "colab_type": "text"
      },
      "source": [
        "### Scope of Variable\n",
        "A variable declared and defined inside the function is not available/ accessible outside its scope is known as local variable. It has short life span till the execution of function and is recycled after by the garbage collector. In contrast, global variables are declared in main body of code and are available everywhere with a caveat of using the keyword global inside a function for using."
      ]
    },
    {
      "cell_type": "code",
      "metadata": {
        "id": "Xxc0idJTyern",
        "colab_type": "code",
        "colab": {
          "base_uri": "https://localhost:8080/",
          "height": 52
        },
        "outputId": "ab26340e-55d7-45cc-856a-67eed636c98f"
      },
      "source": [
        "message = \"Hi this is Global message\"\n",
        "\n",
        "def greet():\n",
        "  message = \"Hi this is Local message\"\n",
        "\n",
        "# calling global variable\n",
        "print(message)\n",
        "\n",
        "# calling greet to change the varibale \n",
        "greet()\n",
        "\n",
        "# calling global variable again\n",
        "print(message)"
      ],
      "execution_count": 13,
      "outputs": [
        {
          "output_type": "stream",
          "text": [
            "Hi this is Global message\n",
            "Hi this is Global message\n"
          ],
          "name": "stdout"
        }
      ]
    },
    {
      "cell_type": "code",
      "metadata": {
        "id": "DULYM2w92xxI",
        "colab_type": "code",
        "colab": {
          "base_uri": "https://localhost:8080/",
          "height": 52
        },
        "outputId": "23fe500b-aeae-4ec1-9c52-0a75b4befe13"
      },
      "source": [
        "message = \"Hi this is Global message\"\n",
        "\n",
        "def greet():\n",
        "  global message\n",
        "  message = \"Hi this is Local message\"\n",
        "\n",
        "# calling global variable\n",
        "print(message)\n",
        "\n",
        "# calling greet to change the varibale \n",
        "greet()\n",
        "\n",
        "# calling global variable again\n",
        "print(message)"
      ],
      "execution_count": 15,
      "outputs": [
        {
          "output_type": "stream",
          "text": [
            "Hi this is Global message\n",
            "Hi this is Local message\n"
          ],
          "name": "stdout"
        }
      ]
    },
    {
      "cell_type": "code",
      "metadata": {
        "id": "BTBghKYX2_r3",
        "colab_type": "code",
        "colab": {}
      },
      "source": [
        ""
      ],
      "execution_count": null,
      "outputs": []
    }
  ]
}