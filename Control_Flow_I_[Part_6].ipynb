{
  "nbformat": 4,
  "nbformat_minor": 0,
  "metadata": {
    "colab": {
      "name": "Control Flow-I [Part-6].ipynb",
      "provenance": [],
      "collapsed_sections": []
    },
    "kernelspec": {
      "name": "python3",
      "display_name": "Python 3"
    }
  },
  "cells": [
    {
      "cell_type": "markdown",
      "metadata": {
        "id": "XfluOhiBiVZj",
        "colab_type": "text"
      },
      "source": [
        "## if Statement Syntax\n",
        "The basic syntax of if in python consists of conditional expression in statement followed by : and then in next line the code block."
      ]
    },
    {
      "cell_type": "code",
      "metadata": {
        "id": "iR_wE7M32pNG",
        "colab_type": "code",
        "colab": {
          "base_uri": "https://localhost:8080/",
          "height": 35
        },
        "outputId": "dca63b41-f529-4689-81d4-6ca87c395b2e"
      },
      "source": [
        "if True:\n",
        "  print(\"This is True\")"
      ],
      "execution_count": 1,
      "outputs": [
        {
          "output_type": "stream",
          "text": [
            "This is True\n"
          ],
          "name": "stdout"
        }
      ]
    },
    {
      "cell_type": "code",
      "metadata": {
        "id": "JwMYeJq5io1g",
        "colab_type": "code",
        "colab": {}
      },
      "source": [
        "if False:\n",
        "  print(\"This is False\")"
      ],
      "execution_count": 3,
      "outputs": []
    },
    {
      "cell_type": "code",
      "metadata": {
        "id": "UiCt2rYUisve",
        "colab_type": "code",
        "colab": {
          "base_uri": "https://localhost:8080/",
          "height": 35
        },
        "outputId": "55c24ebc-fb85-49af-c1c8-92c73de0d7ba"
      },
      "source": [
        "temperature_outside = 26\n",
        "\n",
        "# if temperature outside is less than 18 turn on heaters\n",
        "if temperature_outside < 18:\n",
        "  print(\"Turn on the Heaters, It cold outside.\")\n",
        "\n",
        "# out of the if statement\n",
        "print(f\"Today's temperature is:{temperature_outside} Celsius\")"
      ],
      "execution_count": 4,
      "outputs": [
        {
          "output_type": "stream",
          "text": [
            "Today's temperature is:26\n"
          ],
          "name": "stdout"
        }
      ]
    },
    {
      "cell_type": "markdown",
      "metadata": {
        "id": "OdAS_PTe2sl7",
        "colab_type": "text"
      },
      "source": [
        "## Nested if statements"
      ]
    },
    {
      "cell_type": "code",
      "metadata": {
        "id": "DmBYxCWDlLfs",
        "colab_type": "code",
        "colab": {
          "base_uri": "https://localhost:8080/",
          "height": 69
        },
        "outputId": "fa2e2256-a0e8-40b4-926f-dac587511e3f"
      },
      "source": [
        "temperature_outside = 12\n",
        "is_geyser_on = False\n",
        "\n",
        "# if temperature outside is less than 18 turn on heaters\n",
        "if temperature_outside < 18:\n",
        "  print(\"Turn on the Heaters, It cold outside.\")\n",
        "\n",
        "  if not is_geyser_on:\n",
        "    print(\"Turn on the Geyser\")\n",
        "\n",
        "# out of the if statement\n",
        "print(f\"Today's temperature is:{temperature_outside} Celsius\")"
      ],
      "execution_count": 6,
      "outputs": [
        {
          "output_type": "stream",
          "text": [
            "Turn on the Heaters, It cold outside.\n",
            "Turn on the Geyser\n",
            "Today's temperature is:12\n"
          ],
          "name": "stdout"
        }
      ]
    },
    {
      "cell_type": "markdown",
      "metadata": {
        "id": "qVYID9Or3mOo",
        "colab_type": "text"
      },
      "source": [
        "## elif statement"
      ]
    },
    {
      "cell_type": "code",
      "metadata": {
        "id": "1Os-ufuH3PDj",
        "colab_type": "code",
        "colab": {
          "base_uri": "https://localhost:8080/",
          "height": 52
        },
        "outputId": "8d686892-701e-43b2-e3a6-e51be2133edc"
      },
      "source": [
        "temperature_outside = 29\n",
        "is_geyser_on = False\n",
        "\n",
        "# if temperature outside is less than 18 turn on heaters\n",
        "if temperature_outside < 18:\n",
        "  print(\"Turn on the Heaters, It cold outside.\")\n",
        "\n",
        "  if not is_geyser_on:\n",
        "    print(\"Turn on the Geyser\")\n",
        "\n",
        "# if temperature outside is greater than 26 turn on AC\n",
        "elif temperature_outside > 26:\n",
        "    print(\"Turn on the Air Conditioner, It hot outside.\")\n",
        "\n",
        "    if is_geyser_on:\n",
        "      print(\"Turn off the Geyser\")\n",
        "\n",
        "\n",
        "# out of the if statement\n",
        "print(f\"Today's temperature is:{temperature_outside} Celsius\")"
      ],
      "execution_count": 10,
      "outputs": [
        {
          "output_type": "stream",
          "text": [
            "Turn on the Air Conditioner, It hot outside.\n",
            "Today's temperature is:29 Celsius\n"
          ],
          "name": "stdout"
        }
      ]
    },
    {
      "cell_type": "markdown",
      "metadata": {
        "id": "EJR7EA3F41Zk",
        "colab_type": "text"
      },
      "source": [
        "## else statement"
      ]
    },
    {
      "cell_type": "code",
      "metadata": {
        "id": "v7KuITHw4M7G",
        "colab_type": "code",
        "colab": {
          "base_uri": "https://localhost:8080/",
          "height": 52
        },
        "outputId": "71dc8e1e-380b-4f0c-ed81-cd95da582f82"
      },
      "source": [
        "temperature_outside = 22\n",
        "is_geyser_on = False\n",
        "\n",
        "# if temperature outside is less than 18 turn on heaters\n",
        "if temperature_outside < 18:\n",
        "  print(\"Turn on the Heaters, It cold outside.\")\n",
        "\n",
        "  if not is_geyser_on:\n",
        "    print(\"Turn on the Geyser\")\n",
        "\n",
        "# if temperature outside is greater than 26 turn on AC\n",
        "elif temperature_outside > 26:\n",
        "    print(\"Turn on the Air Conditioner, It hot outside.\")\n",
        "\n",
        "    if is_geyser_on:\n",
        "      print(\"Turn off the Geyser\")\n",
        "else:\n",
        "  print(\"It pleasant outside\")\n",
        "\n",
        "\n",
        "# out of the if statement\n",
        "print(f\"Today's temperature is:{temperature_outside} Celsius\")"
      ],
      "execution_count": 12,
      "outputs": [
        {
          "output_type": "stream",
          "text": [
            "It pleasant outside\n",
            "Today's temperature is:22 Celsius\n"
          ],
          "name": "stdout"
        }
      ]
    },
    {
      "cell_type": "markdown",
      "metadata": {
        "id": "GzlBTPoV9o6V",
        "colab_type": "text"
      },
      "source": [
        "## Ternary Operator"
      ]
    },
    {
      "cell_type": "code",
      "metadata": {
        "id": "UAd3uR9r5D9v",
        "colab_type": "code",
        "colab": {
          "base_uri": "https://localhost:8080/",
          "height": 52
        },
        "outputId": "397bf37f-e280-4207-b5e5-2f08093dea25"
      },
      "source": [
        "#temp variable\n",
        "temperature_outside = 26\n",
        "\n",
        "# check if its cold or hot\n",
        "if temperature_outside < 18:\n",
        "  print(\"It's cold\")\n",
        "else:\n",
        "  print(\"It's hot\")\n",
        "\n",
        "# out of the if statement\n",
        "print(f\"Today's temperature is:{temperature_outside} Celsius\")"
      ],
      "execution_count": 13,
      "outputs": [
        {
          "output_type": "stream",
          "text": [
            "It's hot\n",
            "Today's temperature is:26 Celsius\n"
          ],
          "name": "stdout"
        }
      ]
    },
    {
      "cell_type": "code",
      "metadata": {
        "id": "tFEExuSc9sB1",
        "colab_type": "code",
        "colab": {
          "base_uri": "https://localhost:8080/",
          "height": 52
        },
        "outputId": "f379ce99-4008-403f-f1c5-6d2ceff1bafb"
      },
      "source": [
        "#temp variable\n",
        "temperature_outside = 26\n",
        "\n",
        "# check if its cold or hot\n",
        "print(\"It's Cold\" if temperature_outside < 18 else \"It's hot\")\n",
        "\n",
        "# out of the if statement\n",
        "print(f\"Today's temperature is:{temperature_outside} Celsius\")"
      ],
      "execution_count": 17,
      "outputs": [
        {
          "output_type": "stream",
          "text": [
            "It's hot\n",
            "Today's temperature is:26 Celsius\n"
          ],
          "name": "stdout"
        }
      ]
    },
    {
      "cell_type": "markdown",
      "metadata": {
        "id": "-55zfqWy_cL1",
        "colab_type": "text"
      },
      "source": [
        "## Short Circuit"
      ]
    },
    {
      "cell_type": "code",
      "metadata": {
        "id": "ZLtImfKp-l5G",
        "colab_type": "code",
        "colab": {
          "base_uri": "https://localhost:8080/",
          "height": 52
        },
        "outputId": "8b667237-ebcb-40d7-d4e6-be37a34970df"
      },
      "source": [
        "#temp variable\n",
        "temperature_outside = 22\n",
        "\n",
        "# raining status\n",
        "is_raining = False\n",
        "\n",
        "# check if it's cold and raining\n",
        "if temperature_outside < 18 and is_raining:\n",
        "  print(\"It's cold and rainy\")\n",
        "\n",
        "elif temperature_outside > 18 and temperature_outside < 26 and not is_raining:\n",
        "  print(\"It's not raining and is pleasant outside\")\n",
        "\n",
        "# out of the if statement\n",
        "print(f\"Today's temperature is:{temperature_outside} Celsius\")"
      ],
      "execution_count": 22,
      "outputs": [
        {
          "output_type": "stream",
          "text": [
            "It's not raining and is pleasant outside\n",
            "Today's temperature is:22 Celsius\n"
          ],
          "name": "stdout"
        }
      ]
    },
    {
      "cell_type": "code",
      "metadata": {
        "id": "8-vb3zVZAFyr",
        "colab_type": "code",
        "colab": {
          "base_uri": "https://localhost:8080/",
          "height": 52
        },
        "outputId": "5d2774c1-77c8-4b3e-817e-4d49f09f07a4"
      },
      "source": [
        "#temp variable\n",
        "temperature_outside = 22\n",
        "\n",
        "# raining status\n",
        "is_raining = False\n",
        "\n",
        "# check if it's cold and raining\n",
        "if temperature_outside < 18 and is_raining:\n",
        "  print(\"It's cold and rainy\")\n",
        "\n",
        "elif  18 <= temperature_outside < 26 and not is_raining:\n",
        "  print(\"It's not raining and is pleasant outside\")\n",
        "\n",
        "# out of the if statement\n",
        "print(f\"Today's temperature is:{temperature_outside} Celsius\")"
      ],
      "execution_count": 23,
      "outputs": [
        {
          "output_type": "stream",
          "text": [
            "It's not raining and is pleasant outside\n",
            "Today's temperature is:22 Celsius\n"
          ],
          "name": "stdout"
        }
      ]
    },
    {
      "cell_type": "code",
      "metadata": {
        "id": "mPRg0-FaFzR3",
        "colab_type": "code",
        "colab": {}
      },
      "source": [
        ""
      ],
      "execution_count": null,
      "outputs": []
    }
  ]
}