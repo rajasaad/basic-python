{
  "nbformat": 4,
  "nbformat_minor": 0,
  "metadata": {
    "colab": {
      "name": "Control Flow-II [Part-7].ipynb",
      "provenance": [],
      "collapsed_sections": []
    },
    "kernelspec": {
      "name": "python3",
      "display_name": "Python 3"
    }
  },
  "cells": [
    {
      "cell_type": "markdown",
      "metadata": {
        "id": "G6Wqq3dKEdaL",
        "colab_type": "text"
      },
      "source": [
        "##Control Flow-II [Part-7]"
      ]
    },
    {
      "cell_type": "code",
      "metadata": {
        "id": "fE_1VGueENFZ",
        "colab_type": "code",
        "colab": {
          "base_uri": "https://localhost:8080/",
          "height": 104
        },
        "outputId": "d001dfbf-b499-4f2a-f769-a9bc4792bd4c"
      },
      "source": [
        "for i in range(5):\n",
        "    print(i)"
      ],
      "execution_count": 3,
      "outputs": [
        {
          "output_type": "stream",
          "text": [
            "0\n",
            "1\n",
            "2\n",
            "3\n",
            "4\n"
          ],
          "name": "stdout"
        }
      ]
    },
    {
      "cell_type": "code",
      "metadata": {
        "id": "QC3UKvPdEil_",
        "colab_type": "code",
        "colab": {
          "base_uri": "https://localhost:8080/",
          "height": 104
        },
        "outputId": "eddadd85-f6d6-4acd-d8cf-54b6c7fb89dc"
      },
      "source": [
        "for i in range(5):\n",
        "    print(\"*\"*i)"
      ],
      "execution_count": 2,
      "outputs": [
        {
          "output_type": "stream",
          "text": [
            "\n",
            "*\n",
            "**\n",
            "***\n",
            "****\n"
          ],
          "name": "stdout"
        }
      ]
    },
    {
      "cell_type": "code",
      "metadata": {
        "id": "pg4-G8KBEqJV",
        "colab_type": "code",
        "colab": {
          "base_uri": "https://localhost:8080/",
          "height": 35
        },
        "outputId": "5fc8a496-9036-49bd-8ed3-9a003f7826cf"
      },
      "source": [
        "sum = 0\n",
        "\n",
        "for i in range(9):\n",
        "\tsum = sum + i\n",
        "\n",
        "print(\"The sum is\", sum)"
      ],
      "execution_count": 4,
      "outputs": [
        {
          "output_type": "stream",
          "text": [
            "The sum is 36\n"
          ],
          "name": "stdout"
        }
      ]
    },
    {
      "cell_type": "markdown",
      "metadata": {
        "id": "1r9El_HwGsyN",
        "colab_type": "text"
      },
      "source": [
        "## Nested Loops"
      ]
    },
    {
      "cell_type": "code",
      "metadata": {
        "id": "MEuq388yFILv",
        "colab_type": "code",
        "colab": {
          "base_uri": "https://localhost:8080/",
          "height": 537
        },
        "outputId": "fc36ac16-4658-4023-a94d-27d1ca9a07ea"
      },
      "source": [
        "for i in range(3):\n",
        "  for j in range(10):\n",
        "    print(f\"Outer Loop {i} vs Inner Loop {j}\")"
      ],
      "execution_count": 6,
      "outputs": [
        {
          "output_type": "stream",
          "text": [
            "Outer Loop 0 vs Inner Loop 0\n",
            "Outer Loop 0 vs Inner Loop 1\n",
            "Outer Loop 0 vs Inner Loop 2\n",
            "Outer Loop 0 vs Inner Loop 3\n",
            "Outer Loop 0 vs Inner Loop 4\n",
            "Outer Loop 0 vs Inner Loop 5\n",
            "Outer Loop 0 vs Inner Loop 6\n",
            "Outer Loop 0 vs Inner Loop 7\n",
            "Outer Loop 0 vs Inner Loop 8\n",
            "Outer Loop 0 vs Inner Loop 9\n",
            "Outer Loop 1 vs Inner Loop 0\n",
            "Outer Loop 1 vs Inner Loop 1\n",
            "Outer Loop 1 vs Inner Loop 2\n",
            "Outer Loop 1 vs Inner Loop 3\n",
            "Outer Loop 1 vs Inner Loop 4\n",
            "Outer Loop 1 vs Inner Loop 5\n",
            "Outer Loop 1 vs Inner Loop 6\n",
            "Outer Loop 1 vs Inner Loop 7\n",
            "Outer Loop 1 vs Inner Loop 8\n",
            "Outer Loop 1 vs Inner Loop 9\n",
            "Outer Loop 2 vs Inner Loop 0\n",
            "Outer Loop 2 vs Inner Loop 1\n",
            "Outer Loop 2 vs Inner Loop 2\n",
            "Outer Loop 2 vs Inner Loop 3\n",
            "Outer Loop 2 vs Inner Loop 4\n",
            "Outer Loop 2 vs Inner Loop 5\n",
            "Outer Loop 2 vs Inner Loop 6\n",
            "Outer Loop 2 vs Inner Loop 7\n",
            "Outer Loop 2 vs Inner Loop 8\n",
            "Outer Loop 2 vs Inner Loop 9\n"
          ],
          "name": "stdout"
        }
      ]
    },
    {
      "cell_type": "code",
      "metadata": {
        "id": "-nT6U_n2IH7W",
        "colab_type": "code",
        "colab": {
          "base_uri": "https://localhost:8080/",
          "height": 52
        },
        "outputId": "0081989b-1967-419d-cf09-d92d42cc4242"
      },
      "source": [
        "for i in range(5):\n",
        "  if i == 2:\n",
        "    break\n",
        "  print(i)"
      ],
      "execution_count": 7,
      "outputs": [
        {
          "output_type": "stream",
          "text": [
            "0\n",
            "1\n"
          ],
          "name": "stdout"
        }
      ]
    },
    {
      "cell_type": "code",
      "metadata": {
        "id": "TWZrkAX7J3G1",
        "colab_type": "code",
        "colab": {
          "base_uri": "https://localhost:8080/",
          "height": 87
        },
        "outputId": "fa1bff63-2384-4423-8f5c-c7a8e9aed64a"
      },
      "source": [
        "for i in range(5):\n",
        "  if i == 2:\n",
        "    continue\n",
        "  print(i)"
      ],
      "execution_count": 8,
      "outputs": [
        {
          "output_type": "stream",
          "text": [
            "0\n",
            "1\n",
            "3\n",
            "4\n"
          ],
          "name": "stdout"
        }
      ]
    },
    {
      "cell_type": "code",
      "metadata": {
        "id": "lrW2zWWuJ40S",
        "colab_type": "code",
        "colab": {
          "base_uri": "https://localhost:8080/",
          "height": 121
        },
        "outputId": "1639a94a-9717-44ea-d5b2-eb527e8bd184"
      },
      "source": [
        "for i in range(5):\n",
        "  print(i)\n",
        "else:\n",
        "  print(\"Loop has ended\")"
      ],
      "execution_count": 10,
      "outputs": [
        {
          "output_type": "stream",
          "text": [
            "0\n",
            "1\n",
            "2\n",
            "3\n",
            "4\n",
            "Loop has ended\n"
          ],
          "name": "stdout"
        }
      ]
    },
    {
      "cell_type": "markdown",
      "metadata": {
        "id": "jDyXOPTTPwAQ",
        "colab_type": "text"
      },
      "source": [
        "# While Loop"
      ]
    },
    {
      "cell_type": "code",
      "metadata": {
        "id": "YwyZkx56LLaF",
        "colab_type": "code",
        "colab": {
          "base_uri": "https://localhost:8080/",
          "height": 104
        },
        "outputId": "7e71cb25-4d37-4311-c80b-0a5becf0da57"
      },
      "source": [
        "n = 0\n",
        "while n < 5:\n",
        "  print(n)\n",
        "  n += 1"
      ],
      "execution_count": 11,
      "outputs": [
        {
          "output_type": "stream",
          "text": [
            "0\n",
            "1\n",
            "2\n",
            "3\n",
            "4\n"
          ],
          "name": "stdout"
        }
      ]
    },
    {
      "cell_type": "code",
      "metadata": {
        "id": "qKEpLAQuP59j",
        "colab_type": "code",
        "colab": {
          "base_uri": "https://localhost:8080/",
          "height": 121
        },
        "outputId": "2a6ca991-c08c-46b4-b761-6445a3db764c"
      },
      "source": [
        "n = 0\n",
        "while n < 5:\n",
        "  print(n)\n",
        "  n += 1\n",
        "else:\n",
        "  print(\"Wile has ended\")"
      ],
      "execution_count": 12,
      "outputs": [
        {
          "output_type": "stream",
          "text": [
            "0\n",
            "1\n",
            "2\n",
            "3\n",
            "4\n",
            "Wile has ended\n"
          ],
          "name": "stdout"
        }
      ]
    },
    {
      "cell_type": "code",
      "metadata": {
        "id": "5BIJs5NRRfQY",
        "colab_type": "code",
        "colab": {}
      },
      "source": [
        ""
      ],
      "execution_count": null,
      "outputs": []
    }
  ]
}