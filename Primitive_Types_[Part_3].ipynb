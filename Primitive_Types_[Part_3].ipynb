{
  "nbformat": 4,
  "nbformat_minor": 0,
  "metadata": {
    "colab": {
      "name": "Primitive Types [Part-3].ipynb",
      "provenance": []
    },
    "kernelspec": {
      "name": "python3",
      "display_name": "Python 3"
    }
  },
  "cells": [
    {
      "cell_type": "markdown",
      "metadata": {
        "id": "ybY55MiFQybS",
        "colab_type": "text"
      },
      "source": [
        "Exploring attributes of an Object:\n",
        "\n",
        "1.   Id with function `id()`\n",
        "2.   Type with function `type()`\n",
        "3.   Value with simple reference of vaiable\n"
      ]
    },
    {
      "cell_type": "code",
      "metadata": {
        "id": "d5gUBh36QvXg",
        "colab_type": "code",
        "colab": {
          "base_uri": "https://localhost:8080/",
          "height": 69
        },
        "outputId": "c554e048-dd29-4453-d38e-24b6dbc1e05c"
      },
      "source": [
        "# declare a variable \n",
        "a = 5\n",
        "\n",
        "# print the id or mmemory reference of the value\n",
        "print(\"ID:\",id(a))\n",
        "\n",
        "# print the type of the variable\n",
        "print(\"Type:\",type(a))\n",
        "\n",
        "# print the value of the variable\n",
        "print(\"Value:\",a)"
      ],
      "execution_count": 18,
      "outputs": [
        {
          "output_type": "stream",
          "text": [
            "ID: 10914624\n",
            "Type: <class 'int'>\n",
            "Value: 5\n"
          ],
          "name": "stdout"
        }
      ]
    },
    {
      "cell_type": "code",
      "metadata": {
        "id": "WqpsPeNzRZeb",
        "colab_type": "code",
        "colab": {
          "base_uri": "https://localhost:8080/",
          "height": 69
        },
        "outputId": "3b3dec60-a1fc-435d-caea-ece187daee53"
      },
      "source": [
        "# changing the value of `a` to 10\n",
        "a = 10\n",
        "\n",
        "# print the id or mmemory reference of the value\n",
        "print(\"ID:\",id(a))\n",
        "\n",
        "# print the type of the variable\n",
        "print(\"Type:\",type(a))\n",
        "\n",
        "# print the value of the variable\n",
        "print(\"Value:\",a)\n"
      ],
      "execution_count": 19,
      "outputs": [
        {
          "output_type": "stream",
          "text": [
            "ID: 10914784\n",
            "Type: <class 'int'>\n",
            "Value: 10\n"
          ],
          "name": "stdout"
        }
      ]
    },
    {
      "cell_type": "code",
      "metadata": {
        "id": "zkYhunaUX5Md",
        "colab_type": "code",
        "colab": {
          "base_uri": "https://localhost:8080/",
          "height": 156
        },
        "outputId": "992ea9b2-c178-46bb-c2aa-e23961ab19d6"
      },
      "source": [
        "# whole number represented as integers\n",
        "\n",
        "# positive number\n",
        "positive_number = 5\n",
        "print(\"Positive Number:\", positive_number)\n",
        "print(\"Type:\",type(positive_number))\n",
        "\n",
        "# negative number\n",
        "negative_number = -3\n",
        "print(\"Negative Number:\", negative_number)\n",
        "print(\"Type:\",type(negative_number))\n",
        "\n",
        "# zero value\n",
        "zero_number = 0\n",
        "print(\"Zero Value:\", zero_number)\n",
        "print(\"Type:\",type(zero_number))\n",
        "\n",
        "# very large number\n",
        "large_number = 9999999999999999999999999999999999999\n",
        "print(\"Large Number:\", large_number)\n",
        "print(\"Type:\",type(large_number))\n",
        "\n"
      ],
      "execution_count": 20,
      "outputs": [
        {
          "output_type": "stream",
          "text": [
            "Positive Number: 5\n",
            "Type: <class 'int'>\n",
            "Negative Number: -3\n",
            "Type: <class 'int'>\n",
            "Zero Value: 0\n",
            "Type: <class 'int'>\n",
            "Large Number: 9999999999999999999999999999999999999\n",
            "Type: <class 'int'>\n"
          ],
          "name": "stdout"
        }
      ]
    },
    {
      "cell_type": "code",
      "metadata": {
        "id": "aCvGBM7gdu_e",
        "colab_type": "code",
        "colab": {
          "base_uri": "https://localhost:8080/",
          "height": 173
        },
        "outputId": "a6a74aa4-043b-4aee-9346-c6c39862b4ac"
      },
      "source": [
        "# rational number represented as floats\n",
        "\n",
        "# positive float number\n",
        "positive_number = 5.5\n",
        "print(\"Positive Number:\", positive_number)\n",
        "print(\"Type:\",type(positive_number))\n",
        "\n",
        "# negative float number\n",
        "negative_number = -3.5\n",
        "print(\"Negative Number:\", negative_number)\n",
        "print(\"Type:\",type(negative_number))\n",
        "\n",
        "# zero value\n",
        "zero_number = 0.5\n",
        "print(\"Zero Value:\", zero_number)\n",
        "print(\"Type:\",type(zero_number))\n",
        "\n",
        "# very large float number\n",
        "large_number = 9999999999999999999999999999999999999.0\n",
        "print(\"Large Number:\", large_number)\n",
        "print(\"Type:\",type(large_number))\n",
        "\n",
        "output = \"{:.1f}\".format(large_number)\n",
        "print(output)\n"
      ],
      "execution_count": 21,
      "outputs": [
        {
          "output_type": "stream",
          "text": [
            "Positive Number: 5.5\n",
            "Type: <class 'float'>\n",
            "Negative Number: -3.5\n",
            "Type: <class 'float'>\n",
            "Zero Value: 0.5\n",
            "Type: <class 'float'>\n",
            "Large Number: 1e+37\n",
            "Type: <class 'float'>\n",
            "9999999999999999538762658202121142272.0\n"
          ],
          "name": "stdout"
        }
      ]
    },
    {
      "cell_type": "code",
      "metadata": {
        "id": "e2hLKqmMfsS0",
        "colab_type": "code",
        "colab": {
          "base_uri": "https://localhost:8080/",
          "height": 121
        },
        "outputId": "b64f3d42-16c7-4a08-ce83-8264839f2dc8"
      },
      "source": [
        "# string are used to represent the textual data\n",
        "\n",
        "# string using single quotes\n",
        "single_quotes_string = 'saad'\n",
        "print(\"Single Quotes:\", single_quotes_string)\n",
        "print(\"Type:\",type(single_quotes_string))\n",
        "\n",
        "# string using the double quotes\n",
        "double_quotes_string = \"saad\"\n",
        "print(\"Double Quotes:\", double_quotes_string)\n",
        "print(\"Type:\",type(double_quotes_string))\n",
        "\n",
        "# string using the triple quotes single quotes\n",
        "triple_single_quotes_string = '''saad'''\n",
        "print(\"Triple Quotes:\", triple_single_quotes_string)\n",
        "print(\"Type:\",type(triple_single_quotes_string))\n"
      ],
      "execution_count": 22,
      "outputs": [
        {
          "output_type": "stream",
          "text": [
            "Single Quotes: saad\n",
            "Type: <class 'str'>\n",
            "Double Quotes: saad\n",
            "Type: <class 'str'>\n",
            "Triple Quotes: saad\n",
            "Type: <class 'str'>\n"
          ],
          "name": "stdout"
        }
      ]
    },
    {
      "cell_type": "code",
      "metadata": {
        "id": "epFS_Z00jsgV",
        "colab_type": "code",
        "colab": {
          "base_uri": "https://localhost:8080/",
          "height": 87
        },
        "outputId": "57012f4f-183b-4bd2-e3b7-c8939d7383f8"
      },
      "source": [
        "# boolean used for representing the truth values\n",
        "\n",
        "# bool showing true\n",
        "is_present = True\n",
        "print(\"Is present:\", is_present)\n",
        "print(\"Type:\",type(is_present))\n",
        "\n",
        "# bool showing false\n",
        "is_available = False\n",
        "print(\"Is available:\", is_available)\n",
        "print(\"Type:\",type(is_available))"
      ],
      "execution_count": 23,
      "outputs": [
        {
          "output_type": "stream",
          "text": [
            "Is present: True\n",
            "Type: <class 'bool'>\n",
            "Is available: False\n",
            "Type: <class 'bool'>\n"
          ],
          "name": "stdout"
        }
      ]
    },
    {
      "cell_type": "code",
      "metadata": {
        "id": "5AHCGIw-lnGy",
        "colab_type": "code",
        "colab": {
          "base_uri": "https://localhost:8080/",
          "height": 52
        },
        "outputId": "9842367c-096a-4eb3-d613-fb81c4431a0f"
      },
      "source": [
        "# complex numbers are represented using real and imaginary part\n",
        "\n",
        "# complex number\n",
        "complex_number = 3 + 4j\n",
        "print(\"Complex Number:\", complex_number)\n",
        "print(\"Type\", type(complex_number))"
      ],
      "execution_count": 24,
      "outputs": [
        {
          "output_type": "stream",
          "text": [
            "Complexx Number: (3+4j)\n",
            "Type <class 'complex'>\n"
          ],
          "name": "stdout"
        }
      ]
    },
    {
      "cell_type": "code",
      "metadata": {
        "id": "JeqPwATRo_HS",
        "colab_type": "code",
        "colab": {}
      },
      "source": [
        ""
      ],
      "execution_count": null,
      "outputs": []
    }
  ]
}