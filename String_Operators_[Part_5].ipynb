{
  "nbformat": 4,
  "nbformat_minor": 0,
  "metadata": {
    "colab": {
      "name": "String Operators [Part-5].ipynb",
      "provenance": [],
      "collapsed_sections": []
    },
    "kernelspec": {
      "name": "python3",
      "display_name": "Python 3"
    }
  },
  "cells": [
    {
      "cell_type": "markdown",
      "metadata": {
        "id": "MkLb1JGHNyoO",
        "colab_type": "text"
      },
      "source": [
        "## Escape Sequences\n",
        "\n",
        "|Escape Sequence|Example|Meaning|Result|\n",
        "|--- |--- |--- |--- |\n",
        "|\\n|Hi,\\nMy name is Saad|**New Line**|Hi,|\n",
        "|     |   |   | My name is Saad|\n",
        "| \\\\\\ |C:Users\\\\\\Saad\\\\\\Desktop|**Backslash**|C:Users\\Saad\\Desktop|\n",
        "| \\\\' |What\\\\'s up|**Single Quotes**|What's up|\n",
        "| \\\\\" | Did you watch \\\\\"Avengers\\\\\" movie? |**Double Quotes**| Did you watch \\\"Avengers\\\" movie?|\n",
        "|\\\\t| Hi, \\\\t There |**Tab**|Hi, &nbsp; &nbsp; &nbsp; &nbsp;There|"
      ]
    },
    {
      "cell_type": "code",
      "metadata": {
        "id": "UEbEOGJ5N3fb",
        "colab_type": "code",
        "colab": {
          "base_uri": "https://localhost:8080/",
          "height": 87
        },
        "outputId": "0d5cd30b-d3ee-463f-d1b4-86fc62758491"
      },
      "source": [
        "# using \\n for new line\n",
        "new_line = \"Hi, \\Saad Here\"\n",
        "print(\"New Line:\", new_line)\n",
        "\n",
        "# using single slash\n",
        "single_slash = \"File has been downloaded to C:\\\\Saad\\\\Downlaods\\\\new\"\n",
        "print(\"Single Slash:\", single_slash)\n",
        "\n",
        "# using single quotes\n",
        "single_quotes = \"Hi, What\\'s up\"\n",
        "print(\"Single Quotes:\", single_quotes)\n",
        "\n",
        "# using double quotes\n",
        "double_quotes = \"Did you watch \\\"The Avengers\\\" movie?\"\n",
        "print(\"Double Quotes:\", double_quotes)"
      ],
      "execution_count": null,
      "outputs": [
        {
          "output_type": "stream",
          "text": [
            "New Line: Hi, \\Saad Here\n",
            "Single Slash: File has been downloaded to C:\\Saad\\Downlaods\\new\n",
            "Single Quotes: Hi, What's up\n",
            "Double Quotes: Did you watch \"The Avengers\" movie?\n"
          ],
          "name": "stdout"
        }
      ]
    },
    {
      "cell_type": "markdown",
      "metadata": {
        "id": "I7JKJfR5D5_p",
        "colab_type": "text"
      },
      "source": [
        "##Raw Strings"
      ]
    },
    {
      "cell_type": "code",
      "metadata": {
        "id": "AMLsZYy_D13K",
        "colab_type": "code",
        "colab": {
          "base_uri": "https://localhost:8080/",
          "height": 69
        },
        "outputId": "08e3dd6b-1e7b-4ddd-ec72-a6ef32d8aa5c"
      },
      "source": [
        "# normal String\n",
        "normal_string = 'File has been downloaded to C:\\Saad\\Downlaods\\new'\n",
        "print(\"Normal String:\", normal_string)\n",
        "\n",
        "# raw string with prefix 'r'\n",
        "raw_string = r'File has been downloaded to C:\\Saad\\Downlaods\\new'\n",
        "print(\"Raw String:\", raw_string)"
      ],
      "execution_count": null,
      "outputs": [
        {
          "output_type": "stream",
          "text": [
            "Normal String: File has been downloaded to C:\\Saad\\Downlaods\n",
            "ew\n",
            "Raw String: File has been downloaded to C:\\Saad\\Downlaods\\new\n"
          ],
          "name": "stdout"
        }
      ]
    },
    {
      "cell_type": "code",
      "metadata": {
        "id": "NCwzp5BZEarO",
        "colab_type": "code",
        "colab": {
          "base_uri": "https://localhost:8080/",
          "height": 35
        },
        "outputId": "92e877e6-6035-4635-f026-960891f5d450"
      },
      "source": [
        "# caviates in raw strings\n",
        "\n",
        "# single / in string\n",
        "single_backslash = r'\\'\n",
        "print(\"Single Backslash:\", single_backslash)"
      ],
      "execution_count": null,
      "outputs": [
        {
          "output_type": "stream",
          "text": [
            "Single Backslash: \\'\n"
          ],
          "name": "stdout"
        }
      ]
    },
    {
      "cell_type": "markdown",
      "metadata": {
        "id": "QJDv_dP_MlpI",
        "colab_type": "text"
      },
      "source": [
        "## Basic Information"
      ]
    },
    {
      "cell_type": "code",
      "metadata": {
        "id": "MIyP5ceyMogm",
        "colab_type": "code",
        "colab": {
          "base_uri": "https://localhost:8080/",
          "height": 225
        },
        "outputId": "6ea72d84-01cd-4204-f81c-4f25c4417032"
      },
      "source": [
        "# get the basic infromtion regarding a string\n",
        "\n",
        "# define a sample string\n",
        "sample_string = \"This is a sample string\"\n",
        "\n",
        "# lenght of the string\n",
        "length = len(sample_string)\n",
        "print(\"Length of the String:\", length)\n",
        "\n",
        "# count the occurance of a character or characters\n",
        "a_occurance = sample_string.count('a')\n",
        "print(\"Occuracne of \\'a\\':\", a_occurance)\n",
        "\n",
        "# starting index of a charchter or chaaracters\n",
        "index_of_a = sample_string.index('a')\n",
        "print(\"Index of the \\'a\\'\", index_of_a)\n",
        "\n",
        "# index a character or charcters using find\n",
        "index_of_b = sample_string.find('b')\n",
        "print(\"Index of the \\'b\\'\", index_of_b)\n",
        "\n",
        "# check the start of a string\n",
        "starts_with_t = sample_string.startswith('T')\n",
        "print(\"Does steing starts with \\'t\\':\", starts_with_t)\n",
        "\n",
        "# check the end of the string\n",
        "end_with_t = sample_string.endswith('T')\n",
        "print(\"Does steing end with \\'t\\':\", end_with_t)\n",
        "\n",
        "# check the membership of a character or chracters\n",
        "is_a_present = 'a' in sample_string\n",
        "print(\"Is \\'a\\' in string:\", is_a_present)\n",
        "\n",
        "# check if string is alpha numeric using isalnum()\n",
        "print(\"Is alphanumeric:\", sample_string.isalnum())\n",
        "\n",
        "# check if string is numeric using isdigit()\n",
        "print(\"Is numeric:\", sample_string.isdigit())\n",
        "print(\"Is numeric (12345):\", \"12345\".isdigit()) # used a new string\n",
        "print(\"Is alphabets only:\", sample_string.isalpha())\n",
        "print(\"Is alphabets only (saad):\", \"Saad\".isalpha()) # used a new string "
      ],
      "execution_count": 17,
      "outputs": [
        {
          "output_type": "stream",
          "text": [
            "Length of the String: 23\n",
            "Occuracne of 'a': 2\n",
            "Index of the 'a' 8\n",
            "Index of the 'b' -1\n",
            "Does steing starts with 't': True\n",
            "Does steing end with 't': False\n",
            "Is 'a' in string: True\n",
            "Is alphanumeric: False\n",
            "Is numeric: False\n",
            "Is numeric (12345): True\n",
            "Is alphabets only: False\n",
            "Is alphabets only (saad): True\n"
          ],
          "name": "stdout"
        }
      ]
    },
    {
      "cell_type": "markdown",
      "metadata": {
        "id": "4uSlbSEbR1vY",
        "colab_type": "text"
      },
      "source": [
        "## Indexing and Slicing"
      ]
    },
    {
      "cell_type": "code",
      "metadata": {
        "id": "sNVdvb_pNPnt",
        "colab_type": "code",
        "colab": {
          "base_uri": "https://localhost:8080/",
          "height": 235
        },
        "outputId": "ee7a8b02-16cf-4f68-8f3f-803a7d32675b"
      },
      "source": [
        "# define a sample strign for indexing\n",
        "sample_string = \"Hello World\"\n",
        "\n",
        "# access the character a index 3\n",
        "print(\"Character at index 3 is:\", sample_string[3])\n",
        "\n",
        "\n",
        "# access the character at index 10\n",
        "print(\"Character at index 10 is:\", sample_string[10])\n",
        "\n",
        "\n",
        "# access the character at index 15\n",
        "print(\"Character at index 15 is:\", sample_string[15])\n"
      ],
      "execution_count": 10,
      "outputs": [
        {
          "output_type": "stream",
          "text": [
            "Character at index 3 is: l\n",
            "Character at index 10 is: d\n"
          ],
          "name": "stdout"
        },
        {
          "output_type": "error",
          "ename": "IndexError",
          "evalue": "ignored",
          "traceback": [
            "\u001b[0;31m---------------------------------------------------------------------------\u001b[0m",
            "\u001b[0;31mIndexError\u001b[0m                                Traceback (most recent call last)",
            "\u001b[0;32m<ipython-input-10-4e051f38243f>\u001b[0m in \u001b[0;36m<module>\u001b[0;34m()\u001b[0m\n\u001b[1;32m     11\u001b[0m \u001b[0;34m\u001b[0m\u001b[0m\n\u001b[1;32m     12\u001b[0m \u001b[0;31m# access the character at index 15\u001b[0m\u001b[0;34m\u001b[0m\u001b[0;34m\u001b[0m\u001b[0;34m\u001b[0m\u001b[0m\n\u001b[0;32m---> 13\u001b[0;31m \u001b[0mprint\u001b[0m\u001b[0;34m(\u001b[0m\u001b[0;34m\"Character at index 15 is:\"\u001b[0m\u001b[0;34m,\u001b[0m \u001b[0msample_string\u001b[0m\u001b[0;34m[\u001b[0m\u001b[0;36m15\u001b[0m\u001b[0;34m]\u001b[0m\u001b[0;34m)\u001b[0m\u001b[0;34m\u001b[0m\u001b[0;34m\u001b[0m\u001b[0m\n\u001b[0m",
            "\u001b[0;31mIndexError\u001b[0m: string index out of range"
          ]
        }
      ]
    },
    {
      "cell_type": "code",
      "metadata": {
        "id": "yWtUxHVDSRI7",
        "colab_type": "code",
        "colab": {
          "base_uri": "https://localhost:8080/",
          "height": 235
        },
        "outputId": "9128e962-c4e3-4b4a-ad40-f6d5d51e71ab"
      },
      "source": [
        "# define a sample strign for indexing\n",
        "sample_string = \"Hello World\"\n",
        "\n",
        "# access the character a index 3\n",
        "print(\"Character at index -3 is:\", sample_string[-3])\n",
        "\n",
        "\n",
        "# access the character at index 10\n",
        "print(\"Character at index -10 is:\", sample_string[-10])\n",
        "\n",
        "\n",
        "# access the character at index 15\n",
        "print(\"Character at index -15 is:\", sample_string[-15])\n"
      ],
      "execution_count": 11,
      "outputs": [
        {
          "output_type": "stream",
          "text": [
            "Character at index -3 is: r\n",
            "Character at index -10 is: e\n"
          ],
          "name": "stdout"
        },
        {
          "output_type": "error",
          "ename": "IndexError",
          "evalue": "ignored",
          "traceback": [
            "\u001b[0;31m---------------------------------------------------------------------------\u001b[0m",
            "\u001b[0;31mIndexError\u001b[0m                                Traceback (most recent call last)",
            "\u001b[0;32m<ipython-input-11-d044f9821d66>\u001b[0m in \u001b[0;36m<module>\u001b[0;34m()\u001b[0m\n\u001b[1;32m     11\u001b[0m \u001b[0;34m\u001b[0m\u001b[0m\n\u001b[1;32m     12\u001b[0m \u001b[0;31m# access the character at index 15\u001b[0m\u001b[0;34m\u001b[0m\u001b[0;34m\u001b[0m\u001b[0;34m\u001b[0m\u001b[0m\n\u001b[0;32m---> 13\u001b[0;31m \u001b[0mprint\u001b[0m\u001b[0;34m(\u001b[0m\u001b[0;34m\"Character at index -15 is:\"\u001b[0m\u001b[0;34m,\u001b[0m \u001b[0msample_string\u001b[0m\u001b[0;34m[\u001b[0m\u001b[0;34m-\u001b[0m\u001b[0;36m15\u001b[0m\u001b[0;34m]\u001b[0m\u001b[0;34m)\u001b[0m\u001b[0;34m\u001b[0m\u001b[0;34m\u001b[0m\u001b[0m\n\u001b[0m",
            "\u001b[0;31mIndexError\u001b[0m: string index out of range"
          ]
        }
      ]
    },
    {
      "cell_type": "code",
      "metadata": {
        "id": "bpp-nFD9TgDq",
        "colab_type": "code",
        "colab": {
          "base_uri": "https://localhost:8080/",
          "height": 87
        },
        "outputId": "d0f4d124-8df4-4b54-f195-45cb50eb54d1"
      },
      "source": [
        "# define a sample strign for indexing\n",
        "sample_string = \"Hello World\"\n",
        "\n",
        "# access the characters from 0 -> 5 \n",
        "print(\"Characters from 0 -> 5 are:\", sample_string[0:5])\n",
        "\n",
        "\n",
        "# access the characters from 6 -> 8 \n",
        "print(\"Characters from 6 -> 8 are:\", sample_string[6:8])\n",
        "\n",
        "\n",
        "# access the characters from -5 -> -5\n",
        "print(\"Characters from -5 -> -1 are:\", sample_string[-5:-1])"
      ],
      "execution_count": 21,
      "outputs": [
        {
          "output_type": "stream",
          "text": [
            "Characters from 0 -> 5 are: Hello\n",
            "Characters from 6 -> 8 are: Wo\n",
            "Characters from -5 -> -1 are: Worl\n",
            "Characters from -5 -> -1 are: llo World\n"
          ],
          "name": "stdout"
        }
      ]
    },
    {
      "cell_type": "code",
      "metadata": {
        "id": "FUpBPItcVxA6",
        "colab_type": "code",
        "colab": {
          "base_uri": "https://localhost:8080/",
          "height": 87
        },
        "outputId": "0ad8c3f3-3f7f-486d-92fe-fe017c095105"
      },
      "source": [
        "# access the characters from 0 -> 5\n",
        "print(\"Characters from 0 -> 5 are:\", sample_string[:5])\n",
        "\n",
        "# access the characters from 5 -> len\n",
        "print(\"Characters from 0 -> 5 are:\", sample_string[5:])\n",
        "\n",
        "# access the characters from 0 -> len -1\n",
        "print(\"Characters from 0 -> n-1 are:\", sample_string[:-1])\n",
        "\n",
        "# access the characters from -5 -> len\n",
        "print(\"Characters from 0 -> n-1 are:\", sample_string[-5:])"
      ],
      "execution_count": 27,
      "outputs": [
        {
          "output_type": "stream",
          "text": [
            "Characters from 0 -> 5 are: Hello\n",
            "Characters from 0 -> 5 are:  World\n",
            "Characters from 0 -> n-1 are: Hello Worl\n",
            "Characters from 0 -> n-1 are: World\n"
          ],
          "name": "stdout"
        }
      ]
    },
    {
      "cell_type": "markdown",
      "metadata": {
        "id": "S69r938Irnvd",
        "colab_type": "text"
      },
      "source": [
        "## String Manipulations"
      ]
    },
    {
      "cell_type": "markdown",
      "metadata": {
        "id": "6UVdovYVM8l5",
        "colab_type": "text"
      },
      "source": [
        "Concatenation"
      ]
    },
    {
      "cell_type": "code",
      "metadata": {
        "id": "llUZvsqUYah2",
        "colab_type": "code",
        "colab": {
          "base_uri": "https://localhost:8080/",
          "height": 87
        },
        "outputId": "c47b091a-6db8-442d-b5f7-434395d5451c"
      },
      "source": [
        "# declare two strings\n",
        "string_a = \"Hello\"\n",
        "string_b = \" World\" # intentionally added the space\n",
        "\n",
        "# joining two string\n",
        "joined = string_a + string_b\n",
        "print(\"Concatenated two string:\", joined)\n",
        "\n",
        "# defining a list which will be covered in later post\n",
        "splitted_sentence = [\"Hello\", \"World,\", \"This\", \"is\", \"Saad\"]\n",
        "joined_sentence = \" \".join(splitted_sentence) # identifier is \" \" space here\n",
        "print(\"Joined String on spaces:\",joined_sentence)\n",
        "\n",
        "joined_sentence = \"-\".join(splitted_sentence) # identifier is \"-\" dash here\n",
        "print(\"Joined String on dashhed:\",joined_sentence)\n",
        "\n",
        "joined_sentence = \";\".join(splitted_sentence) # identifier is \";\" semi-colon here\n",
        "print(\"Joined String on semi-colon:\",joined_sentence)"
      ],
      "execution_count": 26,
      "outputs": [
        {
          "output_type": "stream",
          "text": [
            "Concatenated two string: Hello World\n",
            "Joined String on spaces: Hello World, This is Saad\n",
            "Joined String on dashhed: Hello-World,-This-is-Saad\n",
            "Joined String on semi-colon: Hello;World,;This;is;Saad\n"
          ],
          "name": "stdout"
        }
      ]
    },
    {
      "cell_type": "markdown",
      "metadata": {
        "id": "2xAioRWVM_1b",
        "colab_type": "text"
      },
      "source": [
        "Duplication"
      ]
    },
    {
      "cell_type": "code",
      "metadata": {
        "id": "gaG3jZzrsFB2",
        "colab_type": "code",
        "colab": {
          "base_uri": "https://localhost:8080/",
          "height": 35
        },
        "outputId": "36039c4b-9e99-4e86-9741-29ac4b1dca23"
      },
      "source": [
        "# create multiple copies of the same string\n",
        "print(\"Repeat the str by 4 time:\", string_a * 4)"
      ],
      "execution_count": 30,
      "outputs": [
        {
          "output_type": "stream",
          "text": [
            "Repeat the str by 4 time: HelloHelloHelloHello\n"
          ],
          "name": "stdout"
        }
      ]
    },
    {
      "cell_type": "markdown",
      "metadata": {
        "id": "YOdvTgcYNDXo",
        "colab_type": "text"
      },
      "source": [
        "Splitting"
      ]
    },
    {
      "cell_type": "code",
      "metadata": {
        "id": "ApVTeKPytQ1T",
        "colab_type": "code",
        "colab": {
          "base_uri": "https://localhost:8080/",
          "height": 121
        },
        "outputId": "33b1d537-15eb-4ca6-ec70-b1b8a3c3ed5e"
      },
      "source": [
        "# define a sample string with some repetation\n",
        "sample_string = \"First partition. mid area. Last partition\"\n",
        "\n",
        "# splitting using the first partition method using '.' separator\n",
        "first_partition = sample_string.partition(\".\") # return the list including the separator\n",
        "print(\"Firts Partitioned data:\", first_partition)\n",
        "\n",
        "# splitting using the last partition method using '.' separator\n",
        "last_partition = sample_string.rpartition(\".\") # return the list including the separator\n",
        "print(\"Last Partitioned data:\", last_partition)\n",
        "\n",
        "# splitting using the all partition method using '.' separator\n",
        "all_partitions = sample_string.split(\".\") # return the list excluding the separator\n",
        "print(\"All Partitioned data:\", all_partitions)\n",
        "\n",
        "# splitting using the all partition method using '.' separator with limit\n",
        "all_partitions_lim = sample_string.split(\".\", 1) # return the list excluding the separator\n",
        "print(\"Limited Partitioned data:\", all_partitions)\n",
        "\n",
        "# splitting using the all reverse partition method using '.' separator\n",
        "rall_partitions = sample_string.rsplit(\".\") # return the list excluding the separator\n",
        "print(\"Reversed all Partitioned data:\", all_partitions_lim)\n",
        "\n",
        "# splitting using the all reverse partition method using '.' separator with limit\n",
        "rall_partitions_lim = sample_string.rsplit(\".\", 1) # return the list excluding the separator\n",
        "print(\"Reversed Limited Partitioned data:\", rall_partitions_lim)"
      ],
      "execution_count": 4,
      "outputs": [
        {
          "output_type": "stream",
          "text": [
            "Firts Partitioned data: ('First partition', '.', ' mid area. Last partition')\n",
            "Last Partitioned data: ('First partition. mid area', '.', ' Last partition')\n",
            "All Partitioned data: ['First partition', ' mid area', ' Last partition']\n",
            "Limited Partitioned data: ['First partition', ' mid area', ' Last partition']\n",
            "Reversed all Partitioned data: ['First partition', ' mid area. Last partition']\n",
            "Reversed Limited Partitioned data: ['First partition. mid area', ' Last partition']\n"
          ],
          "name": "stdout"
        }
      ]
    },
    {
      "cell_type": "markdown",
      "metadata": {
        "id": "7yewVuZTNFs1",
        "colab_type": "text"
      },
      "source": [
        "case changing"
      ]
    },
    {
      "cell_type": "code",
      "metadata": {
        "id": "6EPFbk9GYUKz",
        "colab_type": "code",
        "colab": {
          "base_uri": "https://localhost:8080/",
          "height": 87
        },
        "outputId": "ac71ca45-7eba-4bb3-befd-1b92ba8c27f2"
      },
      "source": [
        "# declarea string for case manipulation operations\n",
        "sample_string = \"SaAd Bashir\"\n",
        "\n",
        "# convert it to lowercase\n",
        "print(\"Lower Case:\", sample_string.lower())\n",
        "\n",
        "# convert it to UPPERCASE\n",
        "print(\"Upper Case:\", sample_string.upper())\n",
        "\n",
        "# convert it to swapcase\n",
        "print(\"Swap Case:\", sample_string.swapcase())\n",
        "\n",
        "# convert it to titlecase\n",
        "print(\"Title Case:\", sample_string.title())"
      ],
      "execution_count": 7,
      "outputs": [
        {
          "output_type": "stream",
          "text": [
            "Lower Case: saad bashir\n",
            "Upper Case: SAAD BASHIR\n",
            "Swap Case: sAaD bASHIR\n",
            "Title Case: Saad Bashir\n"
          ],
          "name": "stdout"
        }
      ]
    },
    {
      "cell_type": "markdown",
      "metadata": {
        "id": "r9xpKC5ENI0L",
        "colab_type": "text"
      },
      "source": [
        "Removing white spaces"
      ]
    },
    {
      "cell_type": "code",
      "metadata": {
        "id": "OCHe4toVM7Fm",
        "colab_type": "code",
        "colab": {
          "base_uri": "https://localhost:8080/",
          "height": 87
        },
        "outputId": "e0c5205f-d41e-4c35-e13a-4f3276f47221"
      },
      "source": [
        "# define a sample string with sapces\n",
        "sample_string = \"   This string    has some unwanted spaces   \"\n",
        "print(\"String with spaces:\", sample_string)\n",
        "\n",
        "# removing all the extract spaces from start and end\n",
        "print(\"Striping spaces:\", sample_string.strip(), \"# printing to check the spaces at the end\")\n",
        "\n",
        "# removing all the extract spaces from start\n",
        "print(\"Striping spaces from start:\", sample_string.lstrip(), \"# printing to check the spaces at the end\")\n",
        "\n",
        "# removing all the extract spaces from end\n",
        "print(\"Striping spaces from end:\", sample_string.rstrip(), \"# printing to check the spaces at the end\")"
      ],
      "execution_count": 23,
      "outputs": [
        {
          "output_type": "stream",
          "text": [
            "String with spaces:    This string    has some unwanted spaces   \n",
            "Striping spaces: This string    has some unwanted spaces # printing to check the spaces at the end\n",
            "Striping spaces from start: This string    has some unwanted spaces    # printing to check the spaces at the end\n",
            "Striping spaces from end:    This string    has some unwanted spaces # printing to check the spaces at the end\n"
          ],
          "name": "stdout"
        }
      ]
    },
    {
      "cell_type": "markdown",
      "metadata": {
        "id": "O74q5zh4RrL_",
        "colab_type": "text"
      },
      "source": [
        "## String Formatting"
      ]
    },
    {
      "cell_type": "code",
      "metadata": {
        "id": "tsWUpTbSNZ9p",
        "colab_type": "code",
        "colab": {
          "base_uri": "https://localhost:8080/",
          "height": 87
        },
        "outputId": "8ecb8d72-0785-4fb4-f818-af7beb8dfe52"
      },
      "source": [
        "# displaying todays temperature in a template\n",
        "temperature_template = \"Today date is {} and Highhest Temperature recorded was:{} degree celcius\"\n",
        "\n",
        "# required two values for the placeolders\n",
        "date = '7 July 2020'\n",
        "temp = 40\n",
        "\n",
        "print(\"Printing using format method\")\n",
        "\n",
        "# printing using the format method\n",
        "print(temperature_template.format(date, temp))\n",
        "\n",
        "print(\"Printing using f string\")\n",
        "\n",
        "# printing using the f-string method\n",
        "temperature_template = f\"Today date is {date} and Highhest Temperature recorded was:{temp} degree celcius\"\n",
        "print(temperature_template)\n",
        "\n"
      ],
      "execution_count": 27,
      "outputs": [
        {
          "output_type": "stream",
          "text": [
            "Printing using format method\n",
            "Today date is 7 July 2020 and Highhest Temperature recorded was:40 degree celcius\n",
            "Printing using f string\n",
            "Today date is 7 July 2020 and Highhest Temperature recorded was:40 degree celcius\n"
          ],
          "name": "stdout"
        }
      ]
    },
    {
      "cell_type": "code",
      "metadata": {
        "id": "whdOJiysSuNd",
        "colab_type": "code",
        "colab": {}
      },
      "source": [
        ""
      ],
      "execution_count": null,
      "outputs": []
    }
  ]
}