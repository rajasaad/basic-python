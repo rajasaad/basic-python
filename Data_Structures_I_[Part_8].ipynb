{
  "nbformat": 4,
  "nbformat_minor": 0,
  "metadata": {
    "colab": {
      "name": "Data Structures-I [Part-8].ipynb",
      "provenance": [],
      "collapsed_sections": []
    },
    "kernelspec": {
      "name": "python3",
      "display_name": "Python 3"
    }
  },
  "cells": [
    {
      "cell_type": "markdown",
      "metadata": {
        "id": "0KSAWHTdU7_x",
        "colab_type": "text"
      },
      "source": [
        "## Lists"
      ]
    },
    {
      "cell_type": "markdown",
      "metadata": {
        "id": "v_g4C0jrnFor",
        "colab_type": "text"
      },
      "source": [
        "List is a mutable data structure which contains an ordered collection of different data types e.g. list of numbers, strings, booleans or list of lists. You can store any sequence of comma , separated items in a list by enclosing them in square brackets []. As it's a mutable data type (i.e., it can be altered) so you can add, remove, modify and being ordered you can search and index for items in the list."
      ]
    },
    {
      "cell_type": "code",
      "metadata": {
        "id": "Isvkl8KQSmFD",
        "colab_type": "code",
        "colab": {}
      },
      "source": [
        "  # list of fruits\n",
        "  list_of_fruits = [\"apple\", \"orange\", \"banana\", \"grapes\", \"appricot\"]"
      ],
      "execution_count": 5,
      "outputs": []
    },
    {
      "cell_type": "code",
      "metadata": {
        "id": "096T0W4TVptd",
        "colab_type": "code",
        "colab": {
          "base_uri": "https://localhost:8080/",
          "height": 35
        },
        "outputId": "2d19d648-bac0-4b68-9199-8a0cf5667561"
      },
      "source": [
        "print(list_of_fruits)"
      ],
      "execution_count": 6,
      "outputs": [
        {
          "output_type": "stream",
          "text": [
            "['apple', 'orange', 'banana', 'grapes', 'appricot']\n"
          ],
          "name": "stdout"
        }
      ]
    },
    {
      "cell_type": "code",
      "metadata": {
        "id": "iGOtU30ggM-T",
        "colab_type": "code",
        "colab": {
          "base_uri": "https://localhost:8080/",
          "height": 87
        },
        "outputId": "9df5ae96-4c65-4f32-d09c-e393ab69e7b9"
      },
      "source": [
        "print(\"First two items\", list_of_fruits[0:2])\n",
        "print(\"Third item\", list_of_fruits[2])\n",
        "print(\"Last item\", list_of_fruits[-1])\n",
        "print(\"Slicing items\", list_of_fruits[2:4])"
      ],
      "execution_count": 19,
      "outputs": [
        {
          "output_type": "stream",
          "text": [
            "First two items ['apple', 'orange']\n",
            "Third item plums\n",
            "Last item appricot\n",
            "Slicing items ['plums', 'banana']\n"
          ],
          "name": "stdout"
        }
      ]
    },
    {
      "cell_type": "code",
      "metadata": {
        "id": "mpsITEq2VrqI",
        "colab_type": "code",
        "colab": {
          "base_uri": "https://localhost:8080/",
          "height": 52
        },
        "outputId": "8097d345-5e0f-44d8-d88e-905a002ec6f1"
      },
      "source": [
        "# adding more fruits to the list\n",
        "list_of_fruits.append(\"pears\")\n",
        "print(\"Adding pears using append()\", list_of_fruits)\n",
        "\n",
        "list_of_fruits.extend([\"mangoes\"])\n",
        "print(\"Adding mangoes using extend()\", list_of_fruits)"
      ],
      "execution_count": 7,
      "outputs": [
        {
          "output_type": "stream",
          "text": [
            "['apple', 'orange', 'banana', 'grapes', 'appricot', 'pears']\n",
            "['apple', 'orange', 'banana', 'grapes', 'appricot', 'pears', 'mangoes']\n"
          ],
          "name": "stdout"
        }
      ]
    },
    {
      "cell_type": "code",
      "metadata": {
        "id": "pz2HlRzaZ6ln",
        "colab_type": "code",
        "colab": {
          "base_uri": "https://localhost:8080/",
          "height": 253
        },
        "outputId": "7a0ed47f-54a4-4670-a22c-6556f377ac4a"
      },
      "source": [
        "# list of number\n",
        "list_of_number = [1,2,3,4]\n",
        "print(\"list of number\", list_of_number)\n",
        "\n",
        "# adding 5 to the list\n",
        "list_of_number.append(5)\n",
        "print(\"Added new item\", list_of_number)\n",
        "\n",
        "# adding 6 to the list\n",
        "list_of_number.extend(6)\n",
        "print(\"Added new item\", list_of_number)"
      ],
      "execution_count": 10,
      "outputs": [
        {
          "output_type": "stream",
          "text": [
            "list of number [1, 2, 3, 4]\n",
            "Added new item [1, 2, 3, 4, 5]\n"
          ],
          "name": "stdout"
        },
        {
          "output_type": "error",
          "ename": "TypeError",
          "evalue": "ignored",
          "traceback": [
            "\u001b[0;31m---------------------------------------------------------------------------\u001b[0m",
            "\u001b[0;31mTypeError\u001b[0m                                 Traceback (most recent call last)",
            "\u001b[0;32m<ipython-input-10-d90205481ea2>\u001b[0m in \u001b[0;36m<module>\u001b[0;34m()\u001b[0m\n\u001b[1;32m      8\u001b[0m \u001b[0;34m\u001b[0m\u001b[0m\n\u001b[1;32m      9\u001b[0m \u001b[0;31m# adding 6 to the list\u001b[0m\u001b[0;34m\u001b[0m\u001b[0;34m\u001b[0m\u001b[0;34m\u001b[0m\u001b[0m\n\u001b[0;32m---> 10\u001b[0;31m \u001b[0mlist_of_number\u001b[0m\u001b[0;34m.\u001b[0m\u001b[0mextend\u001b[0m\u001b[0;34m(\u001b[0m\u001b[0;36m6\u001b[0m\u001b[0;34m)\u001b[0m\u001b[0;34m\u001b[0m\u001b[0;34m\u001b[0m\u001b[0m\n\u001b[0m\u001b[1;32m     11\u001b[0m \u001b[0mprint\u001b[0m\u001b[0;34m(\u001b[0m\u001b[0;34m\"Added new item\"\u001b[0m\u001b[0;34m,\u001b[0m \u001b[0mlist_of_number\u001b[0m\u001b[0;34m)\u001b[0m\u001b[0;34m\u001b[0m\u001b[0;34m\u001b[0m\u001b[0m\n",
            "\u001b[0;31mTypeError\u001b[0m: 'int' object is not iterable"
          ]
        }
      ]
    },
    {
      "cell_type": "code",
      "metadata": {
        "id": "SYn4_j0caBQw",
        "colab_type": "code",
        "colab": {
          "base_uri": "https://localhost:8080/",
          "height": 52
        },
        "outputId": "02a3d3df-28bd-4df2-8126-3593af6fa0a3"
      },
      "source": [
        "# adding list to the list\n",
        "list_of_number.append([6,7,8,9])\n",
        "print(\"Added new items\", list_of_number)\n",
        "\n",
        "# adding list to the list\n",
        "list_of_number.extend([10,11,12,13])\n",
        "print(\"Added new items\", list_of_number)"
      ],
      "execution_count": 11,
      "outputs": [
        {
          "output_type": "stream",
          "text": [
            "Added new items [1, 2, 3, 4, 5, [6, 7, 8, 9]]\n",
            "Added new items [1, 2, 3, 4, 5, [6, 7, 8, 9], 10, 11, 12, 13]\n"
          ],
          "name": "stdout"
        }
      ]
    },
    {
      "cell_type": "code",
      "metadata": {
        "id": "H550Qtbsa-ts",
        "colab_type": "code",
        "colab": {
          "base_uri": "https://localhost:8080/",
          "height": 35
        },
        "outputId": "f18ca251-dd4b-4afa-da02-c4267ed767ad"
      },
      "source": [
        "# add plums to the second place\n",
        "list_of_fruits.insert(1, \"plums\")\n",
        "print(\"Plums added to the second place\", list_of_fruits)"
      ],
      "execution_count": 15,
      "outputs": [
        {
          "output_type": "stream",
          "text": [
            "Plums added to the second place ['apple', 'plums', 'orange', 'plums', 'banana', 'grapes', 'appricot', 'pears', 'mangoes']\n"
          ],
          "name": "stdout"
        }
      ]
    },
    {
      "cell_type": "code",
      "metadata": {
        "id": "C7GgDwPecs5B",
        "colab_type": "code",
        "colab": {
          "base_uri": "https://localhost:8080/",
          "height": 87
        },
        "outputId": "247d502c-d37b-4d93-9c76-aafd761b54eb"
      },
      "source": [
        "# removing item form the list\n",
        "\n",
        "# add a wrong item in the list\n",
        "list_of_fruits.append(\"onion\")\n",
        "print(\"List of fruits\", list_of_fruits)\n",
        "\n",
        "# removing onion from the list using remove\n",
        "list_of_fruits.remove(\"onion\")\n",
        "print(\"List of fruits\", list_of_fruits)\n",
        "\n",
        "# removing mangoes from the list using pop\n",
        "list_of_fruits.pop()\n",
        "print(\"List of fruits\", list_of_fruits)\n",
        "\n",
        "# removing plums using the del\n",
        "del list_of_fruits[1]\n",
        "print(\"List of fruits\", list_of_fruits)\n",
        "\n"
      ],
      "execution_count": 18,
      "outputs": [
        {
          "output_type": "stream",
          "text": [
            "List of fruits ['apple', 'plums', 'orange', 'plums', 'banana', 'grapes', 'appricot', 'pears', 'onion']\n",
            "List of fruits ['apple', 'plums', 'orange', 'plums', 'banana', 'grapes', 'appricot', 'pears']\n",
            "List of fruits ['apple', 'plums', 'orange', 'plums', 'banana', 'grapes', 'appricot']\n",
            "List of fruits ['apple', 'orange', 'plums', 'banana', 'grapes', 'appricot']\n"
          ],
          "name": "stdout"
        }
      ]
    },
    {
      "cell_type": "code",
      "metadata": {
        "id": "MDzgcvoIe--M",
        "colab_type": "code",
        "colab": {
          "base_uri": "https://localhost:8080/",
          "height": 35
        },
        "outputId": "9724e031-331d-4b7e-fbef-403b1b41878c"
      },
      "source": [
        "list_of_number.clear()\n",
        "print(list_of_number)"
      ],
      "execution_count": 20,
      "outputs": [
        {
          "output_type": "stream",
          "text": [
            "[]\n"
          ],
          "name": "stdout"
        }
      ]
    },
    {
      "cell_type": "code",
      "metadata": {
        "id": "Eo2UX2Y8hBOG",
        "colab_type": "code",
        "colab": {
          "base_uri": "https://localhost:8080/",
          "height": 35
        },
        "outputId": "18326c86-171d-4a9e-9150-9f30a0085f06"
      },
      "source": [
        "# list of list and mmixed types\n",
        "list_of_student = [[\"Alex\", 4, \"M\"], [\"Ben\", 3, \"M\"], [\"Emily\", 3, \"F\"]]\n",
        "print(\"List of students\", list_of_student)"
      ],
      "execution_count": 22,
      "outputs": [
        {
          "output_type": "stream",
          "text": [
            "List of students [['Alex', 4, 'M'], ['Ben', 3, 'M'], ['Emily', 3, 'F']]\n"
          ],
          "name": "stdout"
        }
      ]
    },
    {
      "cell_type": "code",
      "metadata": {
        "id": "2oLtVDjjhzQa",
        "colab_type": "code",
        "colab": {
          "base_uri": "https://localhost:8080/",
          "height": 69
        },
        "outputId": "f9f4e126-f916-4f80-cb2d-ef681118df26"
      },
      "source": [
        "# looping over the lists\n",
        "for student in list_of_student:\n",
        "  print(\"Name:\", student[0], \"Age:\", student[1], \"Gender:\", student[2])"
      ],
      "execution_count": 25,
      "outputs": [
        {
          "output_type": "stream",
          "text": [
            "Name: Alex Age: 4 Gender: M\n",
            "Name: Ben Age: 3 Gender: M\n",
            "Name: Emily Age: 3 Gender: F\n"
          ],
          "name": "stdout"
        }
      ]
    },
    {
      "cell_type": "code",
      "metadata": {
        "id": "FK1FsD3GibvN",
        "colab_type": "code",
        "colab": {
          "base_uri": "https://localhost:8080/",
          "height": 69
        },
        "outputId": "940ce86a-e866-497d-cc4c-1f5ea0449629"
      },
      "source": [
        "# looping over the lists with index\n",
        "for idx, student in enumerate(list_of_student):\n",
        "  print(\"idx\", idx, \"Name:\", student[0], \"Age:\", student[1], \"Gender:\", student[2])"
      ],
      "execution_count": 26,
      "outputs": [
        {
          "output_type": "stream",
          "text": [
            "idx 0 Name: Alex Age: 4 Gender: M\n",
            "idx 1 Name: Ben Age: 3 Gender: M\n",
            "idx 2 Name: Emily Age: 3 Gender: F\n"
          ],
          "name": "stdout"
        }
      ]
    },
    {
      "cell_type": "code",
      "metadata": {
        "id": "82T5oFyCjArz",
        "colab_type": "code",
        "colab": {
          "base_uri": "https://localhost:8080/",
          "height": 35
        },
        "outputId": "0732954e-ba52-459f-e5fb-ea4cfaa88fb3"
      },
      "source": [
        "# concatinate two lists\n",
        "list_a = [1, 2, 3]\n",
        "list_b = [4, 5, 6]\n",
        "\n",
        "list_c = list_a + list_b + list_of_fruits\n",
        "\n",
        "print(\"combined list\", list_c)"
      ],
      "execution_count": 29,
      "outputs": [
        {
          "output_type": "stream",
          "text": [
            "combined list [1, 2, 3, 4, 5, 6, 'apple', 'orange', 'plums', 'banana', 'grapes', 'appricot']\n"
          ],
          "name": "stdout"
        }
      ]
    },
    {
      "cell_type": "code",
      "metadata": {
        "id": "A_Bx22iwketX",
        "colab_type": "code",
        "colab": {
          "base_uri": "https://localhost:8080/",
          "height": 35
        },
        "outputId": "a896484d-e52e-4b73-89dc-dc1cce66e216"
      },
      "source": [
        "# replicated list\n",
        "\n",
        "list_of_10_a = ['a'] * 10\n",
        "print(\"list of a's\", list_of_10_a) "
      ],
      "execution_count": 30,
      "outputs": [
        {
          "output_type": "stream",
          "text": [
            "list of a's ['a', 'a', 'a', 'a', 'a', 'a', 'a', 'a', 'a', 'a']\n"
          ],
          "name": "stdout"
        }
      ]
    },
    {
      "cell_type": "code",
      "metadata": {
        "id": "gn__rB6YlA8q",
        "colab_type": "code",
        "colab": {
          "base_uri": "https://localhost:8080/",
          "height": 35
        },
        "outputId": "f1850f79-a5c5-4ca4-9c72-9110fa74066c"
      },
      "source": [
        "# len of the list\n",
        "print('length of the list is ', len(list_of_10_a))"
      ],
      "execution_count": 31,
      "outputs": [
        {
          "output_type": "stream",
          "text": [
            "length of the list is  10\n"
          ],
          "name": "stdout"
        }
      ]
    },
    {
      "cell_type": "code",
      "metadata": {
        "id": "57iIXjOAlWf6",
        "colab_type": "code",
        "colab": {
          "base_uri": "https://localhost:8080/",
          "height": 35
        },
        "outputId": "d984aa6d-d916-4b97-aa07-279aeb6a59f5"
      },
      "source": [
        "# converting itreable to list\n",
        "\n",
        "list_of_number = list(range(20))\n",
        "print(\"First 20 whole numbers\", list_of_number)"
      ],
      "execution_count": 32,
      "outputs": [
        {
          "output_type": "stream",
          "text": [
            "First 20 whole numbers [0, 1, 2, 3, 4, 5, 6, 7, 8, 9, 10, 11, 12, 13, 14, 15, 16, 17, 18, 19]\n"
          ],
          "name": "stdout"
        }
      ]
    },
    {
      "cell_type": "code",
      "metadata": {
        "id": "tyt08mWJnowO",
        "colab_type": "code",
        "colab": {}
      },
      "source": [
        ""
      ],
      "execution_count": null,
      "outputs": []
    }
  ]
}