{
  "nbformat": 4,
  "nbformat_minor": 0,
  "metadata": {
    "colab": {
      "name": "Data Structures-II [Part-9].ipynb",
      "provenance": [],
      "collapsed_sections": []
    },
    "kernelspec": {
      "name": "python3",
      "display_name": "Python 3"
    }
  },
  "cells": [
    {
      "cell_type": "markdown",
      "metadata": {
        "id": "7WgXYViRuask",
        "colab_type": "text"
      },
      "source": [
        "Previously, we have learnt in [part-8](https://https://www.saadbashir.io/data-structures-part-8/) about advance data structure **lists** in **Python**.  In this post post we will continue looking into some other advance data structures i.e., tuples, sets and dictionaries. The code for this post can be found here.\n",
        "\n",
        "##Tuples <br>\n",
        "Tuple is an **immutable** data structure which contains an ordered collection of different data types e.g. list of numbers, strings, booleans. You can store any sequence of comma , separated items in a list by enclosing them in parentheses () . As it's a **immutable** data type (i.e., it can **not** be altered) so you can **not** add, remove, modify items in a tuple and being **ordered** you can search and index for items in the tuple. <br>\n",
        "`Note: Tuples are read only lists.`"
      ]
    },
    {
      "cell_type": "code",
      "metadata": {
        "id": "dO7wrJyBxavB",
        "colab_type": "code",
        "colab": {}
      },
      "source": [
        "# tuple of fruits\n",
        "tuple_of_fruits = (\"apple\", \"orange\", \"banana\", \"grapes\", \"appricot\")"
      ],
      "execution_count": 3,
      "outputs": []
    },
    {
      "cell_type": "markdown",
      "metadata": {
        "id": "rtf1uSUFyD4D",
        "colab_type": "text"
      },
      "source": [
        "**Printing:** Tuples can be printed easily with the print() function"
      ]
    },
    {
      "cell_type": "code",
      "metadata": {
        "id": "JP53pzGaxdgk",
        "colab_type": "code",
        "colab": {
          "base_uri": "https://localhost:8080/",
          "height": 35
        },
        "outputId": "efcd4228-fd90-464d-ee31-31c8bae76d86"
      },
      "source": [
        "print(tuple_of_fruits)"
      ],
      "execution_count": 4,
      "outputs": [
        {
          "output_type": "stream",
          "text": [
            "('apple', 'orange', 'banana', 'grapes', 'appricot')\n"
          ],
          "name": "stdout"
        }
      ]
    },
    {
      "cell_type": "markdown",
      "metadata": {
        "id": "EYYGhUxWyH4U",
        "colab_type": "text"
      },
      "source": [
        "**Indexing:** Items in tuples can be accessed using the same indexing we have explored in the strings."
      ]
    },
    {
      "cell_type": "code",
      "metadata": {
        "id": "bZtqVMwIxkp1",
        "colab_type": "code",
        "colab": {
          "base_uri": "https://localhost:8080/",
          "height": 87
        },
        "outputId": "fe321b21-de79-4c85-d752-9a2e819f7c0c"
      },
      "source": [
        "# indexing in tuples\n",
        "\n",
        "print(\"First two items\", tuple_of_fruits[0:2])\n",
        "print(\"Third item\", tuple_of_fruits[2])\n",
        "print(\"Last item\", tuple_of_fruits[-1])\n",
        "print(\"Slicing items\", tuple_of_fruits[2:4])"
      ],
      "execution_count": 6,
      "outputs": [
        {
          "output_type": "stream",
          "text": [
            "First two items ('apple', 'orange')\n",
            "Third item banana\n",
            "Last item appricot\n",
            "Slicing items ('banana', 'grapes')\n"
          ],
          "name": "stdout"
        }
      ]
    },
    {
      "cell_type": "markdown",
      "metadata": {
        "id": "GQpVvBNe4NZt",
        "colab_type": "text"
      },
      "source": [
        "**Manipulation:** Being immutable data type no manipulation operation can be performed one tuples."
      ]
    },
    {
      "cell_type": "code",
      "metadata": {
        "id": "QAP0_eAEyN_h",
        "colab_type": "code",
        "colab": {
          "base_uri": "https://localhost:8080/",
          "height": 183
        },
        "outputId": "c7363907-35ec-4b38-8ebb-168c6a9285e4"
      },
      "source": [
        "# changing an item in tuple\n",
        "tuple_of_fruits[2] = \"water melon\""
      ],
      "execution_count": 7,
      "outputs": [
        {
          "output_type": "error",
          "ename": "TypeError",
          "evalue": "ignored",
          "traceback": [
            "\u001b[0;31m---------------------------------------------------------------------------\u001b[0m",
            "\u001b[0;31mTypeError\u001b[0m                                 Traceback (most recent call last)",
            "\u001b[0;32m<ipython-input-7-cad54a0b909d>\u001b[0m in \u001b[0;36m<module>\u001b[0;34m()\u001b[0m\n\u001b[1;32m      1\u001b[0m \u001b[0;31m# changing an item in tuple\u001b[0m\u001b[0;34m\u001b[0m\u001b[0;34m\u001b[0m\u001b[0;34m\u001b[0m\u001b[0m\n\u001b[0;32m----> 2\u001b[0;31m \u001b[0mtuple_of_fruits\u001b[0m\u001b[0;34m[\u001b[0m\u001b[0;36m2\u001b[0m\u001b[0;34m]\u001b[0m \u001b[0;34m=\u001b[0m \u001b[0;34m\"water melon\"\u001b[0m\u001b[0;34m\u001b[0m\u001b[0;34m\u001b[0m\u001b[0m\n\u001b[0m",
            "\u001b[0;31mTypeError\u001b[0m: 'tuple' object does not support item assignment"
          ]
        }
      ]
    },
    {
      "cell_type": "markdown",
      "metadata": {
        "id": "CyrvYXQ24zZ7",
        "colab_type": "text"
      },
      "source": [
        "**Mixed Nested Tuples:** Tuples can be made up of different data types and can be nested e.g. tuple containing details of students."
      ]
    },
    {
      "cell_type": "code",
      "metadata": {
        "id": "EtTztrkh4eu6",
        "colab_type": "code",
        "colab": {
          "base_uri": "https://localhost:8080/",
          "height": 35
        },
        "outputId": "5623677b-80dc-4466-9e8c-0f2b40de6dc4"
      },
      "source": [
        "# tuple of list and mmixed types\n",
        "tuple_of_student = ([\"Alex\", 4, \"M\"], [\"Ben\", 3, \"M\"], [\"Emily\", 3, \"F\"])\n",
        "print(\"List of students\", tuple_of_student)"
      ],
      "execution_count": 8,
      "outputs": [
        {
          "output_type": "stream",
          "text": [
            "List of students (['Alex', 4, 'M'], ['Ben', 3, 'M'], ['Emily', 3, 'F'])\n"
          ],
          "name": "stdout"
        }
      ]
    },
    {
      "cell_type": "markdown",
      "metadata": {
        "id": "Tt6kh8aS5VzO",
        "colab_type": "text"
      },
      "source": [
        "**Note**:` As this tuple can't be changed but mutable types in tuple can be altered e.g., we can changed Alex's age as it's a list.`"
      ]
    },
    {
      "cell_type": "code",
      "metadata": {
        "id": "wzDKGVLZ5Ar7",
        "colab_type": "code",
        "colab": {
          "base_uri": "https://localhost:8080/",
          "height": 35
        },
        "outputId": "9db7283d-fd49-48c0-e45b-8de915aa99c7"
      },
      "source": [
        "# changing Alex's age\n",
        "tuple_of_student[0][1] = 6\n",
        "print(\"List of students\", tuple_of_student)"
      ],
      "execution_count": 10,
      "outputs": [
        {
          "output_type": "stream",
          "text": [
            "List of students (['Alex', 6, 'M'], ['Ben', 3, 'M'], ['Emily', 3, 'F'])\n"
          ],
          "name": "stdout"
        }
      ]
    },
    {
      "cell_type": "markdown",
      "metadata": {
        "id": "WsZP7vqF50hh",
        "colab_type": "text"
      },
      "source": [
        "**Looping:** List can be iterated using the simple loops or using enumerate() function."
      ]
    },
    {
      "cell_type": "code",
      "metadata": {
        "id": "70ZbYDU65jU3",
        "colab_type": "code",
        "colab": {
          "base_uri": "https://localhost:8080/",
          "height": 69
        },
        "outputId": "b944184a-c660-49bc-f0be-eb183f5c9e48"
      },
      "source": [
        "# looping over the tuples\n",
        "for student in tuple_of_student:\n",
        "  print(\"Name:\", student[0], \"Age:\", student[1], \"Gender:\", student[2])"
      ],
      "execution_count": 11,
      "outputs": [
        {
          "output_type": "stream",
          "text": [
            "Name: Alex Age: 6 Gender: M\n",
            "Name: Ben Age: 3 Gender: M\n",
            "Name: Emily Age: 3 Gender: F\n"
          ],
          "name": "stdout"
        }
      ]
    },
    {
      "cell_type": "markdown",
      "metadata": {
        "id": "gftLset46LXG",
        "colab_type": "text"
      },
      "source": [
        "**Joining**: Two or more tuples can be concatenated using the + operator.\n",
        "\n"
      ]
    },
    {
      "cell_type": "code",
      "metadata": {
        "id": "Pf-MoT6o5659",
        "colab_type": "code",
        "colab": {
          "base_uri": "https://localhost:8080/",
          "height": 35
        },
        "outputId": "62a2affc-6a2d-41e5-e71c-e401c354a06b"
      },
      "source": [
        "# concatinate two tuples\n",
        "tuple_a = (1, 2, 3)\n",
        "tuple_b = (4, 5, 6)\n",
        "\n",
        "tuple_c = tuple_a + tuple_b \n",
        "\n",
        "print(\"combined tuple\", tuple_c)"
      ],
      "execution_count": 12,
      "outputs": [
        {
          "output_type": "stream",
          "text": [
            "combined tuple (1, 2, 3, 4, 5, 6)\n"
          ],
          "name": "stdout"
        }
      ]
    },
    {
      "cell_type": "markdown",
      "metadata": {
        "id": "mAJYUO7S7Geq",
        "colab_type": "text"
      },
      "source": [
        "**Repetition**: Tuples can be repeated using the * operator."
      ]
    },
    {
      "cell_type": "code",
      "metadata": {
        "id": "TFqUeU7i6u5F",
        "colab_type": "code",
        "colab": {
          "base_uri": "https://localhost:8080/",
          "height": 35
        },
        "outputId": "2ccfbed5-bf39-400b-8f8f-2cea3d22afb0"
      },
      "source": [
        "# replicated tuple\n",
        "\n",
        "tuple_of_10_a = ('a') * 10\n",
        "print(\"tuple of a's\", tuple_of_10_a) "
      ],
      "execution_count": 13,
      "outputs": [
        {
          "output_type": "stream",
          "text": [
            "tuple of a's aaaaaaaaaa\n"
          ],
          "name": "stdout"
        }
      ]
    },
    {
      "cell_type": "markdown",
      "metadata": {
        "id": "cSEl3eHe8gX9",
        "colab_type": "text"
      },
      "source": [
        "Similarly, whatever is possible with lists is possible with tuples other than being immutable there is no difference. Here are some advantages of tuples over lists.\n",
        "\n",
        "*   Tuples are fast as they are immutable and read-only is generally fast. \n",
        "*   Tuples can be used a key's in dictionaries (up next we will learn).\n",
        "*   Tuples guarantee write-proteted data as long as it has all immutable data types.\n",
        "\n",
        "\n",
        "\n"
      ]
    },
    {
      "cell_type": "markdown",
      "metadata": {
        "id": "E-1SPlTMAN4G",
        "colab_type": "text"
      },
      "source": [
        "##Sets\n",
        "Set is a **mutable** but **unordered** data structure with no duplicates in it i.e., it's a collection of **unique** items. Items however in sets should be immutable. It matches the defination of set from maths, therefore, mathematical operations like **union**, **intersection** and **difference** etc can also be peofrmed on sets. A set is created by putting in items inside curly braces {} separated by comma."
      ]
    },
    {
      "cell_type": "code",
      "metadata": {
        "id": "vHUGibxYAVHH",
        "colab_type": "code",
        "colab": {}
      },
      "source": [
        "# set of natural number\n",
        "set_a = {1,2,3,4,5,6,6,6}"
      ],
      "execution_count": 15,
      "outputs": []
    },
    {
      "cell_type": "code",
      "metadata": {
        "id": "3EEIzkdFAxwN",
        "colab_type": "code",
        "colab": {
          "base_uri": "https://localhost:8080/",
          "height": 35
        },
        "outputId": "e89f8ac3-cc04-433b-d495-0261971c7c00"
      },
      "source": [
        "print(set_a)"
      ],
      "execution_count": 16,
      "outputs": [
        {
          "output_type": "stream",
          "text": [
            "{1, 2, 3, 4, 5, 6}\n"
          ],
          "name": "stdout"
        }
      ]
    },
    {
      "cell_type": "markdown",
      "metadata": {
        "id": "RcprOzW_B9UF",
        "colab_type": "text"
      },
      "source": [
        "**Indexing**: Items in sets can not be accessed using indexing as it is an unordered data structure.<br>\n",
        "**Manipulation**: Being mutable data type manipulation operations (add, update and delete) can be performed on sets."
      ]
    },
    {
      "cell_type": "code",
      "metadata": {
        "id": "ZzUqJ6dhA0Kw",
        "colab_type": "code",
        "colab": {
          "base_uri": "https://localhost:8080/",
          "height": 35
        },
        "outputId": "c90e4014-9ead-4c05-ddea-c32e28264a6b"
      },
      "source": [
        "# add one element in set\n",
        "set_a.add(7)\n",
        "print(\"Updated set\", set_a)"
      ],
      "execution_count": 19,
      "outputs": [
        {
          "output_type": "stream",
          "text": [
            "Updated set {1, 2, 3, 4, 5, 6, 7}\n"
          ],
          "name": "stdout"
        }
      ]
    },
    {
      "cell_type": "code",
      "metadata": {
        "id": "vp8U6VwqCDgF",
        "colab_type": "code",
        "colab": {
          "base_uri": "https://localhost:8080/",
          "height": 35
        },
        "outputId": "462afd9f-d958-4aa9-8c5e-1093ed867c74"
      },
      "source": [
        "# to add more than one element at once update function is used with an iterable\n",
        "set_a.update([8,9,10,11])\n",
        "print(\"Updated set\", set_a)"
      ],
      "execution_count": 25,
      "outputs": [
        {
          "output_type": "stream",
          "text": [
            "Updated set {1, 2, 3, 4, 5, 6, 7, 8, 9, 10, 11}\n"
          ],
          "name": "stdout"
        }
      ]
    },
    {
      "cell_type": "markdown",
      "metadata": {
        "id": "vGtoiyi0DRu-",
        "colab_type": "text"
      },
      "source": [
        "For removing `remove()` and `discard()` function can be used where `remove(`) raises error if the item is not present while `discard()` dosen't."
      ]
    },
    {
      "cell_type": "code",
      "metadata": {
        "id": "yOt-z1NaCflV",
        "colab_type": "code",
        "colab": {
          "base_uri": "https://localhost:8080/",
          "height": 35
        },
        "outputId": "30ca8be3-f7c7-4d76-8cf8-4b61c51e55db"
      },
      "source": [
        "# remove 11 from the set\n",
        "set_a.remove(11)\n",
        "print(\"Updated set\", set_a)"
      ],
      "execution_count": 26,
      "outputs": [
        {
          "output_type": "stream",
          "text": [
            "Updated set {1, 2, 3, 4, 5, 6, 7, 8, 9, 10}\n"
          ],
          "name": "stdout"
        }
      ]
    },
    {
      "cell_type": "code",
      "metadata": {
        "id": "mu4MT2iuDfbH",
        "colab_type": "code",
        "colab": {
          "base_uri": "https://localhost:8080/",
          "height": 201
        },
        "outputId": "0b751a3b-afec-4a4e-8dd3-4ec0445b992e"
      },
      "source": [
        "# remove 11 from the set\n",
        "set_a.remove(11)\n",
        "print(\"Updated set\", set_a)"
      ],
      "execution_count": 27,
      "outputs": [
        {
          "output_type": "error",
          "ename": "KeyError",
          "evalue": "ignored",
          "traceback": [
            "\u001b[0;31m---------------------------------------------------------------------------\u001b[0m",
            "\u001b[0;31mKeyError\u001b[0m                                  Traceback (most recent call last)",
            "\u001b[0;32m<ipython-input-27-ab3c0f64d5b3>\u001b[0m in \u001b[0;36m<module>\u001b[0;34m()\u001b[0m\n\u001b[1;32m      1\u001b[0m \u001b[0;31m# remove 11 from the set\u001b[0m\u001b[0;34m\u001b[0m\u001b[0;34m\u001b[0m\u001b[0;34m\u001b[0m\u001b[0m\n\u001b[0;32m----> 2\u001b[0;31m \u001b[0mset_a\u001b[0m\u001b[0;34m.\u001b[0m\u001b[0mremove\u001b[0m\u001b[0;34m(\u001b[0m\u001b[0;36m11\u001b[0m\u001b[0;34m)\u001b[0m\u001b[0;34m\u001b[0m\u001b[0;34m\u001b[0m\u001b[0m\n\u001b[0m\u001b[1;32m      3\u001b[0m \u001b[0mprint\u001b[0m\u001b[0;34m(\u001b[0m\u001b[0;34m\"Updated set\"\u001b[0m\u001b[0;34m,\u001b[0m \u001b[0mset_a\u001b[0m\u001b[0;34m)\u001b[0m\u001b[0;34m\u001b[0m\u001b[0;34m\u001b[0m\u001b[0m\n",
            "\u001b[0;31mKeyError\u001b[0m: 11"
          ]
        }
      ]
    },
    {
      "cell_type": "code",
      "metadata": {
        "id": "qO2rBJq-DpYc",
        "colab_type": "code",
        "colab": {
          "base_uri": "https://localhost:8080/",
          "height": 35
        },
        "outputId": "174a62b8-cb19-4c42-ae67-b88fd0ed75ba"
      },
      "source": [
        "# discard 11 from the set\n",
        "set_a.discard(11)\n",
        "print(\"Updated set\", set_a)"
      ],
      "execution_count": 29,
      "outputs": [
        {
          "output_type": "stream",
          "text": [
            "Updated set {1, 2, 3, 4, 5, 6, 7, 8, 9, 10}\n"
          ],
          "name": "stdout"
        }
      ]
    },
    {
      "cell_type": "markdown",
      "metadata": {
        "id": "d3QCYHxKFMyM",
        "colab_type": "text"
      },
      "source": [
        "**Mathematical Operations**: Different mathematical operation on sets can be perofrmed e.g., union, intersection and difference etc.<br>\n",
        "**Union**: Union is performed using pipe operator `|` or by using `union()` function where, it combines all items from both sets.\n",
        "![union.png](data:image/png;base64,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)"
      ]
    },
    {
      "cell_type": "code",
      "metadata": {
        "id": "NU90AH14D4f4",
        "colab_type": "code",
        "colab": {
          "base_uri": "https://localhost:8080/",
          "height": 35
        },
        "outputId": "84ede00d-8234-4449-c08f-1d605508153c"
      },
      "source": [
        "# union of two sets\n",
        "set_b = {7,8,9,10,11,12,13}\n",
        "\n",
        "set_union = set_a | set_b\n",
        "print(\"Union of two sets\", set_union)"
      ],
      "execution_count": 30,
      "outputs": [
        {
          "output_type": "stream",
          "text": [
            "Union of two sets {1, 2, 3, 4, 5, 6, 7, 8, 9, 10, 11, 12, 13}\n"
          ],
          "name": "stdout"
        }
      ]
    },
    {
      "cell_type": "markdown",
      "metadata": {
        "id": "QvdZAatPHC01",
        "colab_type": "text"
      },
      "source": [
        "**Intersection**: Intersection is performed using pipe operator `&` or by using `intersection()` function where, it combines **common** items from both sets.\n",
        "![inter.PNG](data:image/png;base64,iVBORw0KGgoAAAANSUhEUgAABEgAAAHyCAYAAAD4EvtiAAAAAXNSR0IArs4c6QAAAARnQU1BAACxjwv8YQUAAAAJcEhZcwAAFiUAABYlAUlSJPAAAH4dSURBVHhe7d15mxVFuu/98xbOazgv4PnjOa/A63Hv7q09bXs87W7bCWU3HrUdGBVFbWSyEUTRBplBlFkEoQABKSimKqYaqHmkiipqHqmBeNYvVmTVomSoeWVGfj/XlZcYNa2VEXFH5L0yI/6HAQAAAAAAiDkSJAAAAAAAIPZIkAAAAAAAgNgjQQIAAAAAAGKPBAkAAAAAAIg9EiQAAAAAACD2SJAAAAAAAIDYI0ECAAAAAABijwQJAAAAAACIPRIkAAAAAAAg9kiQAAAAAACA2CNBAgAAAAAAYo8ECQAAAAAAiD0SJAAAAAAAIPZIkAAAAAAAgNgjQQIAAAAAAGKPBAkAAAAAAIg9EiQAAAAAACD2SJAAAAAAAIDYI0ECAAAAAABijwQJAAAAAACIPRIkAAAAAAAg9kiQAAAAAACA2CNBAgAAAAAAYo8ECQAAAAAAiD0SJAAAAAAAIPZIkAAAAAAAgNgjQQIAAAAAAGKPBAkAAAAAAIg9EiQAAAAAACD2SJAAAAAAAIDYI0ECAAAAAABijwQJAAAAAACIPRIkAAAAAAAg9kiQAAAAAACA2CNBAgAAAAAAYo8ECQAAAAAAiD0SJAAAAAAAIPZIkAAAAAAAgNgjQQIAAAAAAGKPBAkAAAAAAIg9EiQAAAAAACD2SJAAAAAAAIDYI0ECAAAAAABijwQJAAAAAACIPRIkAAAAAAAg9kiQAAAAAACA2CNBAgAAAAAAYo8ECQAAAAAAiD0SJAAAAAAAIPZIkAAAAAAAgNgjQQIAAAAAAGKPBAkAAAAAAIg9EiQAAAAAACD2SJAAAAAAAIDYI0ECAAAAAABijwQJAAAAAACIPRIkAAAAAAAg9kiQAAAAAACA2CNBAgAAAAAAYo8ECTBOPb0DpqHltimu7jDZhc3m+KUGs/fUDbPpcKVZtbvULNx83cz+Ite8+skVM+Pjy+aFpTnm2UXZ5i8fXDB/WnDe/Pbts+bXc7PMY7POmH97PdMe+rfK9DV9j75XP/PCshzzt+WX7O/S7/xwS6H9G/pb+zJrzfGcBvsaSmo67GvSawMwerf7BkxjR58pv9VtriX6U1ZJq8nIbTS7s+vNxjO1ZtWxarPoYIVZ8G2Zmb+31MzZVWLe3FFsXt1eaP7v1kIzfVOBeX5DgXlmXb75rzW59tC/Vaav6Xte3V5kf0Y/+/aeUvu79Ds//aHa/o1dib91JK/J/m29horGHvua9NoAAAAw8UiQAA/R2dNvSm90mjPXEhdHP94wq/cmLojW5ZkXl+XYJMb/9/dToT70GvVa9Zr12vUe9F70nvTegDjq7h0wlY09JruizRxK9IfNWXXmnxmVNlkxbWOB+fO/ckN96DXqteo167XrPei96D3pvQEAAGD0SJAAju64OJvfZL46Vm0WbrluZiy/bJ546+w9kw6px8/fzDR/fPecmbYkx7z+6VWzYEOBWf5NsfnyQLnZeaLGZFy4ac7mNZkrJa0mP3EBU1zTYcrrOk11Q5epb+4xTW23TXtXn+m5PWAG7hh76N8q09f0Pfpe/Yx+Vr9Dv0u/M+NCvf0b+lvLdxSbd9fn29eg16LXpNd2r9eceug96r3qPeu96xzoXAA+0B0XlyrbzbeXG+ydGbpT48VND0+APLU2z8zYWmhm7yw2H+wvMyuOVJkvT90wX5+/aQ5ebTQ/FraYnMo2U1Cb6Jc3E/3zVrepTvTVutbb5lZHr2lJ9N/ORD/u6Uvp14l/q0xf0/foe/Uz+ln9Dv2unMRr/bGoxf4N/S39zY+PVCZeQ3nitZTY16TXdq/XnHroPeq96j3rvesc6FwAAADg/kiQIHb02ImSDAey6syq3SU2oaBHWe6VPNDx2MzT5plFF+0jLSsSFyjbj1WbE5caTEHigqO5vdf91vDSa9Rr1WvWa9d70HvRe9J7u9d71qFzonOjc6RzpXPGIzsIq9t9d0xxfZf5oaDZbDxda5Ma0zdfv2fyQMfT6/LMG98Um8UHK8y6zFqz//Itk1XaakoSv6O1K/yJBL1GvVa9Zr12vQe9F70nvbd7vWcdOic6NzpHOlc6Zzp3AAAAIEGCGKht7DFHLtTbxMD0jy7dMxmg44m3slxCoNQmBHLL20xjq/93Uug96r0mE0al9hzoXNzrHOnQOdS5PHqxPnFuu91vAaZWfVuvOVXUYtZn1pq5iXZ7r2SADt1JobsvgoRA0c0u09zp/50Ueo96r0MJo/IH3jkzd3dJ4lzeMJnFLfbcAgAAxBEJEninoLLN7DpZYz7QxcB7F35ygf9o4pi2NGfwkZJzPFJyTzonOjfBI0c6Zzp3w8/nn987b95PnGud8+uV7e6ngYmluyW+v9ZoPkm0x5e3Ff7kAv/JxKHHYZKPlNwyl6p4pORe7CNHiXOjc6RzpXOmczf8fOocf3K0yp7z0gYSoQAAIB5IkCDyymo7zY7j1WbOF7nmF7PP/OQCXndDvLU2z2xLTPa1dkdfP7eTj5XOnc6hzqXO6b3uNFEdqC5UJ6obYCyqmnrMgSu3zOLvK8yz6/N/cgGvuyGWafemSw0mP9HO+rXIB8ZE507nUOdS5/Red5qoDlQXqhPVDQAAgI9IkCByem73m8yrjWbFjmLz1MKLP7lAfzpRtuSrIvPdmTpTzgX6pNM51rnWOde5H14fqiPVlepMdQfcixYwvVDeZtadumFe+7roJxforyfKvjhRY47lN5lqLtAnnc6xzrXOuc798PpQHamuVGeqOwAAAB+QIEEklNzoMN8crzEzP79mHn3t7gvw380/az7cUmjXGWni2fm0Ux2oLlQnqpvUulLdqQ5Vl6pTxFtFY7f57sot8+GBcvPkmrsvwP9783Xz2fFqu86Idn1BeqkOVBeqE9VNal2p7lSHqkvVKQAAQFSRIEFo6fGMTYcq7doXqRfZOl5ZecV+La+8zX03wkp1pLpSnQ2vR9WtvsajOPGhxzN2ZdfbtS9SL7J1LPi2zOy6WG8XF0W4qY5UV6qz4fWoulUd8ygOAACIGhIkCJWKuk6z9UjVT3abeeLts2bxtkJzLLvBtMZgBwpfqe5Uh6rLJ966++4S1fmWjErbBuCX6uYeszenwczbXXLXhbTWuvj8RI05Xdxi2nt4/CqqVHeqQ9Xl8PVL5u0uNXty6k1Nog0AAACEHQkSpF11Q5f56miV+dvyu5Miv56bZZZtLzJn85rcd8I3qlvV8W/m3Z0smZFoC2oTahuIptqW23bRz7f33L0F77QN+eZfJ2vMJXY88lZOom5Vxy9svDtZoragNlEbg+3TAQBANJEgQdponYqZq6/ddWH8yzlnzOKtheb0tUb3XYgL1bnuLFEbSG0TaiNqK4gGrVOx8ED5XRfGz20oMKuPV5uLPBIXO6pz3Vny3Ia7dyJSG1FbAQAACBMSJJhSRdUd5rO9peY/5w1tD/uzNzLNwi3Xzakrt9x3Ie7UFtQm1DaCdqI2o7ajNoRwKbvVbTZn1d11x8BTa/PMpz9Um/NlJEWQpLagNqG2EbQTtRm1HbUhAACAdCNBgknX13/HHEhMgF/95O5FOl/6+LLZl1lrulh7APehtqE2oraS2nbUltSm1LaQHv0DxvxQ0GzeG7ZI5/y9pSYjr8l097L1K+5NbUNtRG0lte2oLalNqW0BAACkAwkSTJqSmg6zYmeJ+cXsoUcmfpn498pEWX4FnypjdNRm1HbUhoL2pLalNqa2hqmhbVzXZdaaZ9cPPTKhf69PlBWz+wxGSW1GbWd4e1IbY8tgAAAw1UiQYMJdvN5s3klMcIOLWB1/X3XFHDzLJ/4YP7UhtSW1qdQ29s66fNv2MDmuVneY5RlVgxexOt7bX2aOJ855/wD9GuOjNqS2pDaV2sbU5tT2AAAApgIJEkwYLaT58oqhRyEefe2U/XS/mMktJonaltqY2lrQ7l5ZecUcvciirhNFC2m+u2/oUYgn1+TaT/fLWTMCk0RtS21MbS1odwu+LTOZxSzqCgAAJhcJEozL7d4Bs+N4jXnqHxcGL1B/N/+s2Xio0jS397rvAiaX2pranNpe0A7/uvCi2XmixrZRjE5v/4A5cOWWeW170eAF6n9vvm52Xqw3rV197ruAyaW2pjanthe0w9e/LjYHrzbaNgoAADDRSJBgTNoTE9cvD5SbX6Vsyfr8kmyzL/OG+w4gPdQG1RaDdqk2qraqNosH6+jpN1+fv2meT9mSddaOYpORx7bbSC+1QbXFoF2qjaqtqs0CAABMFBIkGBXtKrLh+wrz+KzTgxegb66+Zn5ki16EjNqk2mbQTh+fdca2XXZN+intKqJP6p9ZN5QYWXig3Jxji16EjNqk2mbQTtVm1XbZNQkAAEwEEiQYES2MufVIlfn13KE7Rt5am2eulLS67wDCSW1UbTVot2rDWzIqWTA4oW/gjtmb03DXHSPLDleagtpO9x1AOKmNqq0G7VZteE9OvW3TAAAAY0WCBA90584ds/1Ytfnt20NrO8z+4prJLmS3EESL2qzabtCO1abVttXG40bvef/lW2Z6ytoOiw5WmGtsl4yIUZtV2w3asdq02nYc+zUAABg/EiS4r10nb5g/vntu8ILyjc+umXP5Te6rQDSpDastB+1abVxtPS6+v9ZoZmwdSoz847tyc7mq3X0ViCa1YbXloF2rjautAwAAjAYJEvzEicu3zLOLhxa5fPWTK+Y0E014Rm1abTto52rzavu+OlvaamamLHKpbVMvlrPGCPyiNq22HbRztXm1fQAAgJEgQYJBhVXtd63VMP2jS+akxxeMgKiNq60H7V59QH3BF6UN3WbZoaG1GubuLjHnuGCE59TG1daDdq8+oL4AAADwICRIYNo6+8yq3aWDF4i/mZcVq0cOANl1ssa2/aAfrEpcXKlvRFV7T7/ZeLp28AJx2sYCHjlA7KjNq+0H/UB9Qn0DAADgXkiQxNzOEzXm13Pvvihs74ruRSEwHmr7qclC9Q31kag5ePWWeX7D3ReFHVwUIqbU9jeeGUoWqm+ojwAAAAxHgiSmsvKazIvLcgYvBOetyTOF1exgAUhhVUeiT+QO9g/1FfWZsMupbDdzdg09VrD0UKUpu8VjBYCoLyw9NLTjjfqK+gwAAECABEnMdHT3meXfFA9e+D2nhSkvNbivAkil9UnUR4L+or6jPhQ2nbf7zdpTNwYv/FiYEri/c2Vtdy1YrL6jPgQAAECCJEYyLtSbP6Rs27slo9J9BcCDqK8E/UZ96EiiL4XFqaIWM2NL4eDF3p4cEp7ASKivBP1GfUh9CQAAxBsJkhioa+ox720oGLzAm/1Frimp4XEaYDRKbnTYvhP0o/c2Fti+lS4N7b1mxdGqwQu8RQcrTEUjj9MAo6E+s+j7ocdu1KfUtwAAQDyRIPHcnh9vmMdmnrYXdI/POm32Zta6rwAYC/Uh9SX1KfUt9bGpdji30Ty9Lt9e0D2T+G9GBNZHAcJMfUh9SX1KfetwLn0KAIA4IkHiqbLaTjPz86FPu9/fVGDqm2+7rwIYD/WlDxJ9Kuhf6mvqc5OtqqnHfHhw6NPuT45WmVsd7DoFTAT1JfWpoH+pr6nPAQCA+CBB4qFD526an7+Z/IT7TwvOm6MXw7NeAuAT9S31MfU19Tn1vcly4nqz+euXyU+4X9paaDKLWS8BmAzqW+pj6mvqc+p7AAAgHkiQeGblrpLBT7WXbCsynT2szA9MJvWxxYmLqaDfqQ9OtA2ZtYOfan9+osZ09w64rwCYDOpjq49XD/Y79UEAAOA/EiSe0KKrL318efAiLR3rIgBxpj4X9D/1xYlYCFkLSM7fWzp4kaa1RwBMHfW5oP+pL7IQMgAAfiNB4oHvz900P3sj016YTVuaY/LK29xXAEyl3LJW2wfVF9Un1TfHSrf1/2Vtnr0wm72zxBTd7HJfATCVCus6bR9UX1Sf5JEbAAD8RYIk4lbsLB781HrJtkLT13/HfQVAOqgPLvlq6JEb9dHRWnfqxuCn1nqkpn+Afg2kk/qg+mLQL9VHAQCAf0iQRFRJTaeZkfJIzd5TPB8NhIm2Aw76p/qq+uzDVDT2mLdTHqnJYKtRIFS0HXDQP9VX1WcBAIA/SJBE0IGsOvNvrycfqXlhWY7J55EaIJTyK9psH1VfVZ9V372fHwqazX+tSV54zdlVYop5pAYIJfVN9VH1VfVZ9V0AAOAHEiQRs/yboUdqlm0vMtx5D4Sb+qj6atBv1YeH+/LHoUdq/nWyhn4NhJz6qPpq0G/VhwEAQPSRIImIouoO87d/Xhq8yPr2NI/UAFGyL3Nolxv1ZfXp8lvd5q09Q4/UHMnjkRogSjLyhna5UV9WnwYA+OEMuwfGEgmSCPjuTK151F1YTf/okimobHdfARAl6rsvukdufvneefOku7Cau7vUlNTzSA0QReq7wSM3Oo7lk+gEgKjb8H2Fna/pv4gXEiQhl/pIzUdf65Ea7r0Hokx9+JUNBYMXU69sLDB36NdApKkPr0l5VG4tu9wAQCS1tPeauYk4Hlx/6dD/qxzxQIIkpFo6+szfV10d7Jg8UgNEX1t3v3l/f9ngRdQv3jtv+7f6uvo8gGg7mj+0y436uvo8ACAaSm50mGcXZdu52R/eOWfWf19p/6v/V7m+Dv+RIAmhqvouM21p8jb85xZnm8IqOiMQdTdaeszsncnb8GfuKDalDd22b6uPq6+rz1cnygBEm/q2+rj6uvp8bett9xUAQFidL2g2v5mXNfjBVUlN8vpLSZHgQ2t9/XwBj1H6jgRJyGhb0D++m8xUvrLyimlsY2IFRJ22BX1p63V7wbRgX5lp7hy6W0R9XH1dfV59n227gehTH1dfV59X32fbbgAIr0Pnbtp5mI4PNhW40rupPPgefT/8RYIkRM7lN5nHZ522HW/emjzT18+6BEDUXa5qN8+sy7cXSksPVZi+e+zhq76uPq++rxigWAAg2tTX1efV9xUDFAsAAOGy9UjVYOLjsz2lrvTe9PXge/Vz8BMJkpA4lt0w2OEWbb3uSgFE2eniVntxpOOz49Wu9P4WbyscjAPHsutdKYAoW32iZjAOnC5ucaUAgHT7ZFfJ4Lxr+7GHz9NE3xf8jH4e/iFBEgJ7Tt0Y7GirdtPRAB8czm0cvCjaOIpFlj9N+XRibyaLMwM+2HSmbjAeZORxhxgApFP/wB2zYH3+4Hwr48LoHpnR9wc/q9+j3wd/kCBJs82HKwc72KbEvwFE3+7s+sGLoV3ZDa505DYdGooLWzK4hRPwwa6UuLAnZ/RxAQAwfo2tt83Lbu23J94+a7ILm91XRkc/p5/X79Hv0++FH0iQpNHqvUOfFO/+8YYrBRBlm7OGPik+dK3RlY6eYkIQHxQrAESfYkIQHxQrAABTp66pZ3Cn0GlLckzFOBfQ1s/r99jfl/i9+v2IPhIkabLkq6LBi58jF1hrAPDB5ylrDZwqGv9aAxmJ2BDEiSVfFbpSAFGm2BDECcUMAMDkq2noNs8sumjnVLrjoy1lR8Hx0O95eeVl+3v1+/V3EG0kSKaYnlGb/2XymbfHZp42Wblj/4QZQDioX/8zo9Je8Dy9Lt/kVEzcVr2KEYoVihmKHTznCkSfYoRihWLGR4cr6dcAMInK6zrNU/9IJkde//Sq6ezpd1+ZGPp9+r36/fo7+nuILhIkU6ilvdf8fVWy8/zhnXPmWlmr+wqAqGrr7jfv7y+3Fzoztlw3hZMwKOaWt9mYodihGKJYAiDaCm922Zih2KEY0pqIJQCAiVVc3WH+z3vn7Rxq5ufXTG/fgPvKxNLvnfV5rv07+nv6u4gmEiRTpKq+yzy/JNt2mucWZ5vKcT7zBiD9altum1k7iu0FzszEf2uaJ2+BLsUMxQ7FEMUSxRQA0aaYodihGKJYopgCAJgYBZXt5vfzkwupzluTayb7Xj39fv0d/T39Xf19RA8JkimQX9Fm/vhu8tPfV1ZeMU1tfPoLRF3xzS7z0tbkp78L9pWZlq6JeZb1QRQ7FEMUSxRTFFsARJtih2KIYoliimILAGB8rpW2mt/My7JzpnfW5bvSqaG/p7+rv6/XgWghQTLJ9ClvkByZtybP9PVPzm1dAKaOPuUNkiNLD1WYvilcP0AxRLEkSJJwJwkQfYohiiVBkoQ7SQBg7HKKWswvZ5+xc6X3Nxa40qn1wabr9u/rdej1IDpIkEwirRMQPFajCxoA0ad1AoLHanRBky5BkkQxhjVJAD8ESRLFGK1vBAAYHd2x8disZHLkwy3XXWl66O/rdfzHzNPcSRIhJEgmiVakDxZk1S3x3DkCRJ/6dbAgq26Jn8o7R4ZTTAket1GsYRcMIPoUU4LHbRRr6NcAMHKlNzrN79yaI4u3FbrS9NLr0OvR6yqpYeHWKCBBMkmCrXy1qCJrjgB+0HacunDRoopTsebIwyi2BAu3KuYAiD7FlmDhVm0fDgB4uNrGHvPUwuRWvu+uT89jNfcTrEmi11eXeJ0INxIkk2DJV8lMobblZLcawA+fn6ixFyzalnMyd6sZLcWYYAvgJV8VuVIAUaYYE2wBrNgDALi/ts4+M/2jHDsXmrn6misNF70uvb7pH12yrxfhRYJkgq3eW2ob/2MzT5vccnaYAHywOavOXqg8vS7fFIYw6XmtrNXGHMUexSAA0VdY12ljjmKPYhAA4Kf6+u+Y19yyBjOWXzJdt8O5rIFel16fXudrn161rxvhRIJkAm3JqLKNXkdWbqMrBRBle3Ia7AWKjpwQb6urmBPEn82HuS0f8IFiThB/dmfXu1IAQCBYtP7ZRdnmVmu4dwDT69Pr1Oudt5YNPMKKBMkE2ZtZO3hxknGBSQzgg4y8psGLk1MR2KLtSCL2BHFoz6kbrhRAlCn2BHHoMB++AMCghZuTu8T88V0ta9DpSsNNj0br9ep16/UjfEiQTIBj2UMXJbt/5KIE8MHp4qGLkkPXonNRohgUxKNj2Q2uFECUKQYF8eh0MVtFAsDyb4rtXOdXc7JMQWW7K40GvV69br1+vQ+ECwmScTqX3zR4MbLpELe1Az64XNU+eDGyK4K3tW86XDkYlxSjAETfruyhx/0UowAgrnTNpTnOo4kju7DZlUaLXrdeP9eQ4UOCZBzyy9vM47OSCyN+uoeFEQEfFN/sMs+4hRE3nYnuwoirdpfY2KQYlR/itVMAjNzG07U2NilGKVYBQNxknL9p5zc6TlyK9p2yev3Be9H7QjiQIBmj6obuwefHFm8rdKUAoqy29bZ5aWtya83VHmytuSjxXhSjFKuq6rmYAnzw2fFqG6MUq2609LhSAPDf1dLWwYTC9mPVrjTa9D6C96T3h/QjQTIGLR19ZtrS5F7bWjkZQPS1dfeb2TtL7IXH0kMVrjT6gtXdFbMUuwBEn2KUYpVilmIXAPiuoeW2+fP75+2c5uMdfq3bofej96X3p/eJ9CJBMgZ/d3ttv7LyCntYA554f3+ZveBYsK/M9A34068VoxSrFLMUuwBEn2KUYpVilmIXAPju9U+T11+zv7jmSvwy+4tc+/70PpFeJEhGKVgx+bnF2aaxjQwf4IO1p27YC42ZO4pNc6d/d1koVilmKXaxWjrgB8UqxSzFLsUwAPDV0q+K7BzmrwsvmpaOXlfqF72vpxPvT+9T7xfpQ4JkFL47U2sbrY5CVpAHvHAsv8leYOgobfB3nQ7FrCB+KZYBiL7Shu7B+KVYBgC+2ZyR3LHmZ29kmgLPF50vqGyz71PvV+8b6UGCZISKqjsGt2LaH+GdLQAMKb+VenERzW3iRkOxSzFMsUwxDUD0Hc0bSvIqpgGAL45crLfzFh3Hc6K9Y81I6X0G71nvH1OPBMkI/e2fl2xD/ehrbnkCfPHWnlJ7UbHmx/jcnq4YplimmAbAD4phimWKaQDgg5KaDvNvryfvpvBlx5qR+upolX3fev86D5haJEhGIFh3ZPpHl8wd1mQFvPClu6CYu7vUxKlbK4YplimmsR4J4Ic7iY6tWKaYptgGAFE3Y/llO1dZuj2eH07rfev96zxgapEgeYgDWclb0nXouTAA0fdDQbO9kNBRUu/vuiP3o1gWxDXFOADRp1gWxDXFOACIqhU7S+wcZdrSHDPg0c6Co6H3rfev87BiJx9oTSUSJA9QUtM5eGvXt6dZ1BDwQUVjj/mvNcmLiCN58V3UUDFNsS15+2anKwUQZYppim2KcYp1ABA1358b+nA6vyLem2Lo/Qfn4tD5m64Uk40EyQPM+Dh5a9eymN7aBfjo7b3J29D/dbLGlcSXYptinGIdAD8otinGKdYBQJSU13aan7+Z/HB6D48LWjoPOh86Lzo/mHwkSO5DtzKpMb6wLL63dgG+WXcque7InF0lZoAFhWxsU4xTrOP2TcAPmrIoxinWKeYBQFS8vCL54fTirYWuBKLzofPyysorrgSTiQTJPXx/7qZthDryy1l3BPDBietD644U3YzfuiP3oxgXxDvFPgDRV5yIcUG8U+wDgLD7dE+pnYs8tzjb9PbxIVYqnQ+dF50fnSdMLhIkw2grpZ+9kby1a+8p1h0BfFDR2G3+sjbPXixk5MZ33ZH7UaxTzFPsYzs5wA+KdYp5in2KgQAQVkcu1tt5iI6rpa2uFKl0XoJzpPOFyUOCZJiX3LojS7Zxaxfgi/lu3ZHPT7DuyP0o5in2KQYC8INinmKfYiAAhFHlzS7zi9ln7BxkJ/O0B9L50XnS+dJ5w+QgQZJi5a6hLaX6+rm1C/DBhsxae4Ewe2eJ6Wc9oftSzAu2k1MsBBB9inmKfYqBioUAEDbz1uTZucfCzdddCR5E50nnS+cNk4MEiXMoZd2RPNYdAbzAuiOjo9gXxEHFRADRp9gXxEHWIwEQJsEOLb+bf9a0dPS6UjyIzpPOl84bO/1MDhIkCWV2S6nTNDTAI1VNPeavX+bbi4LDuY2uFA8ztJ3caRsbAUSfYqBioWKiYiMApFt1fdfguo+sqTE6wZotOn86j5hYJEgSZn6eaxvZkm1FrgRA1H14sMJeELDuyOgpFiomKjYC8EOwHoliIwCk21tr3aM1W3i0Zix03nT+5q1hrjbRYp8gCT4t/dOC86azp9+VAoiyw273hpe2Fpru3gFXipFSLFRMVGzkrjrAD4qFioncVQcg3faeSl5/PfH2WdPczqM1Y6HzpvOn87iXNaYmVKwTJHVNPeaxmclHa45yaxfghYbEgPH0uuSjNZnFLa4Uo6WYqNioGKlYCSD6FBMVGxUjFSsBYKrV3Oo2/+GWNsi4wHpn46Hzp/Oo86nziokR6wTJexsLbKP6YFOBKwEQdSuOVtkLgE8S/8X4vJ+IjYqR720gRgK+UGxUjFSsBICp9vaX7FozkYJdbXReMTFimyA5ciH56ejjs06b+ubbrhRAlJ0qSn46+sy6fHOro8+VYqwUGxUjFSszEjETQPQpNipGKlYqZgLAVPn2dK2dU/znvCzT1MZdbBNB51HnU+d1XyaPRU+EWCZIOrr7zB/ePWcbEs9sAX7ovN1vZmxJPl+fkdfkSjFeipGKlYqZip0Aok8xUrFSMVOxEwAmW11Tt3ls1hk7pzh0jkdrJpLOp87rf9jHonnUZrximSBZ/k2xbUSzv2DVX8AXa0/dsBP+Rd+zQ8NEU6xUzFTsBOCHRW6nL8VOAJhsi7cV2rnEB5t4tGYy6Lzq/Oo8Y3xilyDJymuyjUdHyY0OVwogynIq2+1EX0dFI5nziVZS0zEYNxVDAUSfYmUQNxVDAWCyXLzePDiPqGlgnjYZdF6Dc3whcb4xdrFLkLy4LMc2nC0Zla4EQNTN2VViJ/l7chpcCSaaYqZip2IoAD8oZip2KoYCwGR56ePLdg6x8RB3+U4mnV+dZ51vjF2sEiQ7T9TYRvPc4mxXAiDqDl69ZSf4M3fw+MdkU+xUDFUsBeAHxU7FUMVSAJhoe368YecOf1140ZVgMuk863zrvGNsYpMgaevsM7+em1zh9+RlJgGAD9p7+s3zGwrs5P5cWZsrxWQ5canBxlDFUsVUANF3trTVxlDFUsVUAJgoqddfx7LZDW8q6DwzVxuf2CRIVu0usY1l3hoWZgV8sfF0rZ3YL+WWzSkzb02ejaWrdpe6EgBRt/RQpY2liqkAMFFW7kpef721Ns+VYCrofOu86/xj9GKRICmsareNREdhFQuzAj4obRhaYLDsFgt+TZXC6qEFWxVbAUSfYmgQT0sbulwpAIxdblnb4HyhKDF3wNTR+Q7OveoBoxOLBEmQReMTT8Afy4JPPM/wiedUC+7I4xMhwB9Dd+SxiD2A8Zu5+pqdK6zey/VXOui86/yrHjA63idITly+ZRvHb+ZlmfYunsMCfBA8Mz9tY4Hp4Jn5KadYqpiq2KoYCyD6FEsVUxVbFWMBYKwOnb9p5wi/f+ec6ekdcKWYSjrvOv+qB9UHRs77BMmzbteFXSfZdQHwRbDrwvfXGl0Jptquk8lV6RVjAfhBMVWxlV3BAIzHXxdesHOE77jLN610/lUPqg+MnNcJkmACP/2jS64EQNQFE/i5u1l4Kt0UW5MJaLaSA3yh2EoCGsBY7T2VvCif/lGOK0E6qR5UH2z7O3LeJkju3Llj/vhu8rYitvUF/KB+PWPrdTt5P8ct4Gmn2KoYq1irugEQfYqtirEvbS2kXwMYtT+/d97ODX7IaXAlSCfVg+pD9YKR8TZBsv1YtW0Mr35yxZUAiLr9iQtyTdwXfFvmSpBuirGKtYq5APygGKtYu/8yFzgARu6bH5LXXy+vuOxKEAaqD9XLN8dZcmIkvEyQ9PXfMb99+6xtCKe5RRTwQt/AHTN9c/LukYvlbFkWFoqxirWKuYq9AKJPMVaxdvqmAht7AeBh+voHzO/mJ6+/Tl3l7v0wUX2oXlQ/qic8mJcJki0ZlbYRvPEZ2xoBvtiTU28n7P/4rtyVICwUaxVztx6pciUAok6xVjF3L7fJAxiB4Prr9c+uuhKEyeturrYlg7naw3iXIOnq6Te/nnvGNoBz+U2uFECUdfcOmOc35NvJ+uWqdleKsFCsVcxV7FUMBhB9irWKudr6VzEYAO5HY/+v5nD9FWbBXE31xFztwbxLkGz4vsJW/uwvuHsE8MXOi8m7RxYdrHAlCBvFXMVexWAAflDMVexVDAaA+1mfiBWaA8xJxAuE1+wvcm09rTvA3dgP4lWCpL2rzzw+K5m9zC5sdqUAoqyjp988sy5598i1mg5XirBRzFXsfXzWaRuLAUSfYq5ir2KwYjEADNfS3mt+/mamnQNcKm5xpQgj1Y/qSfWlesO9eZUg+fJAua30t9bmuRIAUff1+Zt2gr7scKUrQVgp9ioGKxYD8INir2KwYjEADPev/cnrr/nr8l0Jwkz1pPpSveHevEmQ3O4dGHz27UpJqysFEGW9/UNrjxTUdrpShJVir2KwYrFiMoDoU+xVDFYsVkwGgMDtvgHzS3f9lVvGDoNRoHpSfaneVH/4KW8SJDtP1NjKfnM1a48Avjh4tdFOzBdyR0JkKAYrFu9gr33AG4rBisUHrrB1J4AhGuvt9Rc710QKc7UH8yZB8teFF21F/8jgDXjj9a+L7aT8HJ9KRIZisGLxU/+44EoARJ1isGLxa9uLXAkAGDvWc/0VPczVHsyLBMnRi/W2kp9fku1KAERdZnGLnZDP2lHsShAVisWKyUcusPMF4AvFYsXkU0UswgjAmGPZDVx/RdjzS3Js/akecTcvEiSvrLxiK3hf5g1XAiDqFnxbZifjGXmNrgRRoVismPzyisuuBEDUKRYrJr+7r9SVAIizVz8Jrr9qXQmiZO+p5FxN9Yi7RT5BcvF6cmvJ380/60oARN3V6uTWkv+9+borQdQoJis2K0YD8INismKzYjSA+MpxW/s/8dZZc+eOK0SkqN5Uf6pH1SeGRD5B8o7bqmjjIbYABXyxPKPKTsJ3XuQRjahSTFZsfmc92/4BvlBMVmxWjAYQXws2FNgxfv33Fa4EUaT6Uz2qPjEk0gmSkpoOW6mPvnbKNLf3ulIAUVbR2G0n4E+uyTWtXX2uFFGjmKzYrBitWA0g+hSTFZsVoxWrAcRPeV2nHdt1NLbedqWIItVfUJeqVyRFOkGyYmeJrVD9F4Af1mXW2sm3/otoI0YD/iFGA/G2cldybF/+DYvo++CfXxfZ+lS9IimyCZK+/jvmF7PP2Aot5llYwAv9A8Y8uz7fTr7Lb/HpZNQpNitGK1YrZgOIPsVmxWjFasVsAPHRdbvf/OyNzOT1F3eHekH1qPpUvap+EeEEyYGsOluZf1/FyruAL34oaLYT7/f2l7kSRJ1itGK1YjYAPyhGK1YrZgOIj28za+2YPvPza64EPlB9ql5Vv4hwgiTYWurgWSbdgC/ec1v7HmfnE28oRitWs40c4A/FaJvMTsRsAPHxysrk9VfGBRbR94nqU/Wq+kVEEyRF7rbtX3LbNuCNsrtu26Zf+0IxWrFaMVuxG0D0KUYHj0MqdgPwX3D99as5Z8wd9vb1iupT9cpcLSmSCZLP9pbaClzJwn+ANzZn1dnJ9npu7/OOYrVitmI3AD8oVitmK3YD8N/qfWV2LF+xg8VZfaR6Vf2qnuMukgmS/5yXZSswv6LNlQCIuhc2FtjJdvHNLlcCXyhWK2YrdgPwg2K1YrZiNwD//W7+WTuW55Zz/eUj1avqV/Ucd5FLkBxxz0i99PFlVwIg6k4VtdiJ9nzuMPCWYrZit2I4AD8oZit2K4YD8NeJS7fsGD79o0uuBD5S/aqeVd9xFrkEyczVyVV293EbPuCNhQfK7SQ7I6/JlcA3itmK3YrhAPygmK3YrRgOwF9vrc2zY/jOEzWuBD5S/aqeVd9xFqkESXVDl600u09zD/s0Az6obb1tJ9hPJYJxd++AK4VvFLMVuxXDFcsBRJ9itmK3Ynhty21XCsAnN5t77Nito6W915XCR6rfoK5V73EVqQTJV0erbIUt3HLdlQCIun2XGuzk+tMfql0JfKXYrRiuWA7AD4rdiuGK5QD8syUjef31wSauv+JA9az6Vr3HVaQSJDOWJ5+LOnUl3s9FAT55e0/yGfbzZSz65TvFbsXwvyViOQA/KHYrhiuWA/DPs4uy7dh9JrfRlcBnqmfVt+o9riKTIKmo67SV9cs5Z1wJgKirae6xE+vnNuS7EvhOMVyxXDEdgB+e25Dchaw6xrdkAz4qrumwY/bv559zJYgD1bfqvbi6w5XES2QSJFsyKm1FLd5W6EoARN2enHo7qf6cRb9iQzFcsXzrER6zAXyx+njyMZu9OTxmA/hk0+Hk9dc/vy52JYgD1bfqfdOhSlcSL5FJkATbDp2+xu1dgC/m7U4+XnORPfVjI7h1k60CAX8ohiuWz9td4koA+GD6Rzl2zM7i8ZpYycptSs7VluW4kniJRIKkrDb5eM1v5p11JQCirqop+XjNCxsLXAniQrFcMV2xHYAfpm3ItzFdsR1A9FXeTO4e+iuWN4gl1bvqX+0gbiKRINHtPaqgZduLXAmAqNuVnXy85l8nebwmbpYmYrlielxv3QR8pFiumK7YDiD6th+rtmP1oq0sbxBHHwY7DybaQdxEIkEybWny9q6zeU2uBEDUzd5ZbCfTOZXtrgRxoViumK7YDsAPlxKxXDFdsR1A9L288oodq09eZvfQODpxqcHWv9pB3IQ+QVJyI7l68hNv8XgN4IuKxm47kX5xE4/XxJViumK7YjwAPyimK7YrxgOIrtpEH9YY/fM3T5u+/juuFHGielf9qx2oPcRJ6BMk3xyvsRXD7jWAP767cstOotm9Jr6C3WwU4wH4QTFdsV0xHkB07Tp5w47RCzbkuxLE0YINBbYd7IrZ4/ChT5DM/PyarZhj2WwdB/jiwwPldhJ9urjFlSBuFNMV2xXjAfhBMV2xXTEeQHS98dlVO0ZnXGBNoTg7kqh/tQO1hzgJdYKk53a/efS1U7ZiWjv7XCmAKOvpGzBPrsm1k+j2nn5XirhRTFdsV4xXrAcQfYrpiu2K8Yr1AKKnse22HZ91dHYzPseZ6j9oC2oXcRHqBEnm1UZbIa/EcHEYwFcXytvsBHrBt2WuBHGl2K4Yr1gPwA+K7YrxivUAoufoxeRdA7O/yHUliDO1A7UHtYu4CHWCZMWOYlshbAUJ+GPdqRt28rwrRoEW9xZs4a5YD8APiu2K8Yr1AKLno6+T11/a5hcItntWu4iLUCdInlp40VZIHp9CAN547esiO3kuutnlShBXiu2K8Yr1APyg2K4Yr1gPIHr+8o8LdmwuqGx3JYgztQO1B7WLuAhtgqSsttNWxu/ms70v4Iuqph47cf7vzdddCeJOMV6xXjEfgB8U4xXrFfMBREd1fZcdk7UVPxBQe1C7UPuIg9AmSHYcT97O8+EWtvcFfHHAbe/7WaJ/A6IYr1ivmA/AD4rxivWK+QCi47szdXZMfnc92/tiiNqD2oXaRxyENkEyxy0Io+2FAPhh8fcVdtJ8qojtfZEUbCGnmA/AD4rxivWK+QCi4x+br9sxee+pWlcCGNse1C7UPuIgtAmSX8w+Yyuiqa3XlQCIumfX59tJc0sX23YjSTFesV4xH4AfFOMV6xXzAUTH7985Z8fk8joee8UQtQe1C7WPOAhlguS6WwzmaRbuA7xR2tBtJ8yvs3AfhlGsV8wvqGRBbsAXivWK+SUxeWYdiLri6g47Fv/5vfOuBBiidqH2oXbiu1AmSHadrLEVsOQrLqQAX3x/rdFOlr84UeNKgCTFesV8xX4AflCsV8xX7AcQfjsTfdZef23j+gs/pXah9qF24rtQJkje31RgKyAuC8EAcfDJ0So7WT6W3+RKgKRgUbgPErEfgB8U6xXzPznGAsxAFLz9ZXIhzkPnb7oSYIjahdqH2onvQpkgCW7hKWfbR8AbL28rtJPlarZ9xDCK9Yr5f34vPnvsA75TrFfMV+wHEH6/nJNc/7GOeRruQe1C7UPtxHehS5DUNnbbk//EW1muBEDU1bf12onyi9whgPtQzFfsr21kYgb4QjFfsV9jAIDwqqjrsmPwk+/zQQXuT+1D7UTtxWehS5AcvZjc8vGttXmuBEDUZRYnt3xcdrjSlQB3U8xX7Gdrd8AfivmK/WztDoRbxoXk4xPvrGPnKdyf2ofaidqLz0KXIFmxs8Se+G1Hq1wJgKhbn3nDTpL3XWpwJcDdFPMV+zUGAPCDYr5i//rMWlcCIIw+21Nqx+AtGXyQhftT+1A7UXvxWegSJNM/umRP/JWSVlcCIOrm7i6xk+R81hXCfSjmK/ZrDADgB8V8xf65u/2eTANR9/dVV+0YfC6/2ZUAP6X2oXai9uKzUCVIenoH7El/NHH09d9xpQCi7HbfHTtBfjJx9A/Qr3FvivmK/RoDNBYAiD7FfMV+jQEaCwCE0y9mJxdobW5nvSDcn9qH2onai89ClSDJr2izJ33a0hxXAiDqiuu77OR49s5iVwLcm2K/xgCNBQD8oNivMUBjAYDwCXaSe/L9864EuD+1E7UXn3ebDVWC5EBWnT3hC7dcdyUAou6HgmY7Of70h2pXAtybYr/GAI0FAPyg2K8xQGMBgPA5fD65QOuCDew0iIdTO1F7UbvxVagSJKt2Jxdo/eoYF1KALzaerrWT428v33IlwL0p9msM0FgAwA+K/RoDNBYACJ9Vu5MLtG49wgYZeDi1k+Rczd+1pUKVIHn902CBoCZXAiDqPthfZifHl6raXQlwb4r9GgM0FgDwg2K/xgCNBQDC59VPrtix9wJ3eWEE1E7UXtRufBWqBMlv3z5rT3hDy21XAiDqpm++bifHjR19rgS4N8V+jQEaCwD4QbFfY4DGAgDh89jM03bsbelggVY8nNqJ2ovaja9CkyAJJsZPvJXlSgBEXTAxfnETz7ViZDQGkCgH/KIxgEQ5ED4VdV12zP3LBxdcCfBwai9qN2o/PgpNguQst1YD3rlUGdxaXe5KgAcLHrXUmADADxoDNBZoTAAQHmdyG+2YO/uLa64EeDi1F7UbtR8fhSZBMrQ4n78LvgBx8+3lBjspZnE+jFSwWByLdQP+GFqsu8GVAAiDHSdq7Ji7cieLo2Pk1F7UbtR+fBSaBAnbOwL+YXtHjBbbvQP+Ybt3IJw+3lFsx9xdJ2+4EuDh1F7UbtR+fBSaBMmM5Zftic4tb3MlAKLu7T2ldlJcdNPPZxQx8TQGaCzQmADADxoDNBZoTAAQHjNXJx+VOJvHY60YObUXtZs3E+3HR6FJkDzxVnIHm8ZWFuYDfBEszNfcycJ8GBmNARoLNCYA8IPGAI0FLNgNhMuT75+3Y25VPR9kYeTUXtRu1H58FIoESWdPvz3JPm8XBMRNd++AnRA/vS7PlQAjE2w5qLEBgB80FmhM0NgAIP36+u/YsfbR1zLNwJ07rhR4OLUXtRu1H7Uj34QiQVJ6o9Oe4GcWXXQlAKKusrHHTobf+MbP5xMxeTQWaEzQ2ADADxoLNCZobACQfuV1yeuvpxZy/YXRU7tR+1E78k0oEiRnrgVbTOW6EgBRl13RZifDiw9WuBJgZDQWaEzQ2ADADxoLNCZobACQfqe5/sI4BHM1tSPfhCJBsvvH5Eq4K9hiCvDGoUTA1GR4XSZb/GJ0NBZoTNDYAMAPGgs0JmhsAJB+3xxPbvH7yS6uvzB6ajdqP2pHvglFgmT13jJ7grcfY/s3wBebs+rsZHj/5VuuBBgZjQUaEzQ2APCDxgKNCRobAKTfxzv4MAJjF9zgoHbkm1AkSOavy7Mn+MSlBlcCIOr+mVFpJ8NZpa2uBBgZjQUaEzQ2APCDxgKNCRobAKTfrM+Tj0iczWeLX4ye2o3aj9qRb0KRIHlxWY49wQWV7a4EQNTN2VViJ8MlbB2HUdJYoDFBYwMAP2gs0JigsQFA+gXXX4XVHa4EGDm1G1/naqFIkPx6bpY9wc3tva4EQNRN21hgJ8OtXX2uBBgZjQUaEzQ2APCDxgKNCRobgOEaW9i1bKr98d1zdqytb2ZnKYye2o3aj9qRb9KeIOnpHbAn9+dvZroSAFF3u2/AToSfWssjEhgbjQkaGzRGAPCDxgSNDRojgFT/582tprGFO06n0s/eSI6zvfRHjIHajdqP2pFv0p4gaWi57W32CYirxo7kJ4Uztha6EmB0gk+2NEYA8IPGBI0NGiOAVP/Pf/6TJMkUauvss2Msd2piPIKnQNSefJL2BElJTfL5pWlLeNYc8EVFY4+dBM9m626MkcYEjQ3FPBsNeGP2zmI7NpTf6nYlQJISJCRJpk7lzU47xv514UVXAoye2o/aUeVNv/ps2hMk2YXN9sS+/ulVVwIg6q7VdNhJ8Af7y10JMDoaEzQ2aIwA4IcP9pfZsUFjBJAqSJCQJJkaV0pa7Rj78orLrgQYPbUftaPLJS2uxA9pT5Acz0lu5/ju+nxXAiDqshIDrybBHx9hO0eMzYINBXZsOM7274A3VhypsmODxgggVZAc+X//9AVJkilw8vItO8bOX8f1F8ZO7UftSO3JJ2lPkOzLrLUndvmOYlcCIOqO5DXZSfCXp264EmB0ln9TbMeGvbQhwBsaEzQ2ZOQ2uhIgKUiQPPLyDyRJpsDg9VdirAXGKpirqT35JO0Jkk2HK+2J/fIAt+IDvtiVXW8nwV+fv+lKgNHRmKCxQWMEAD9oTNDYsDsxRgCpggSJ4j5Jksm38VCFPdfrD1a4Esh3331npk+fbv793//d/I//8T8Gj//5P/+nLZszZ465dOmS+26o/agdqT35JO0JklW7S+2J3XmixpUA8aOArOAbBOL/9b/+lykpie4CpxvP1NpJ8MGrfEqIsdGYoLFBY0TYqa+m9t/7HerXf/jDH8y2bdvMrVt+3Y4KjITGBI0NGiOAVKkJEh2PkCSZVCt3ltjzvPvHcF5/aVzVmBmMnxpjNVeeLPrdqX/vYYeSJRMxT4/6/EHtR+1ohWdPgqQ9QfLhlkJ7YjMu8GkC4ktBb3gwVAY7qj79odpOgn8s8mvRJkydjAs37diwcPN1VxJeq1ev/kn/fdgx2ZM9IIx+LGyxY8OqY9WuBEganiDR8QhJkkkTrPP1Q0441/m617iqJMFk0Hx7+N8ayaFxfLx3k0R9/qD2o3ak9uSTtCdIZn+Ra0/s2bwmVwLEi7LH9wuAUbXoYIWdBOdUtrsSYHQ0Jmhs0BgRdosWLbpnHx7JQZIEcZJT2WbHBo0RQKp7JUh0PEKSZFLMW5O8/jp9LZx3+t7vbo6JfrzlXuO3EiY//vjjXXdq6O/qe4ff7aH/H8+dJFGfP6j9qB2pPfkk7QmSVz+5Yk+stpsC4uhB2eOoXjwt+Da5lWNBbacrAUYn2IJQY0TYDZ/gaGI1nCZaujX2f//v/33X92pyxeM2iAuNCRobNEbEXZAQ4Lj7UNwffjxCkmTCzVx9zZ7bi9fDt5W+khGp42TqoTVAJsrwv6Px+GEJGI3Xw8dxPW4zVlGfP6j9qB2pPfkk7QmSvy2/ZE9sfkWbKwHiJTXgDb/NT4/eRNHbe0rtJLj4JpMYjI3GBI0NMz6+7ErCayQTnMC9Jlea+ABxoDFBY8P8veFfW2iyDU8McCQPxf17HY+QJJlQf//kqj2vYfyAWkmQYHzUeJk6ZiopMFGGz7kfNHan0jg+/A6Xsd5FEvX5Q/BhltqTT9KeIHlhWY49scU1Ha4EiI/h2Wv9//D1SNKdHR6LObtK7CS4/Fa3KwFGR2OCxoYXlua4kvAazQRH9PXU749qIhQYLY0JGhs0RsTdwxICHD89HiFJMmHC/AG1kiDB+Ki7rIffaT0Rd1drbp36O0d7F4gSE6k/r3nAWER9/hB8mKX25JO0J0ieXZRtT2x5HbfiI35Ss+TB4lPDg64Ghqh5c0exnQRXN/e4EmB0NCZobNAYEXajneBI6veP5/ZcIEo0Jmhs0BgRdyRIxnY8QpJkQkxb6j6grg7XB9RKfqSOj7ozY/hafRORFBieaBjLnRipPz/WcTzq8we1H7UjtSefpD1B8pcPLtgTW91AgEP8pGbJU7PPqeW6nS5qXt1eZCfBda23XQkwOhoTNDZojAg7EiTAyGhM0Njw6vZCVxJfJEjGfjxCkmTcnv7woj2XlSF7FDr1LurUsXGi764ePm4/bO2Re9HrC35+rDvsRH3+oPajdqT25JO0J0j+tOC8PbH1fNKMmLlXljww/LnI8ayQnQ7/d2uhnQTf6uh1JcDoaEzQ2KAxIuzGO8HhERvEhcYEjQ0aI+KOBMn4jkdIkozLk+8nP6CubQzPo9DDH3tJvatj+N3VY7njI9XwcXssUhMkY/0dUZ8/qP2oHak9+STtCZLfvn3WntimNj5pRrykJkGG3yUyPHkykat2T4XpmwrsJLilq8+VAKOjMUFjg8aIsBvtBGd4/47iY3TAWGhM0NigMSLuSJCM/3iEJMmY/f6d5PXXrZbwXH8NT4Kk3iUyPHky3ruro5ogCdv8Qe1H7UjtySdpT5D8em6WPbHtXEghRoYH+nsFuNQVssd66166PL8hmSDpvD3gSoDR0ZigsUFjRNiNdoKTOqkKwzZ9wFTRmKCxQWNE3JEgmZjjEZIkY/Kbecnrr7bO8Fx/pe7Qcq87Iyby7uqoJkjCNn9Q+1E7UnvySdoTJI/NOmNPbA8XUoiR4VnyewX51AVcdYzktruweGZdvp0E9/TRrzE2GhM0NmiMCLuRTnDUz4c/Rz3e24SBKNGYoLFBY0TckSCZuOMRkiSj9ri7/uoOyfWXxseHjY3D757Q2DtWUUuQhHX+oPajdqT25JO0J0j+7fVMe2IH7rgCIAZSg+r9nh8cvgWwMudR8V9rcu0kmH6NsVLb0digMSLshk9w9CmY+njqkfrJmA598qPJHhAn6tcaGzRGxB0Jkok9HlGS5I+fpyRJ2B3zQf7dXX/1h2SiljqOany8n9RNDMZzd3VYEyRRmz+o/agdqT35JDwJEq6kEBMjyZIHUh+zCcOtdCNFggTjpbajsSGKCZKRHJrw6Od4vAZxon5NgiSJBMnEHo+QIBmVsCVIUue7D/pAcPhjNmO9uzqsCZKRHGGaP5AgmSRDj9j0uxLAb8OD4YMCnNYmSf3eqNyOzyM2GK8oP2IzmoM7SRAnPGIzhATJxB2P8IjNqIXpERslOVLHxQeNiRN1d3WUEyTBEYb5A4/YTBIWaUXcpGbJH7Y91/C7TR72/WExtEgriU+MjY+LtKo/K8k5fFKlQ5M+wHcs0jqEBMnEHI+QHBmTMC3SmnpXiC76H2b43dVjEdYESdTmDyzSOkmCbX6b23tdCeCv4ZnvkWR+hz97qCAZdsE2v63dJEgwNj5v8yvDf2Y8z1IDUcE2v0NIkIz/eITkyJiFaZtfJTmCsVAbFDzM8E0MxnJ3ddQSJKnCNH9gm99J8qcF5+2JrW/ucSWAv4Y/O6ng+rAjNVOuI917no/E/91aaCfBtzpIfGJsNCZobNAYEXZjmeCI+nfqz3EXCXynMUFjg8aIuCNBMr7jEZIj4/Lk+xfseaxt7HYl6aHkRuo4eK9FSocfwz84HMvd1VFOkMjwv52u+YPaj9qR2pNP0p4g+csHyQ5acyu9HRSYCqlZ8rEeUfik+dXtyQTJzTYSJBib6oYuOzZojAi7sU5whk8M9XsAn9W13rZjw6vbi1xJfJEgGfvxCMmRcXv6w4v2XFbeTO+5G7517ViP0d5dHfUESVjmD2o/akdqTz5Je4Lk2UXZ9sSW17HaNPw2PJiN5wj7J81v7ii2k+DqJu4Mw9hoTNDYoDEi7MY6wdH3pf4cCRL4rrq5x44NGiPijgTJ2I5HSI5MiGlLc+z5LK7ucCVTb/g6e+M5Rnt3ddQTJGGZP6j9qB2pPfkk7QmSF4IOWpO+DgpMhdQs+WgXlRqeXBnJM5rpNGdXiZ0El3NnGMZIY4LGhheWhX/QHesER2sQpf4cCRL4TmOCxgaNEXFHgmT0xyMkRybM35Zfsuc0v6LNlUy94Ts1jubDv+HJFT12MxpRT5CEZf6g9qN2pPbkk7QnSGZ8fDnZQcvT10GByaatfFMD2Wi3JdPPpz6eM9ZVu6fK/L2ldhJcnOZbNxFdURp0xzrBGb4m0Uh/DogqjQkaG97eU+pK4itIkHDcfSju3+t4hOTIhPr7J1fteb1S0upKpl7qWiJjeXx8POtwRD1BEpb5g9qP2pHak0/SniB59ZMrae+gwGQbniUfy77lw4Nhuvc+f5AF35bZSXBBLY/OYWyCQVdjRNiNZYIz/K6wsCc9gYmgMUFjg8aIuBueGOBIHor7w49HSI5MuJmrr9lze/F6syuZWkpmpI6BY7kzejx3V0c5QRKm+YPaj9qR2pNP0p4gmf1Frj2xZ/OaXAngn9Qs+VgD2fDb6UZ7F8pUWnSwwk6Ccyq5MwxjozFBY4PGiLAbzQRHXxue7NShCQ/gu5zKdjs2aIwAUt0vQfIIyZFJMW9N8vrr9LVGVzK1hm/VO5a19YbfnT2au1CimCAJ4/xB7UftSO3JJ2lPkCzcfN2e2IwLN10J4Jfhz0mOZ/2Q4Vv+anAIo1XHqu0k+MfCFlcCjE7GhXo7Nny4JfzbgQ6f4Iz2CHOyE5hIPxa12LHh0x+qXQmQdK8EySMkRybNgg0F9hz/kNPgSqZW6nx2tOuHpBrr3dVhTZCM9kj3/EHtR+1I7cknaU+QrNpdak/szhM1rgTwy0RkyQPDf1dYP3XeeKbWToIPXk3PJxOIPo0JGhs0RoTd8EfoRnpoghjmR+WAiaYxQWODxggg1fAEySMkRybVih3F9jzv/nHqr7+G3xE92h1oUo317urUx1TGsv6JpCY3lCwZi6jPH9R+1I5W7vRr4e20J0g2Ha60J/bLA+WuBPBL6u41Yw2gAd2NkrpYq4JzGO3OrreT4K/Pc2cYxkZjgsYGjRFhN7xfPujQJ2WawPFIDeJIY4LGhl2JMQJIlZogeYTkyKTbeKjCnuv1aXjcLTUpoAt9jaHjkfoY+3jn2VMt6vMHtR+1I7Unn6Q9QbL31A17Ypd/w574gC8ycpOfEn6Z6N/AWCx3n27ty+STZsAXGhM0Nhxh3TkMEyRIHiE5MiU0tnL9hfFS+/Fxrpb2BMnxS34+uwTEWVZJq50ErzhS5UqA0Xl3fb4dG46n6floABPv4yOVdmzQGAGkChIkJEemxsnLt+wYO39dvisBRk/tR+1I7cknaU+QZBcmtwd6/VO/9k8G4uxaTYedBH+wn60cMTYaEzQ2aIwA4IcP9pfbsUFjBJAqSJCQHJkal0ta7Bj78orLrgQYPbUftaMrniW9054gKa7usCd22pIcVwIg6spvddtJ8Oyd3LqJsdGYoLGhhAspwBuzd5bYsaGisceVAEkkR6ZW5c0uO8b+deFFVwKMntqP2lHlzU5X4oe0J0gaWm7bE/vHd8+5EgBR19jRZyfBM7aGf4tWhJPGBI0NGiMA+EFjgsYGjRFAKpIjU6uts8+Osb+em+VKgNFT+1E7UnvySdoTJD29A/bE/vzNTFcCIOpu9w3YSfBTa/NcCTA6GhM0NmiMAOAHjQkaGzRGAKlIjky9n72RHGd76Y8YA7UbtR+1I9+kPUEiQfapub3XlQCIumkbC+xEuLWLTwoxOhoLNCbwyRbgD40FGhM0NgDDNbb4dYt+FAR3atY388gbRk/tRu3Hx6dAQpEgeXFZ8lnzgsp2VwIg6ubsSj5rXlLPJ0IYHY0FGhM0NgDwg8YCjQkaGwCkX3D9VVjNWl8YPbUbX+dqoUiQzF+XZ0/wiUts5wj44p8ZbjvHUrZzxOhoLNCYoLEBgB80FmhM0NgAIP1mfZ5rx9qz+U2uBBg5tRu1H7Uj34QiQbJ6b5k9wduPVbsSAFG3OavOTob3e7Y3OiafxgKNCRobAPhBY4HGBI0NANLv4x0ldqzd/eMNVwKMnNqN2o/akW9CkSAJTvCKndx2Cfji0LVGOxlel1nrSoCR0VjApA3wi8YCjQkaGwCk3zfHa+xY+wmPvWEM1G7UftSOfBOKBMmZxGCpEzz7C/9u0QHiKruizU6GFx+scCXAyGgs0JigsQGAHzQWaEzQ2AAg/U5z/YVxCOZqake+CUWCpPRGpz3Bzyy66EoARF1lY4+dDL/xTbErAUZGY4HGBI0NAPygsUBjgsYGAOlXXpe8/npqIddfGD21G7UftSPfhCJB0tnTb0/wYzNPuxIAUdfdO2Anw0+z0CZGSWOBxgSNDQD8oLFAY4LGBgDp19d/x461j76WaQbu3HGlwMOpvajdqP2oHfkmFAkSeeKts/YkN7bediUAou7FTQV2Qtzc2edKgAfTGKCxQGMCAD9oDNBYoDEBQHg8+f55O+ZW1Xe5EuDh1F7UbtR+fBSaBMmM5Zftic4t59lUwBdv7ym1k+Kimwy8GBmNARoLNCYA8IPGAI0FGhMAhMebq6/ZMfdsHlv9YuTUXtRuZibaj49CkyBZuOW6PdEH2P4N8ManP1TbSfEPBc2uBHgwjQEaCzQmAPCDxgCNBRoTAITHxzuK7Zi76yS7xmHk1F7UbtR+fBSaBMlXx6rtiV61m08XAF98e7nBToo3nmarX4yMxgCNBRoTAPhBY4DGAo0JAMJjx4nkVr8r2eoXo6D2onaj9uOj0CRIzuYnb9V5/dOrrgRA1F2qbLeT4g/2l7sS4ME0Bmgs0JgAwA8aAzQWaEwAEB5ncoOtfv18VAKTQ+1F7Ubtx0ehSZA0tAQL82W5EgBR19jBwnwYHY0BGgs0JgDwQ7Bgt8YEAOFRUZdcbPMvH1xwJcDDqb2o3aj9+Cg0CRL57dvJnWyYGAP+mL75OhNjjEiQKNdYAMAPQaJcYwGA8Am21m/p6HUlwP2pnai9qN34KlQJkuDW6nPcWg1444P9Zclbq6u4tRoPptivMYBHLQF/KPZrDNBYACB8Xv3kih17L7CgPkZA7UTtRe3GV6FKkKzanVzwhcX5AH8MLc53y5UA9za0WDeLxQG+UOzXGMBi3UA4BYujbz1S5UqA+1M7Sc7V/N1YJVQJErZ3BPzD9o4YKbZ7B/zDdu9AuB0+f9OOvQs2sF4cHk7tRO1F7cZXoUqQ5Fe02RM+bWmOKwEQdcX1XXZyPHunn3ulY+Io9msM0FgAwA+K/RoDNBYACJ/y2k479j75/nlXAtyf2onai9qNr0KVIOnpHbAn/NHE0dd/x5UCiLLbfXfs5PjJxNE/QL/GvSnmK/ZrDNBYACD6FPMV+zUGaCwAEE6/mH3Gjr/N7SzUivtT+1A7UXvxWagSJDL9o0v2xF8paXUlAKJu7u5SO0HO9zjbjPFRzFfs1xgAwA+K+Yr9c1lXCAi1v68KNsrgUTjcn9qH2onai89ClyBZsTO5UOu2oywUBPhifWZyodZ9lxpcCXA3xXzFfo0BAPygmK/Yvz7zhisBEEaf7Uku1Lolo9KVAD+l9qF2ovbis9AlSI5cqLcn/q21ea4EQNSdKmqxk+Rlhxl4cW+K+Yr9Ry/WuxIAUaeYr9ifWdziSgCEUcaF5EKt76zLdyXAT6l9qJ2ovfgsdAmS2sYee+KfeCvLlQCIuvq2XjtJfnETK6Tj3hTzFftrG7tdCYCoU8xX7NcYACC8Kuq67Bj85PsXXAnwU2ofaidqLz4LXYJE/vxe8uT7vDouEDcvbyu0E+Xqph5XAiQFK+j/+T1W0Ad8oVivmK/YDyD8fjknuVBrHfM03IPahdqH2onvQpkg+WBTcn/l787UuRIAUffJsWo7WT6W3+RKgCTFesX897nDCPCGYr1i/iesKQdEwttfJh+fOHTe78cnMDZqF2ofaie+C2WCZNfJGlsBS74qciUAou77a412svzFiRpXAiQp1ivmK/YD8INivWK+Yj+A8NuZ6LP2+msb11/4KbULtQ+1E9+FMkFSUNlmK+DphRddCYCoK6nvspPl179m4MXdFOsV869XtrsSAFGnWK+YX9rAukJAFBRXd9ixmMddcS9qF2ofaie+C2WCRH4xO/kcXBMLewHeeHZ9vp0wt3T1uRLEnWK8Yr1iPgA/KMYr1ivmA4iO379zzo7J5XWsA4khag9qF2ofcRDaBMmcL3JtRWjbXwB+WPx9hZ00a9tfQIKt3RXzAfgh2NpdMR9AdPxj83U7Ju89VetKAGPbg9qF2kcchDZBsuN4ta2ID7ew+jngiwNXbtlJ82eJ/g2IYrxivWI+AD8oxivWK+YDiI5g0fR3ufsLKdQe1C7isoFKaBMkZW7bx9/NP+tKAERdldv28b9jkoHGwynGK9Yr5gPwg2K8Yr1iPoDoqK7vsmPyE29x/YUhag9qF2ofcRDaBIk85RbuyytvcyUAou41t3Bf0c14BFncn2K7YrxiPQA/KLYrxivWA4iev/zjgh2bC1g4HQlqB2oPahdxEeoEyYodxbZCNh2qdCUAom7dqRt28rzrIusLxZ1iu2K8Yj0APyi2K8Yr1gOIno++Tl5/bT/Go68wth2oPahdxEWoEySZVxtthbyy8oorARB1F8rb7OR5wbdlrgRxpdiuGK9YD8APiu2K8Yr1AKLn6MXk4umzWTwdCWoHag9qF3ER6gRJz+1+8+hrp2yltHayLSjgg56+AfPkmlw7gW7v6XeliBvFdMV2xXjFegDRp5iu2K4Yr1gPIHoa227b8VlHZzfjc5yp/oO2oHYRF6FOkMjMz6/ZSjmW3eBKAETdhwfK7ST6dDHb/caVYrpiu2I8AD8opiu2K8YDiK43Prtqx2htxY/4ykjUv9qB2kOchD5B8s3xGlsxi7ex3S/gi+/cdr+fn6hxJYgbxXTFdsV4AH5QTFdsV4wHEF27TiavvxZsKHAliKMFG5Lb++46Ga81pUKfICm50WEr5om32W4K8EVFY7edRL+4iYE3roIt4xTjAfhBMV2xXTEeQHTVJvqwxuifv3na9PXfcaWIE9W76l/tQO0hTkKfIJFpS3Ns5ZzNa3IlAKJu9s5iO5G+xDZysaNYrpiu2A7ADzmJWK6YrtgOIPpedgupn7jEMgdxdPLyLVv/agdxE4kESbAV5LLt7KkP+GJXdnIryH+d5BGLuFmaiOWK6WzhDvhDsVwxXbEdQPR95bZ3/XDLdVeCOFm0NfkodBy3e45EgqSsttNW0K/nZrkSAFFX1dRjJ9PTNuS7EsTFb+YlH69RbAfghxc2Jh+vUWwHEH2VN7vsWP2rOWdcCeJE9a76VzuIm0gkSGT6R5dsJZ2+1uhKAETdvN0ldkJ9sbzNlcB3Z3IbbSxXTAfgB8VwxfJ5u0tdCQAfTF+WXOYgK5dlDuIka3CuFs9HoSOTINl6pMpW1OKt7GYD+GJvToOdVK8+Hr/b9+Iq2L1mSwaP1wC+CHav2ZPD4zWAT4JlDv75NWsLxYnqW/W+6XA852qRSZBU1CUfs/klt3kB3qhuTj5m8xzbyMWGYrhiuWI6AD88tyHfxvKaREwH4I/i6uRuor+ff86VIA5U36r34pp47jQYmQSJ/G158jGbU+yvD3jj7T2ldmJ9vozHbHyn2K0YPiMRywH4QbFbMVyxHIB/nl2UbcduPSIL/wWPQqve4ypSCZKvjiYfs1nIasqAN/ZdSj5m8+kPPGbjO8VuxXDFcgB+UOxWDFcsB+CfLRnJ668PNnH9FQeqZ9W36j2uIpUgqW5Irqb8szcyTVdPvysFEGW1Lbft5PqptXmmu3fAlcI3itmK3YrhiuUAok8xW7FbMby29bYrBeCTm809duzW0dLe60rhI9VvUNeq97iKVIJEZq6+ZittX2atKwEQdQsPlNsJdkYeq6T7SjFbsVsxHIAfFLMVuxXDAfjrrbV5dgzfeaLGlcBHql/Vs+o7ziKXIDlyod5W3EsfX3YlAKLuVFGLnWTP38sz7L5SzFbsVgwH4AfFbMVuxXAA/jpxKbmGGFv0+031q3pWfcdZ5BIk8p/zsmzl5VewqCPgixc2FtiJdvFNHr/wjWK1YrZiNwA/KFYrZit2A/Df7+aftWN5bjnXXz5Svap+Vc9xF8kEyWd7S20FrtxZ4koARN3mrDo72V7P43PeUaxWzFbsBuAHxWrFbMVuAP5bva/MjuUrdhS7EvhE9ar6VT3HXSQTJEVuT+5fzj5j+vrvuFIAUVZ2q9tOtp9dn2/6B+jXvlCMVqxWzFbsBhB9itGK1YrZit0A/Bdcf/1qzhlz5w7zNJ+oPlWvzNWSIpkgkVc/uWIr8eBZPrkAfPHet2V2wn38erMrQdQpRitWK2YD8INitGK1YjaA+HhlZfL6K4P1xLyi+lS9qn4R4QTJgazkpPvvq6hIwBc/FLhJ934m3b5QjFasVswG4AfFaMVqxWwA8fFtsCPd5+xI5xPVp+pV9YsIJ0h02/Yv3G3bxdwKBHihf8AM3rZdzm3bkafYrBitWM3jkIAfFJsVo5OPQ7pCALHQdbvf/OyNzOT1Vw3XXz5QPao+Va+qX0Q4QSIr3MJ/+i8AP6xzC//pv4g2YjTgH2I0EG8rdyXH9n9+XeRKEGXLv0kuzqp6RVKkEyQlLuP16GunTHN7rysFEGUVjclPJ59ck2tau/pcKaJGMVmxWTFasRpA9CkmKzYrRitWA4if8rpOO7braGy97UoRRaq/oC5Vr0iKdIJE3lmfbyt146FKVwIg6pZnVNkJ+M6LLAIWVYrJis3vrMt3JQCiTjFZsVkxGkB8LdhQYMf49d9XuBJEkepP9aj6xJDIJ0guXm+2Ffu7+WddCYCou1rdYSfh/735uitB1CgmKzYrRgPwg2KyYrNiNID4yilMXn898dZZw46/0aR6U/2pHlWfGBL5BIm8vOKyrdx9mTdcCYCoe3dfqZ2IZ+Q1uhJEhWKxYjLbxQH+UCxWTF7A1r4AErR9v8b6vae4/oqifZnJHYlUj7ibFwmSI27v5ueXZLsSAFF3qqjFTsZn7Sh2JYgKxWLF5KM8IgV4Q7FYMTmzuMWVAIizY9kN7vorx5UgSoK5muoRd/MiQSJP/eOCreQfr9xyJQCi7rXtRXZCfq6szZUg7BSDFYv/uvCiKwEQdYrBisWvf03CGsAQrr+iKZirqf7wU94kSHYcr7EV/ebqa64EQNQdSARwTcoXHih3JQg7xWDF4p0nalwJgKhTDFYsPniVRx4BDOH6K5re/OyqrTfVH37KmwTJ7d4B86s5Z2xlXylpdaUAoqy3f8A8vyHfTswLatl+LOwUexWDFYsVkwFEn2KvYrBisWIyAARu9w2YX7rrr1zu9o0E1ZPqS/Wm+sNPeZMgkS8PlNsKf2ttnisBEHVfn79pJ+fLDrOVd9gp9ioGKxYD8INir2KwYjEADPev/cnrr/ls6x8JqifVl+oN9+ZVgqS9q888Puu0rfRstisCvNDR02+eSQRzTdCv1bC1ZFgp5ir2Pj7rjI3FAKJPMVexVzFYsRgAhmtp7zU/fzPTzgEusYhzqKl+VE+qL9Ub7s2rBIls+L7CVvzsL3gWDvDFzov1dpK+6GCFK0HYKOYq9ioGA/CDYq5ir2IwANzPOncX/+wvcl0JwmhOIp6rntYzn34g7xIkXT395tdzk8/CnctvcqUAoqy7d2gtkstV7a4UYaFYq5ir2KsYDCD6FGsVc6dtLLAxGADuR2N/sBYk11/hFMzVVE/M1R7MuwSJbD1SZRvAG59xFwngi705DXay/o/veGYybBRrFXO3ZLBODOALxVrFXMVeAHiYLRnJ66/Xuf4KpdfdzjXM1R7OywRJX/8d89u3z9pGcPoaW9IBPugbuGOmb75uJ+wXy1kpPSwUYxVrFXMVewFEn2KsYu30TQU29gLAw/T1D5jfzU9ef526esuVIgxUH6oX1Y/qCQ/mZYJEth+rtg3h1U+uuBIAUbf/8i07aV/wbZkrQbopxirWKuYC8INirGLt/svcPQJg5L45XmPnBC+vuOxKEAaqD9XLNz8wVxsJbxMkd+7cMX9895xtDCcTF1UAok/9esbW5F0k50pbXSnSRbFVMVaxVnUDIPoUWxVjX9paSL8GMGp/fu+8nRv8wON5oaB6UH2oXjAy3iZIZNfJG7ZBTP/okisBEHXfX2u0k/e5u0tcCdJFsVUxVrEWgB8UWxVjFWsBYLT2/Bhcf+W4EqST6kH1sfdUrSvBw3idIJFnF2czgQc8M3NHMRP4NNt1MnkbrWIsAD8ECWjFWAAYq78uvGDnCN+d4aI8nXT+VQ+qD4yc9wmSE+4W8N/MyzLtXX2uFECUnXW3gGv7yQ62KptyiqWKqYqtirEAok+xVDFVsVUxFgDG6tD5m3aO8Pt3zpketglPC513nX/Vg+oDI+d9gkTeWptnG8cqbskHvLHsUKWdyG88zacTU23V7lIbUxVbAfhh45laG1MVWwFgvGauvmbnCqv3lroSTCWdd51/1QNGJxYJksKqdttAdBRWd7hSAFFW2tBtJ/M6ym51u1JMtsKqjqF4moitAKJPMTSIp4qtADBeuWVtg/OFIq6/ppTOd3DuVQ8YnVgkSCT4xHPeGj7xBHyhu0c0oV/KJ55TZt6aXBtLuSMP8MfSQxU2lnJHHoCJtHJXiZ0zcMfp1AqentD5x+jFJkHS1tlnfj3XPTN/iW2nAB+09/Sb5zfwzPxUCbb1VSxVTAUQfefK2mwMVSxVTAWAiZJ6/XUsu96VYjLpPDNXG5/YJEhk54nkrgvPsesC4I2DV2/ZyT27Lkw+xU7FUMVSAH4IdgVTLAWAiRZs+/vXhRddCSaTzrPOt847xiZWCRJ5cVlyL+gtGdySD/hizq4SO8Hfk8PdYZNFMVOxUzEUgB8UMxU7FUMBYLK89PFlO4fYeKjClWAy6PzqPOt8Y+xilyDJymuyDUdHSQ0LBgE+yKlst5N8HRWNLDA40UpuDC32pRgKIPoUK4O4qRgKAJPlwvXmwXlEDQtBTwqd1+AcX0ycb4xd7BIksvybYtt4Zn+R60oARN3aUzfsRH/RQT6dmGiKlYqZip0A/LDo++TCrIqdADDZFm8rtHOJDzZddyWYSDqvOr86zxifWCZIOrr7zB/ePWcb0d5MVmwHfNB5u9/M2FJoJ/wZ3OUwYRQjFSsVMxU7AUSfYqRipWKmYicATLa6pm7zHzNP2znFoXM3XSkmgs6nzutjs87Y84zxiWWCRDIuJFf4fXzWaVPffNuVAoiyU0UtdtL/zLp8c6uDi/nxUmxUjFSsPJKImQCiT7FRMVKxUjETAKbKvszkgq3/OS/LNLX1ulKMh86jzqfO67ds1T4hYpsgkfc2FNjG9P6mAlcCIOpWHK2yE/9PEv/F+HyQiI2Kke9tJEYCvlBsVIxUrASAqfb2l3l2brFwM4/aTASdR51PnVdMjFgnSOqaesxj7lavoxf5dBTwQUN7r3nafTqaWcyno2OlmKjYqBipWAkg+hQTFRsVIxUrAWCq1dzqNv/xZvL6K+MCj9qMh86fzqPOp84rJkasEyQS7M39pwXnTWcPz+ECPjic22gvAl7aWmi6ewdcKUZKsVAxUbGRffQBPygWKiYqNh7OZZ0mAOkTrG/2xNtnTTPJ2jHRedP503ncy2LbEyr2CRKZ+Xlyh4Yl24pcCYCo+/BgcoeGz0/UuBKMlGKhYqJiIwA/rD5ebWOiYiMApNu8Ncnrr4VbeNRmLHTedP7eWsujNRONBElCWW2n+bm71YtPSwE/VDX1mL9+mXzURneUYGSCu+oUExUbAURfcFedYqJiIwCkW3V9l/nZG5l2znGEpQ5GRedL503nT+cRE4sEiRNsj6Qjr7zNlQKIshPXm+1FgY6imwwgD6PYF8RBtuAD/FBY1zkYBxUTASAsgg9lfjf/rGnp4FGbkdB50vnSeeOD/clBgiTFyl0ltrFNW5pj+vrvuFIAUbYhs9ZeGMzeWWL6B+jX96OYp9inGKhYCCD6FPMU+xQDFQsBIGzmrWFXm9EIdq3RecPkIEEyzEsfX7aNbsm2QlcCIOrm7y21FwisR3J/inmKfYqBAPygmKfYpxgIAGFUebPL/GL2GTsH2ck87YF0fnSedL503jA5SJAMU1LTMfg83N5TfNoC+KCisdv8ZW2evVDIYPeGn1CsU8xT7FMMBBB9GXlNNuYp9ikGAkBYBWtq6Lha2upKkUrnJThHrNkyuUiQ3MP3KeuR5LMeCeAF1iO5N8W4IN4p9gGIvuJEjAviHeuOAIiCT/eU2rnIc4uzTW8fj0Sn0vnQedH50XnC5CJBch8rdhbbRvjCshwzwLoFgBfWnbphLxjm7CoxA3fo14ptinGKdYp5AKJPUxbFOMU6xTwAiIpXVl6xc5LFW1nqIJXOh87Lyyt4DHoqkCB5gBluPZJl24tcCYCoe9utR/KvkzznqtimGKdYB8APim2KcYp1ABAl5bWd5udvJpc6YIeWpGCnH50XnR9MPhIkD1BS02n+7fVkJ/32NOuRAD6oaOwx/7Umeev5kbz4rkeimKbYphinWAcg+jLyGm1sU4xTrAOAqDl0PmWpg4p2VxpPev/Bufj+XJ0rxWQjQfIQB7LqBhtmQSXrkQA++KFgaD2Skvr4rUeiWBbENcU4ANGnWBbENcU4AIiqYKmDaUvju9SB3rfev87Dip0lrhRTgQTJCCz/JtlJp390ybBsAeCHL39Mrkcyd3epiVO3VgxTLFNMU2wDEH13Eh07WHdEsQ0Aom7G8uRSB0tjutSB3rfev84DphYJkhH62z+TFxQffc16JIAv3tqTXI9kTYwuKBTDFMsU0wD4QTFMsUwxDQB8UFLTMbjUwVdHq1xpPGw/Vm3fd/Ix6A5XiqlCgmSEiqo7zKOJhqrGuv8Mt6QDPii/1W0vKnQcy/f/lnTFLsUwxTLFNADRdzS/aTCOKaYBgC+OXKy38xYdx3MaXKnf9D6D96z3j6lHgmQUvjuTXNRQR2FVvBcNAnxxLOXiorTB3/VIFLOC+KVYBiD6ShtSk7zxXXQagL82Z1TaucvP3sj0fj3Igoo2+z71fvW+kR4kSEYpWI/kucXZprHttisFEGVrTyVvT5+5o9g0d/a5Un8oVilmKXax7gjgB8UqxSzFLsUwAPDV0q+Sjwc/vfCiaenodaV+0fv6a+L96X3q/SJ9SJCMwd9XXbWN95WVV0xfP6u2Aj54f3+ZvdBYsK/M9Hm0YrpilGKVYpZiF4DoU4xSrFLMUuwCAN+9/mny+mv2F7muxC+zv7hm35/eJ9KLBMkYtHT0DW67NG9NnisFEGVt3f1m9s7kLhBLD1W40uhTjFKsUsxS7AIQfYpRilWKWYpdAOC7hpbb5s/vn7dzmo93+HU3rN6P3pfen94n0osEyRhV1XeZP757zjbmRVuvu1IAUXajpce8lOjPuvD47Hi1K42uxdsKbYxSrKpuYPFGwAerT9TYGKVYVdvKRBpAfFwtbbXzGh3a6cUHwY41OvT+kH4kSMYhv6LNPD7rtG3Qq3aXuFIAUVZ8s8s8sy7fXoBsPB3dxUw/3VNqY5NiVH6534uaAXGx6UydjU2KUYpVABA3GedvDiYUTlyK9s42ev3Be9H7QjiQIBmnc/lNgw1702FWGwZ8cLmq3V6E6NiVHb3Bd9Oh5IrvOhSjAETfruz6wbikGAUAcRXMcx5NHNmFza40WvS69frtNWTi/SA8SJBMgGOJC6jgYmT3j6wkD/jgdHHr4MXIoWuNrjT8FIOCeHQscUEFIPoUg4J4dLq4xZUCQHwFO4v+ak6WKaiMVtJYr1evW6+f3QXDhwTJBNlzauii5MgFLkoAHxzOHbooOVUU/ouSjETsCeLQ3szoPh4EYIhiTxCHMvK4IwwAAgs3X7dzHq21VhmRxw4rb3YOrmOp14/wIUEygTYfHrqtPStxYQUg+nan3NaeUxHetTwUc4L4syWjypUCiDLFnCD+7MmJ9rP2ADAZ5q1N7tb37KJscyvkC1fr9el16vWyE2p4kSCZYKv3JhdGfGzmaXOtjJWIAR9szkoujPj0unxTWNfpSsMjt7zNxhzFHsUgANFXeLPLxhzFHsUgAMBP9fXfMa99etXOgWYsv2S6bg+4r4SLXpden17na6uu2teNcCJBMgmWfFVkG/8f3onO7V4AHuxzt7XmjC3XTU1zeD6hUIxRrFHMWfJVoSsFEGWKMYo1ijmKPQCA+2vr7DPTP0omH2auvuZKw0WvS69v+kc59vUivEiQTJL5X+bbTvDc4mzT1NbrSgFE2T8zKu0Fy8wdxaalK/2Dm2KLYoxijWIOgOhTbFGMUaz5iN3xAGBE6hp7zFMLL9o50TvrwjUnend9gX1den21ideJcCNBMkn6B+6Yv69K3u71ysorpq8/nLd7ARg59ev395fbC5cF+8pMX+L/00UxRbFFMUaxRq8NQLQppii2KMYo1tCvAWDkSmo6zO/mn7Vzo8XbwnFXrV6HXo9eV+mN8D2mjZ8iQTKJWtp7zfNLWIgH8Elbd7+Z5T7dXXqowpVOPcUUxRbFGMUaANGnmKLYohjTmog1AIDRuVbaav7Drcv24Zb07hKjv6/X8disM/Z1IRpIkEyyqvquwa2cdEHDnSRA9NW23DYvbU2uD6ALmqm8k0QxJEiOKLYoxgCINsWQIDmi2KIYAwAYm5yiFvPL2WfsXOmDTelJkry/MflYjV6HXg+igwTJFMivaBtMkuiWeNYkAaKv+GbXYJJEt8RPxZokih3BYzWKKYotAKJNsSN4rEYxRbEFADA+umPjN/Oy7Jxpqtck0d/T39Xf586R6CFBMkX0KW/wuI0WVWR3GyD69Clv8LiNFlWczN1tFDOCBVkVS7hzBIg+xYxgQVbFEu4cAYCJU1DZbn7v1iSZtybXTPb9vvr9+jv6e/q7+vuIHhIkU0jrBAQLt2pbztxyPv0Fok7rBAQLt2pbzsJJSH5eK2sd3MpXMYQ1R4DoK6zrHNzKVzFE6xsBACZWcXWH+T/vnbdzqFmf55revslZ7kC/d+bnya189ff0dxFNJEimmFakD7YAfmzmaZOV2+i+AiCq1K+1HacudJ5el29yJvDRF8UIxQrFDMUOdrUAok8xQrFCMUPbh9OvAWDylNd1mqf+kdwC+PVPr5rOnolNSOv36ffq9+vv6O8hukiQpMmSr5JbPunIuFDvSgFE2ecnauwFj45TE7Ag15FEbAjixJKvilwpgChTbAjihGIGAGDy1TR0m2cWJZMkL6+8bNo6J2btOP2el936cPr9+juINhIkabR6b+ngxc/uH2+4UgBRtjmrbvDi59C1sd8hppgQxAfFCgDRp5gQxAfFCgDA1Klr6jHTlubYudW0JTmmYpyPRevn9Xvs70v8Xv1+RB8JkjTbklE1eBG06VClKwUQZXtyGgYvgnZlj/4OsU2HKwfjwubEvwFE367sobiwewxxAQAwfo2ttwfv+Hji7bMmu7DZfWV09HP6ef0e/T79XviBBEkI7M2sHbwY+nQPnxQDPsjIaxq8GNp0ZuSfFK/aXTIYD/ac4s4ywAcbT9cOxoPDrD0GAGmldZ8WrE+uCakj48JN95WR0fcHP6vfwzpSfiFBEhLHsofWGli8rdCVAoiy08VDaw2sHsFaA4u2Xh+MA8eyG1wpgCj77Hj1YBw4XdzqSgEA6fbJrqEPpbYfq3alD6bvC35GPw//kCAJkXP5TebxWcndKuatyTN9/WQjgai7XNVunnG7VSw9VGH67vEpg/q6+rz6vmKAYgGAaFNfV59X31cMUCwAAITL1iNDyx189pA7+fX14Hv1c/ATCZKQyS9vM39895zteK/oebY2nmcDoq74Zpd5aet1e6G0YF+ZaU5ZOV19XH1dfV59P38CtwgGkB7q4+rr6vPq+4oBAIBwOnRu6JGZDzYVuNK7qTz4Hn0//EWCJISqG7oHV1h+bnG2KeRTJyDyaltvm9k7S+wF08wdxaa0ocv2bfVx9XX1+ap6LqKAqFPfVh9XX1efv9HCrgYAEHbnC5rMb+Zl2TnZ31ddNSU3Omx5SU2H/X+V6+vnC8a2qCuigwRJSLV09A12Rh37R7HII4BwauvuN+/vT36qrOMXC84PDsTq8wCi7Vh+82D/Vl9XnwcARIOSIs8uSn5w9Yd3zpn131fa/+r/VR4kTeA3EiQht/yb4sEkyUdfF5k7LEsCRJr68CsbCgYvol7ZWGDo1kC0qQ+v+fHGYL9eyw5UABBJLe29Zm4ijgfXXzr0/ypHPJAgiYDvztSaR10Hnf7RJVNQyRoFQBSp76oPqy//8r3z5kl3MTV3d6kp4fEaIJLUd9WHg+TIMRZZBoDI2/B9hZ2v6b+IFxIkEVFU3WH+9s/khZWOb0/Xuq8AiAL12aD/qi+rT5ff6jZv7Rm6sDqSx4UVECXqs0H/VV9WnwYA+OFMbqP7F+KEBEnEpD5ys2x7kRm4x5ahAMJDfVR9Nei36sPDfZlya/6/TtaYAZ6lA0JNfVR9Nei36sMAACD6SJBE0IGsOvNvr2fai60XluXYrYEBhI/6pvqo+qr6rPru/fxQ0Gz+a03yYmvOrhJTxLagQCipb6qPqq+qz6rvAgAAP5AgiaiSmk4z4+PLg59K7z3FIzdAmKhPBv1TfVV99mEqGnvM23uHHrnJyOWRGyBM1CeD/qm+qj4LAAD8QYIk4lbsHHrkZsm2QtPXz635QDqpD6ovBv1SfXS01p0aeuTm8xM1pp9H6YC0Uh9UXwz6pfooAADwDwkSD3x/7qb52RvJR26mLc0xeTxyA6SF+p76oPqi+qT65liduN5s/rI2z16Mzd7JIzdAuqjvqQ+qL6pPqm8CAAA/kSDxRElNh3kp5ZGbPSwYB0wp9bmg/6kvqk+OV0Vjt5mf8sjNYVZTB6aU+lzQ/9QX1ScBAIC/SJB4ZuWuksGLtCXbikxnT7/7CoDJoD6mvhb0O/XBibYhs3bwIk23+Xf3DrivAJgM6mOpj9SoDwIAAP+RIPHQoXM3zc/fPG0v1v604Lw5erHefQXARFLfUh9TX1OfU9+bLLqt/69f5tuLtZe2FprM4hb3FQATSX1LfUx9TX2OR2oAAIgPEiSeKqvtNDM/zx38VPuDTQWmvvm2+yqA8VBfej/Rp4L+pb6mPjfZqpp6zIcHKwY/1f7kaJW51dHnvgpgPNSX1KeC/qW+pj4HAADigwSJ57QuwmMzk3eTPD7rtNnLbcLAuKgPqS+pT6lvpWO9n8O5Tebpdcm7SZ5J/Dcjj+2AgfFQH1JfUp9S32K9HwAA4okESQzUNfWY9zYOfdo9+4tcU3Jj/AtIAnGiRVfVd4J+9N6GAtu30qWhvdesSPm0e9H3FSwgCYyS+syilLuy1KfUtwAAQDyRIImRIxfqzR/ePTd4gbclo9J9BcCDqK8E/UZ9KCPRl8LiVFGLmbEluV6Cjj05De4rAB5EfSXoN+pD6ksAACDeSJDETEd3n1n+TfHgxd5zi7PNycu33FcBpDpxqcH2kaC/qO+oD4VN5+1+s/bUjcGLvZk7is25sjb3VQCpzpa22j4S9Bf1HfUhAAAAEiQxlZXXZF5cljN44TdvTa4prOKxG0AKqzsSfSJvsH+or6jPhF1OZbuZs6tk8MJv6aEKU3aLx24AUV9YeqhysH+or6jPAAAABEiQxNzOEzXm13OzBi8EV+0uNe1d7IqBeFLbX7W7ZLA/qG+oj0TNwau3zPMbCgYvBDeeqTUdPXxCjnhS2994unawP6hvqI8AAAAMR4IEpq3z7ovC38zLMrtORu+iEBiPXSdv2LYf9AMlC9U3oqp92EXhtI0F5vtr7MyBeFGbV9sP+oH6hPoGAADAvZAgwaDCqnbz1tqhxwqmf3SJ9UngPbVxtfWg3asPqC/4orSh2yxLeaxg7u4Sc6601X0V8JPauNp60O7VB9QXAAAAHoQECX7iROKC8dmUhSlf/eSKOc0nz/CM2rTadtDO1ebV9n01fGHKBd+WmYvlLOQKv6hNq20H7VxtXm0fAABgJEiQ4L70yMEfU7YFfuOza+ZcfvgXqgQeRG1YbTlo12rjautxoUcOZmy9PngB+Y/vys1lj+6YQTypDastB+1abZxHygAAwGiRIMED3blzx2w/Vm1++/bZwQvK2V9cM9mFze47gGhQm1XbDdqx2rTattp43Og979ejRZuHEiWLDlaYazXsZIVoUZtV2w3asdq02nYc+zUAABg/EiQYkb7+O2ZLRqX59dwzgxeYWqvhSgm3LiPc1EZT19ZRG956pMq26bjrG7hj9uTUm+c35A9eYC47XGkKajvddwDhpDaqthq0W7XhvTkNtk0DAACMFQkSjEpXT7/Z8H2FeXzWUKLkzdXXzI9XWMwV4aI2qbYZtNPHZ522bVdtGHfr7h0wOy/Wm2fWDSVKFh4oN+fKWKME4aI2qbYZtFO1WbVdtWEAAIDxIkGCMWnv6jNfJiapv5ozlCh5fkm22ZcZn7UcEE5qg2qLQbtUG1VbVZvFg3X09Juvz9+8646SWTuKTUYeazkgvdQG1RaDdqk2qraqNgsAADBRSJBgXG7rk+cTNeavCy8OXpD+bv5Zs/FQpWlu73XfBUwutTW1ObW9oB0+9Y8LZsfxGttGMTq9/QPm4NVG8/rXQxek/735uv2kvpVEE6aI2pranNpe0A5f215kDly5ZdsoAADARCNBgglzNDGRfWXl0Lapj752yqzYWWKKq1n4EZNDbUttTG0taHcvr7hsjlyod9+B8cosbrlr29Qn1+SadZm1pvxWt/sOYGKpbamNqa0F7e7dfaXmVFGL+w4AAIDJQYIEE+7i9Wbzzrr8wQtWHX9fdcUcPFvHwpgYN7UhtSW1qdQ29s76fNv2MDmuVneY5RlVgxesOt7bX2aOJ855PwtjYpzUhtSW1KZS25janNoeAADAVCBBgklTUpP8dP8Xs4fWKfll4t8rE2X5FSz+iNFRm1HbURsK2pPaltqY2hqmRkVj8tP9Z9cPrVOif69PlBXf7HLfBYyM2ozazvD2pDamtgYAADCVSJBg0ukT/wNZdebVT+7+xP+ljy+bfYlJMLuK4H7UNtRG1FZS247aktoUdySlj5aA+KGg2byX8viNjvl7S01GXhO7iuC+1DbURtRWUtuO2pLaFMuLAACAdCFBgilVVN1hPktMiv9zXtbgxe7P3sg0C7dcN6fYKhiO2oLahNpG0E7UZtR21IYQLmW3us3mrDrzwsaCwYvdp9bmmU9/qDbn2SoYjtqC2oTaRtBO1GbUdtSGAAAA0o0ECdJGC2nOXH1t8AJYxy/nnDGLtxWa09fYVjRuVOeLtxbaNpDaJtRGWHQ1OrSQ5sID5YMXwDqe25BvPj9RYy6WkyyJG9X56uPViTYwlDzToTbCoqsAACBsSJAg7aobusxXR6vMjOWX7row/s28s2bZ9iJzNq/JfSd8o7pVHf967tAdRTr+lmgLahNqG4im2tbbZt+lBvP2nrsfo9AdA/86WWNyKtvdd8I3lxJ1qzqetmFoXREdagtqE7Utt913AgAAhAsJEoRKRV2n2ZJRaaZ/dHey5Im3zto7S45lN5jWzj733Yga1Z3qUHX5xNtn76pj1fnWI1W2DcAvNc09Zk9OvZm3++5kyYubCuydJaeLW0w7axFFlupOdai6VJ2m1vG83SVmb06DqU60AQAAgLAjQYLQKqvtNJsOVZppS3PuupDW8crKK/ZredyyH3qqI9WV6mx4Papu9TXVNeKhqqnH7MquN7N3Ft91Ia1jwbdlZtfFelPEbjihpzpSXanOhtej6lZ1rLoGAACIEhIkiISSGx3mm+M1Zubn18yjr919kf27+WfNh1sK7ToVTW297ieQLqoD1YXqRHWTWleqO9Wh6lJ1injTNq7fXbllPjxQbp5cc/dF9n9vvm4+O15t16lo6eKusXRTHaguVCeqm9S6Ut2pDlWXbM0LAACijAQJIqfndr/JvNpoVuwoNk8tvHjXBbiOpxNlS74qMt+dqTPl3Jkw6XSOda51znXuh9eH6kh1pTpT3QH30tM3YC6Ut5l1p26Y174uuusCXMfribIvTtSYY/lNppo7EyadzrHOtc65zv3w+lAdqa5UZ6o7AAAAH5AgQeTp8Ywdx6vNnC9yzS9m370Dio4n3soyb63NM9uOVpkrJa2mr/+O+0mMls6dzqHOpc6pzu3w8606UF2oTnh0BmOlxzMOXLllFn9fYZ5df/dinzq01sWyw5V20c/8RDvrH6Bfj5XOnc6hzqXO6fB1RHSoDlQXqhMenQEAAL4iQQLvXK9sN7tO1pj3Ncl/7/xPLuAfTRxa+2Lhluvmq2PV5lx+k2lgV4Wf0DnRudE50rnSOdO5G34+//zeBfNB4lzrnBdUsiYMJkdpQ7f5/lqj+eRolXl5W+FPLuCfTBxa++LTH6rNt5dvmUtV7aaxg0dzhtM50bnROdK50jnTuRt+PnWOP0n0fZ3zknrWhAEAAPFAggTeq23sNkcv1psVO0t+sjtO6qG7IV7/9KpZtbvUHMiqM7nlbaax1f/Eid6j3qves967zsG97gwJDp1DnUutM1LbyCfJSI/6tl6TWdxi1mfeMHN3l/zkAj84dDfEB/vLzcbTteaHgma7uGhzDHbC0nvUe9V71nvXObjXnSHBMTfR99dn1tp1RnRuAQAA4ogECWKnp3fA5FcECYESmxD47bAtZ1OPx2aeNs8sumhmf5FrEwPbj1WbE5caTEFlu2luD/+FhF6jXqtes1673oPei96T3tu93rMOnZNkwqjEniudM507IIxu990xxfWpCYEyM33YYqKpx9Pr8swb3xSbxQcrzLrMWrP/8i2TVdpq75ZojcCisHqNeq16zXrteg96L3pPem/3es86dE50boKEkc6Zzh0AAABIkACD9EjJ2ZRHSmYsv2yeeOv+iZPg+PmbmeaP754z05bk2ITCu+vzzfIdxebLA+Vm54kak3Gh3pzNa7JrdyjJUFzTYcrrOk11Q5epb+4xTW23TXviYqfn9oDRMgo69G+V6Wv6Hn2vfkY/q9+h36XfmXHhpv0b+lvLExdGCzYU2Neg16LXpNd2r9eceug96r0GjxzpHPDIEXxhHymp1CMlDfaRkrf3lD7wTorgeGptnpmxtdDM3lli7774+Eil+fLUDfP1+Zvm4NVG82NRi8lJ/N6C2kS/vJnon7e6TXWir9a13ja3Onrtri+diX6sBUwH+3Xi3yrT1/Q9+l79jH5Wv0O/K6eyzfxY2GL/hv6W/uaKI1U2qaHHYfSa9Nru9ZpTD71HvdfkI0cN9hzwyBEAAMCDkSABHqKzp9+U3ug0Z641mt0/3jCr95aZ+evyzIvLcsyv597/UZSwHHqNeq16zXrteg96L3pPem9AHHX3DpjKxh6TXdFmDiX6w+asOvPPjEozZ1eJmbbx4QmUdB96jXqtes167XoPei96T3pvAAAAGD0SJMA46bET3XFRUtNhsgubzfGcBrMvs9ZsOlxp1/T4cEuhfaTl1U+umL8tv2ReWJZjnl2Ubf7ywQXzpwXn7aMsSmI8NuuM+bfXM+2hf6tMX9P36Hv1My8szTEzPr5sf5d+58LN1+3f0N/ae+qGOX6pwb6G4uoO+5p4JAYYm9t9A/aOi4rGHnMt0bezSlrNkbwmsyu73mw8U2vvzFh0sMIs+LbM3qmhZMWbO4rNq9uLzP/dWmimbyowz28oMM+syzf/tSbXHvq3yvQ1fc+r2wvtz+hn5+8ttb9Lv3PVsWr7N3Yn/lZGbqP923oNutNEr0mvDQAAABOPBAkAAAAAAIg9EiQAAAAAACD2SJAAAAAAAIDYI0ECAAAAAABijwQJAAAAAACIPRIkAAAAAAAg9kiQAAAAAACA2CNBAgAAAAAAYo8ECQAAAAAAiD0SJAAAAAAAIPZIkAAAAAAAgNgjQQIAAAAAAGKPBAkAAAAAAIg9EiQAAAAAACD2SJAAAAAAAIDYI0ECAAAAAABijwQJAAAAAACIPRIkAAAAAAAg9kiQAAAAAACA2CNBAgAAAAAAYo8ECQAAAAAAiD0SJAAAAAAAIPZIkAAAAAAAgNgjQQIAAAAAAGKPBAkAAAAAAIg9EiQAAAAAACD2SJAAAAAAAIDYI0ECAAAAAABijwQJAAAAAACIPRIkAAAAAAAg9kiQAAAAAACA2CNBAgAAAAAAYo8ECQAAAAAAiD0SJAAAAAAAIPZIkAAAAAAAgNgjQQIAAAAAAGKPBAkAAAAAAIg9EiQAAAAAACD2SJAAAAAAAIDYI0ECAAAAAABijwQJAAAAAACIPRIkAAAAAAAg9kiQAAAAAACA2CNBAgAAAAAAYs6Y/x8Exq1AtrC+vAAAAABJRU5ErkJggg==)"
      ]
    },
    {
      "cell_type": "code",
      "metadata": {
        "id": "XbibVOXSFpCP",
        "colab_type": "code",
        "colab": {
          "base_uri": "https://localhost:8080/",
          "height": 35
        },
        "outputId": "84e7ebda-b577-4097-a8f8-22b82a647e10"
      },
      "source": [
        "# intersection of two sets\n",
        "set_b = {7,8,9,10,11,12,13}\n",
        "\n",
        "set_inter = set_a & set_b\n",
        "print(\"Intersection of two sets\", set_inter)"
      ],
      "execution_count": 31,
      "outputs": [
        {
          "output_type": "stream",
          "text": [
            "Intersection of two sets {8, 9, 10, 7}\n"
          ],
          "name": "stdout"
        }
      ]
    },
    {
      "cell_type": "markdown",
      "metadata": {
        "id": "1IUZsWS8IVYR",
        "colab_type": "text"
      },
      "source": [
        "**Membership**: Mebership of an item can be checked using in keyword."
      ]
    },
    {
      "cell_type": "code",
      "metadata": {
        "id": "S0WIfQ-tHdo-",
        "colab_type": "code",
        "colab": {
          "base_uri": "https://localhost:8080/",
          "height": 35
        },
        "outputId": "270a7e98-d389-4456-f8f7-f3fb30be5b32"
      },
      "source": [
        "print(\"Check if 8 is in set a:\", 8 in set_a)"
      ],
      "execution_count": 32,
      "outputs": [
        {
          "output_type": "stream",
          "text": [
            "Check if 8 is in set a True\n"
          ],
          "name": "stdout"
        }
      ]
    },
    {
      "cell_type": "markdown",
      "metadata": {
        "id": "22C1_eCSItGu",
        "colab_type": "text"
      },
      "source": [
        "**Looping**: Sets can be iterated using the simple loops or using enumerate() function."
      ]
    },
    {
      "cell_type": "code",
      "metadata": {
        "id": "hwUCa7BfIbzd",
        "colab_type": "code",
        "colab": {
          "base_uri": "https://localhost:8080/",
          "height": 191
        },
        "outputId": "55201914-19a8-43d8-bd34-4d4d8fa8fa63"
      },
      "source": [
        "# loop over items in set \n",
        "for item in set_a:\n",
        "  print('item:', item)"
      ],
      "execution_count": 34,
      "outputs": [
        {
          "output_type": "stream",
          "text": [
            "item: 1\n",
            "item: 2\n",
            "item: 3\n",
            "item: 4\n",
            "item: 5\n",
            "item: 6\n",
            "item: 7\n",
            "item: 8\n",
            "item: 9\n",
            "item: 10\n"
          ],
          "name": "stdout"
        }
      ]
    },
    {
      "cell_type": "markdown",
      "metadata": {
        "id": "CivQYQgZayJz",
        "colab_type": "text"
      },
      "source": [
        "## Dictionaries <br>\n",
        "Dictionary is a **mutable** and **unordered** data structure where each item is stored as `key:value` pair. Value of an item can reterieved efficietnly using **keys**, as each key is unique and corresponds to an item of any type in **value**. A dictionary is created by putting in items in a `key:pair` fashion inside curly braces `{}` separated by comma."
      ]
    },
    {
      "cell_type": "code",
      "metadata": {
        "id": "CDm4fFqoIzoa",
        "colab_type": "code",
        "colab": {}
      },
      "source": [
        "# an empty dictionary\n",
        "my_dictionary = {}\n",
        "\n",
        "# telephone directory\n",
        "phone_directory = {'01234567':('Person A',22), '01234568':('Person B',23), '01234569':('Person C',18), '01234570':('Person D',34)}"
      ],
      "execution_count": 35,
      "outputs": []
    },
    {
      "cell_type": "markdown",
      "metadata": {
        "id": "zWmg7aPobu1U",
        "colab_type": "text"
      },
      "source": [
        "**Printing**: Dictionaries can be printed easily with the print() function."
      ]
    },
    {
      "cell_type": "code",
      "metadata": {
        "id": "3S8JM59RbnYA",
        "colab_type": "code",
        "colab": {
          "base_uri": "https://localhost:8080/",
          "height": 35
        },
        "outputId": "4dbae595-b462-4be1-fed1-3f7676a612c2"
      },
      "source": [
        "print(phone_directory)"
      ],
      "execution_count": 36,
      "outputs": [
        {
          "output_type": "stream",
          "text": [
            "{'01234567': ('Person A', 22), '01234568': ('Person B', 23), '01234569': ('Person C', 18), '01234570': ('Person D', 34)}\n"
          ],
          "name": "stdout"
        }
      ]
    },
    {
      "cell_type": "markdown",
      "metadata": {
        "id": "-nU3ACAwb8PX",
        "colab_type": "text"
      },
      "source": [
        "**Indexing**: Items in dict can be accessed using keys in square brackets `[key]` rather than indexes as it is an unordered data structure. If key is missing then it throws KeyError and to avoid this error `get()` function can be used which takes `key` as an argument and default value as an optional argument and return either `None` or default value."
      ]
    },
    {
      "cell_type": "code",
      "metadata": {
        "id": "X4h45Vkybx0_",
        "colab_type": "code",
        "colab": {
          "base_uri": "https://localhost:8080/",
          "height": 35
        },
        "outputId": "5db9fdaf-f066-4bf7-879a-29ac5558dbb4"
      },
      "source": [
        "# get person B using it's phone as key in []\n",
        "print(phone_directory['01234568']) # as my keys were strings"
      ],
      "execution_count": 37,
      "outputs": [
        {
          "output_type": "stream",
          "text": [
            "('Person B', 23)\n"
          ],
          "name": "stdout"
        }
      ]
    },
    {
      "cell_type": "code",
      "metadata": {
        "id": "yuhLvrGzc_b1",
        "colab_type": "code",
        "colab": {
          "base_uri": "https://localhost:8080/",
          "height": 183
        },
        "outputId": "136c61d7-bf4f-40d4-e3a2-7d9ad5a95fa0"
      },
      "source": [
        "# get person X using it's phone as key\n",
        "print(phone_directory['01234578']) # as my keys were strings"
      ],
      "execution_count": 38,
      "outputs": [
        {
          "output_type": "error",
          "ename": "KeyError",
          "evalue": "ignored",
          "traceback": [
            "\u001b[0;31m---------------------------------------------------------------------------\u001b[0m",
            "\u001b[0;31mKeyError\u001b[0m                                  Traceback (most recent call last)",
            "\u001b[0;32m<ipython-input-38-324f0ed78a22>\u001b[0m in \u001b[0;36m<module>\u001b[0;34m()\u001b[0m\n\u001b[1;32m      1\u001b[0m \u001b[0;31m# get person X using it's phone as key\u001b[0m\u001b[0;34m\u001b[0m\u001b[0;34m\u001b[0m\u001b[0;34m\u001b[0m\u001b[0m\n\u001b[0;32m----> 2\u001b[0;31m \u001b[0mprint\u001b[0m\u001b[0;34m(\u001b[0m\u001b[0mphone_directory\u001b[0m\u001b[0;34m[\u001b[0m\u001b[0;34m'01234578'\u001b[0m\u001b[0;34m]\u001b[0m\u001b[0;34m)\u001b[0m \u001b[0;31m# as my keys were strings\u001b[0m\u001b[0;34m\u001b[0m\u001b[0;34m\u001b[0m\u001b[0m\n\u001b[0m",
            "\u001b[0;31mKeyError\u001b[0m: '01234578'"
          ]
        }
      ]
    },
    {
      "cell_type": "code",
      "metadata": {
        "id": "Cfu65fvydP3A",
        "colab_type": "code",
        "colab": {
          "base_uri": "https://localhost:8080/",
          "height": 35
        },
        "outputId": "868d7d5f-9e9f-452c-e2a3-3f23d4961ae7"
      },
      "source": [
        "# get() function can be used to check for non existing keys with default values\n",
        "print(phone_directory.get('01234578', 'Phone dosen\\'t exist'))"
      ],
      "execution_count": 40,
      "outputs": [
        {
          "output_type": "stream",
          "text": [
            "Phone dosen't exist\n"
          ],
          "name": "stdout"
        }
      ]
    },
    {
      "cell_type": "markdown",
      "metadata": {
        "id": "vRGbw8A0eHb6",
        "colab_type": "text"
      },
      "source": [
        "**Manipulation**: Being mutable data type manipulation operations (add, update and remove) can be performed on dictionaries."
      ]
    },
    {
      "cell_type": "code",
      "metadata": {
        "id": "K8pVaXzIdmR5",
        "colab_type": "code",
        "colab": {
          "base_uri": "https://localhost:8080/",
          "height": 55
        },
        "outputId": "0de4b7cc-4df1-42cd-b9f2-80c8607aba4c"
      },
      "source": [
        "# adding person X with it's key\n",
        "phone_directory['01234578'] = ('Person X', 60)\n",
        "print(\"Added new number\", phone_directory)"
      ],
      "execution_count": 41,
      "outputs": [
        {
          "output_type": "stream",
          "text": [
            "Added new number {'01234567': ('Person A', 22), '01234568': ('Person B', 23), '01234569': ('Person C', 18), '01234570': ('Person D', 34), '01234578': ('Person X', 60)}\n"
          ],
          "name": "stdout"
        }
      ]
    },
    {
      "cell_type": "code",
      "metadata": {
        "id": "caSAJt2peXOx",
        "colab_type": "code",
        "colab": {
          "base_uri": "https://localhost:8080/",
          "height": 55
        },
        "outputId": "cebf794c-d52c-430c-c087-12cb15b2ad78"
      },
      "source": [
        "# editing person X to Z with it's key\n",
        "phone_directory['01234578'] = ('Person Z', 60)\n",
        "print(\"Modified new number\", phone_directory)"
      ],
      "execution_count": 42,
      "outputs": [
        {
          "output_type": "stream",
          "text": [
            "Modified new number {'01234567': ('Person A', 22), '01234568': ('Person B', 23), '01234569': ('Person C', 18), '01234570': ('Person D', 34), '01234578': ('Person Z', 60)}\n"
          ],
          "name": "stdout"
        }
      ]
    },
    {
      "cell_type": "code",
      "metadata": {
        "id": "NycQZshke1dI",
        "colab_type": "code",
        "colab": {
          "base_uri": "https://localhost:8080/",
          "height": 89
        },
        "outputId": "1815d6ba-b06d-4007-bca6-321aff6baacf"
      },
      "source": [
        "# adding person X with it's key\n",
        "phone_directory['01234577'] = ('Person X', 55)\n",
        "print(\"Added new number\", phone_directory)\n",
        "\n",
        "# removing person Z using pop\n",
        "phone_directory.pop('01234578')\n",
        "print(\"Removed Person Z\", phone_directory)\n",
        "\n",
        "# removing person X using del\n",
        "del phone_directory['01234577']\n",
        "print(\"Removed Person X\", phone_directory)\n"
      ],
      "execution_count": 44,
      "outputs": [
        {
          "output_type": "stream",
          "text": [
            "Added new number {'01234567': ('Person A', 22), '01234568': ('Person B', 23), '01234569': ('Person C', 18), '01234570': ('Person D', 34), '01234578': ('Person Z', 60), '01234577': ('Person X', 55)}\n",
            "Removed Person Z {'01234567': ('Person A', 22), '01234568': ('Person B', 23), '01234569': ('Person C', 18), '01234570': ('Person D', 34), '01234577': ('Person X', 55)}\n",
            "Removed Person X {'01234567': ('Person A', 22), '01234568': ('Person B', 23), '01234569': ('Person C', 18), '01234570': ('Person D', 34)}\n"
          ],
          "name": "stdout"
        }
      ]
    },
    {
      "cell_type": "markdown",
      "metadata": {
        "id": "gkTZSIS4gIij",
        "colab_type": "text"
      },
      "source": [
        "**Mixed Nested Dictionarie**s: Dictionaries can be made up of different data types and can be nested."
      ]
    },
    {
      "cell_type": "code",
      "metadata": {
        "id": "CssANelTfbdQ",
        "colab_type": "code",
        "colab": {
          "base_uri": "https://localhost:8080/",
          "height": 35
        },
        "outputId": "5d9176a7-9338-4ccc-dae8-89d62a830842"
      },
      "source": [
        "# mixed and nested dictionary\n",
        "mixed_nested_dict = {1: [1,2,3,4], 2: 'String', 3: {1:1, 2:2, 3:3}, 4: ('tuple')}\n",
        "print(mixed_nested_dict)"
      ],
      "execution_count": 45,
      "outputs": [
        {
          "output_type": "stream",
          "text": [
            "{1: [1, 2, 3, 4], 2: 'String', 3: {1: 1, 2: 2, 3: 3}, 4: 'tuple'}\n"
          ],
          "name": "stdout"
        }
      ]
    },
    {
      "cell_type": "markdown",
      "metadata": {
        "id": "Eg_c7AqegmeU",
        "colab_type": "text"
      },
      "source": [
        "**Looping**: Dictionaries can be iterated using the simple loops where `key` is returned and can be used to access the related item."
      ]
    },
    {
      "cell_type": "code",
      "metadata": {
        "id": "r3BbfSyEgcVa",
        "colab_type": "code",
        "colab": {
          "base_uri": "https://localhost:8080/",
          "height": 156
        },
        "outputId": "a40e3c33-2751-4043-9560-d0fc0ce4185a"
      },
      "source": [
        "# looping dictionary\n",
        "for key in phone_directory:\n",
        "  print(\"phone number\", key, \"\\ndetails\", phone_directory[key])"
      ],
      "execution_count": 46,
      "outputs": [
        {
          "output_type": "stream",
          "text": [
            "phone number 01234567 \n",
            "details ('Person A', 22)\n",
            "phone number 01234568 \n",
            "details ('Person B', 23)\n",
            "phone number 01234569 \n",
            "details ('Person C', 18)\n",
            "phone number 01234570 \n",
            "details ('Person D', 34)\n"
          ],
          "name": "stdout"
        }
      ]
    },
    {
      "cell_type": "code",
      "metadata": {
        "id": "Yzg2mH4Rg-2F",
        "colab_type": "code",
        "colab": {}
      },
      "source": [
        ""
      ],
      "execution_count": null,
      "outputs": []
    }
  ]
}